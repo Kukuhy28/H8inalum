{
 "cells": [
  {
   "cell_type": "code",
   "execution_count": 1,
   "metadata": {},
   "outputs": [],
   "source": [
    "import numpy as np \n",
    "import pandas as pd"
   ]
  },
  {
   "cell_type": "code",
   "execution_count": 62,
   "metadata": {},
   "outputs": [],
   "source": [
    "PL = pd.read_csv('Premier League.csv')"
   ]
  },
  {
   "cell_type": "code",
   "execution_count": 3,
   "metadata": {},
   "outputs": [
    {
     "data": {
      "text/html": [
       "<div>\n",
       "<style scoped>\n",
       "    .dataframe tbody tr th:only-of-type {\n",
       "        vertical-align: middle;\n",
       "    }\n",
       "\n",
       "    .dataframe tbody tr th {\n",
       "        vertical-align: top;\n",
       "    }\n",
       "\n",
       "    .dataframe thead th {\n",
       "        text-align: right;\n",
       "    }\n",
       "</style>\n",
       "<table border=\"1\" class=\"dataframe\">\n",
       "  <thead>\n",
       "    <tr style=\"text-align: right;\">\n",
       "      <th></th>\n",
       "      <th>team</th>\n",
       "      <th>wins</th>\n",
       "      <th>losses</th>\n",
       "      <th>goals</th>\n",
       "      <th>total_yel_card</th>\n",
       "      <th>total_red_card</th>\n",
       "      <th>total_scoring_att</th>\n",
       "      <th>ontarget_scoring_att</th>\n",
       "      <th>hit_woodwork</th>\n",
       "      <th>att_hd_goal</th>\n",
       "      <th>...</th>\n",
       "      <th>total_cross</th>\n",
       "      <th>corner_taken</th>\n",
       "      <th>touches</th>\n",
       "      <th>big_chance_missed</th>\n",
       "      <th>clearance_off_line</th>\n",
       "      <th>dispossessed</th>\n",
       "      <th>penalty_save</th>\n",
       "      <th>total_high_claim</th>\n",
       "      <th>punches</th>\n",
       "      <th>season</th>\n",
       "    </tr>\n",
       "  </thead>\n",
       "  <tbody>\n",
       "    <tr>\n",
       "      <th>0</th>\n",
       "      <td>Manchester United</td>\n",
       "      <td>28.0</td>\n",
       "      <td>5.0</td>\n",
       "      <td>83.0</td>\n",
       "      <td>60.0</td>\n",
       "      <td>1.0</td>\n",
       "      <td>698.0</td>\n",
       "      <td>256.0</td>\n",
       "      <td>21.0</td>\n",
       "      <td>12.0</td>\n",
       "      <td>...</td>\n",
       "      <td>918.0</td>\n",
       "      <td>258.0</td>\n",
       "      <td>25686.0</td>\n",
       "      <td>NaN</td>\n",
       "      <td>1.0</td>\n",
       "      <td>NaN</td>\n",
       "      <td>2.0</td>\n",
       "      <td>37.0</td>\n",
       "      <td>25.0</td>\n",
       "      <td>2006-2007</td>\n",
       "    </tr>\n",
       "    <tr>\n",
       "      <th>1</th>\n",
       "      <td>Chelsea</td>\n",
       "      <td>24.0</td>\n",
       "      <td>3.0</td>\n",
       "      <td>64.0</td>\n",
       "      <td>62.0</td>\n",
       "      <td>4.0</td>\n",
       "      <td>636.0</td>\n",
       "      <td>216.0</td>\n",
       "      <td>14.0</td>\n",
       "      <td>16.0</td>\n",
       "      <td>...</td>\n",
       "      <td>897.0</td>\n",
       "      <td>231.0</td>\n",
       "      <td>24010.0</td>\n",
       "      <td>NaN</td>\n",
       "      <td>2.0</td>\n",
       "      <td>NaN</td>\n",
       "      <td>1.0</td>\n",
       "      <td>74.0</td>\n",
       "      <td>22.0</td>\n",
       "      <td>2006-2007</td>\n",
       "    </tr>\n",
       "    <tr>\n",
       "      <th>2</th>\n",
       "      <td>Liverpool</td>\n",
       "      <td>20.0</td>\n",
       "      <td>10.0</td>\n",
       "      <td>57.0</td>\n",
       "      <td>44.0</td>\n",
       "      <td>0.0</td>\n",
       "      <td>668.0</td>\n",
       "      <td>214.0</td>\n",
       "      <td>15.0</td>\n",
       "      <td>8.0</td>\n",
       "      <td>...</td>\n",
       "      <td>1107.0</td>\n",
       "      <td>282.0</td>\n",
       "      <td>24150.0</td>\n",
       "      <td>NaN</td>\n",
       "      <td>1.0</td>\n",
       "      <td>NaN</td>\n",
       "      <td>0.0</td>\n",
       "      <td>51.0</td>\n",
       "      <td>27.0</td>\n",
       "      <td>2006-2007</td>\n",
       "    </tr>\n",
       "    <tr>\n",
       "      <th>3</th>\n",
       "      <td>Arsenal</td>\n",
       "      <td>19.0</td>\n",
       "      <td>8.0</td>\n",
       "      <td>63.0</td>\n",
       "      <td>59.0</td>\n",
       "      <td>3.0</td>\n",
       "      <td>638.0</td>\n",
       "      <td>226.0</td>\n",
       "      <td>19.0</td>\n",
       "      <td>10.0</td>\n",
       "      <td>...</td>\n",
       "      <td>873.0</td>\n",
       "      <td>278.0</td>\n",
       "      <td>25592.0</td>\n",
       "      <td>NaN</td>\n",
       "      <td>1.0</td>\n",
       "      <td>NaN</td>\n",
       "      <td>0.0</td>\n",
       "      <td>88.0</td>\n",
       "      <td>27.0</td>\n",
       "      <td>2006-2007</td>\n",
       "    </tr>\n",
       "    <tr>\n",
       "      <th>4</th>\n",
       "      <td>Tottenham Hotspur</td>\n",
       "      <td>17.0</td>\n",
       "      <td>12.0</td>\n",
       "      <td>57.0</td>\n",
       "      <td>48.0</td>\n",
       "      <td>3.0</td>\n",
       "      <td>520.0</td>\n",
       "      <td>184.0</td>\n",
       "      <td>6.0</td>\n",
       "      <td>5.0</td>\n",
       "      <td>...</td>\n",
       "      <td>796.0</td>\n",
       "      <td>181.0</td>\n",
       "      <td>22200.0</td>\n",
       "      <td>NaN</td>\n",
       "      <td>2.0</td>\n",
       "      <td>NaN</td>\n",
       "      <td>0.0</td>\n",
       "      <td>51.0</td>\n",
       "      <td>24.0</td>\n",
       "      <td>2006-2007</td>\n",
       "    </tr>\n",
       "  </tbody>\n",
       "</table>\n",
       "<p>5 rows × 42 columns</p>\n",
       "</div>"
      ],
      "text/plain": [
       "                team  wins  losses  goals  total_yel_card  total_red_card  \\\n",
       "0  Manchester United  28.0     5.0   83.0            60.0             1.0   \n",
       "1            Chelsea  24.0     3.0   64.0            62.0             4.0   \n",
       "2          Liverpool  20.0    10.0   57.0            44.0             0.0   \n",
       "3            Arsenal  19.0     8.0   63.0            59.0             3.0   \n",
       "4  Tottenham Hotspur  17.0    12.0   57.0            48.0             3.0   \n",
       "\n",
       "   total_scoring_att  ontarget_scoring_att  hit_woodwork  att_hd_goal  ...  \\\n",
       "0              698.0                 256.0          21.0         12.0  ...   \n",
       "1              636.0                 216.0          14.0         16.0  ...   \n",
       "2              668.0                 214.0          15.0          8.0  ...   \n",
       "3              638.0                 226.0          19.0         10.0  ...   \n",
       "4              520.0                 184.0           6.0          5.0  ...   \n",
       "\n",
       "   total_cross  corner_taken  touches  big_chance_missed  clearance_off_line  \\\n",
       "0        918.0         258.0  25686.0                NaN                 1.0   \n",
       "1        897.0         231.0  24010.0                NaN                 2.0   \n",
       "2       1107.0         282.0  24150.0                NaN                 1.0   \n",
       "3        873.0         278.0  25592.0                NaN                 1.0   \n",
       "4        796.0         181.0  22200.0                NaN                 2.0   \n",
       "\n",
       "   dispossessed  penalty_save  total_high_claim  punches     season  \n",
       "0           NaN           2.0              37.0     25.0  2006-2007  \n",
       "1           NaN           1.0              74.0     22.0  2006-2007  \n",
       "2           NaN           0.0              51.0     27.0  2006-2007  \n",
       "3           NaN           0.0              88.0     27.0  2006-2007  \n",
       "4           NaN           0.0              51.0     24.0  2006-2007  \n",
       "\n",
       "[5 rows x 42 columns]"
      ]
     },
     "execution_count": 3,
     "metadata": {},
     "output_type": "execute_result"
    }
   ],
   "source": [
    "PL.head()"
   ]
  },
  {
   "cell_type": "code",
   "execution_count": 4,
   "metadata": {},
   "outputs": [
    {
     "data": {
      "text/plain": [
       "240"
      ]
     },
     "execution_count": 4,
     "metadata": {},
     "output_type": "execute_result"
    }
   ],
   "source": [
    "len(PL)"
   ]
  },
  {
   "cell_type": "code",
   "execution_count": 5,
   "metadata": {},
   "outputs": [
    {
     "data": {
      "text/plain": [
       "(240, 42)"
      ]
     },
     "execution_count": 5,
     "metadata": {},
     "output_type": "execute_result"
    }
   ],
   "source": [
    "PL.shape"
   ]
  },
  {
   "cell_type": "code",
   "execution_count": 6,
   "metadata": {},
   "outputs": [
    {
     "data": {
      "text/plain": [
       "<bound method DataFrame.info of                      team  wins  losses  goals  total_yel_card  \\\n",
       "0       Manchester United  28.0     5.0   83.0            60.0   \n",
       "1                 Chelsea  24.0     3.0   64.0            62.0   \n",
       "2               Liverpool  20.0    10.0   57.0            44.0   \n",
       "3                 Arsenal  19.0     8.0   63.0            59.0   \n",
       "4       Tottenham Hotspur  17.0    12.0   57.0            48.0   \n",
       "..                    ...   ...     ...    ...             ...   \n",
       "235     Huddersfield Town   9.0    19.0   28.0            62.0   \n",
       "236          Swansea City   8.0    21.0   28.0            51.0   \n",
       "237           Southampton   7.0    16.0   37.0            63.0   \n",
       "238            Stoke City   7.0    19.0   35.0            62.0   \n",
       "239  West Bromwich Albion   6.0    19.0   31.0            73.0   \n",
       "\n",
       "     total_red_card  total_scoring_att  ontarget_scoring_att  hit_woodwork  \\\n",
       "0               1.0              698.0                 256.0          21.0   \n",
       "1               4.0              636.0                 216.0          14.0   \n",
       "2               0.0              668.0                 214.0          15.0   \n",
       "3               3.0              638.0                 226.0          19.0   \n",
       "4               3.0              520.0                 184.0           6.0   \n",
       "..              ...                ...                   ...           ...   \n",
       "235             3.0              362.0                 109.0           8.0   \n",
       "236             1.0              338.0                 103.0           8.0   \n",
       "237             2.0              450.0                 145.0          15.0   \n",
       "238             1.0              384.0                 132.0           8.0   \n",
       "239             1.0              378.0                 114.0           7.0   \n",
       "\n",
       "     att_hd_goal  ...  total_cross  corner_taken  touches  big_chance_missed  \\\n",
       "0           12.0  ...        918.0         258.0  25686.0                NaN   \n",
       "1           16.0  ...        897.0         231.0  24010.0                NaN   \n",
       "2            8.0  ...       1107.0         282.0  24150.0                NaN   \n",
       "3           10.0  ...        873.0         278.0  25592.0                NaN   \n",
       "4            5.0  ...        796.0         181.0  22200.0                NaN   \n",
       "..           ...  ...          ...           ...      ...                ...   \n",
       "235          5.0  ...        765.0         165.0  22619.0               21.0   \n",
       "236          3.0  ...        694.0         150.0  22775.0               26.0   \n",
       "237          7.0  ...        800.0         227.0  24639.0               37.0   \n",
       "238          8.0  ...        598.0         136.0  20368.0               33.0   \n",
       "239         10.0  ...        784.0         176.0  20552.0               28.0   \n",
       "\n",
       "     clearance_off_line  dispossessed  penalty_save  total_high_claim  \\\n",
       "0                   1.0           NaN           2.0              37.0   \n",
       "1                   2.0           NaN           1.0              74.0   \n",
       "2                   1.0           NaN           0.0              51.0   \n",
       "3                   1.0           NaN           0.0              88.0   \n",
       "4                   2.0           NaN           0.0              51.0   \n",
       "..                  ...           ...           ...               ...   \n",
       "235                 6.0         416.0           2.0              31.0   \n",
       "236                 1.0         439.0           3.0              44.0   \n",
       "237                 4.0         379.0           1.0              29.0   \n",
       "238                 3.0         402.0           0.0              27.0   \n",
       "239                 3.0         446.0           0.0              40.0   \n",
       "\n",
       "     punches     season  \n",
       "0       25.0  2006-2007  \n",
       "1       22.0  2006-2007  \n",
       "2       27.0  2006-2007  \n",
       "3       27.0  2006-2007  \n",
       "4       24.0  2006-2007  \n",
       "..       ...        ...  \n",
       "235     24.0  2017-2018  \n",
       "236     15.0  2017-2018  \n",
       "237     13.0  2017-2018  \n",
       "238     14.0  2017-2018  \n",
       "239      5.0  2017-2018  \n",
       "\n",
       "[240 rows x 42 columns]>"
      ]
     },
     "execution_count": 6,
     "metadata": {},
     "output_type": "execute_result"
    }
   ],
   "source": [
    "PL.info"
   ]
  },
  {
   "cell_type": "code",
   "execution_count": 7,
   "metadata": {},
   "outputs": [
    {
     "data": {
      "text/html": [
       "<div>\n",
       "<style scoped>\n",
       "    .dataframe tbody tr th:only-of-type {\n",
       "        vertical-align: middle;\n",
       "    }\n",
       "\n",
       "    .dataframe tbody tr th {\n",
       "        vertical-align: top;\n",
       "    }\n",
       "\n",
       "    .dataframe thead th {\n",
       "        text-align: right;\n",
       "    }\n",
       "</style>\n",
       "<table border=\"1\" class=\"dataframe\">\n",
       "  <thead>\n",
       "    <tr style=\"text-align: right;\">\n",
       "      <th></th>\n",
       "      <th>team</th>\n",
       "      <th>wins</th>\n",
       "      <th>losses</th>\n",
       "      <th>goals</th>\n",
       "      <th>total_yel_card</th>\n",
       "      <th>total_red_card</th>\n",
       "      <th>total_scoring_att</th>\n",
       "      <th>ontarget_scoring_att</th>\n",
       "      <th>hit_woodwork</th>\n",
       "      <th>att_hd_goal</th>\n",
       "      <th>...</th>\n",
       "      <th>total_cross</th>\n",
       "      <th>corner_taken</th>\n",
       "      <th>touches</th>\n",
       "      <th>big_chance_missed</th>\n",
       "      <th>clearance_off_line</th>\n",
       "      <th>dispossessed</th>\n",
       "      <th>penalty_save</th>\n",
       "      <th>total_high_claim</th>\n",
       "      <th>punches</th>\n",
       "      <th>season</th>\n",
       "    </tr>\n",
       "  </thead>\n",
       "  <tbody>\n",
       "    <tr>\n",
       "      <th>0</th>\n",
       "      <td>Manchester United</td>\n",
       "      <td>28.0</td>\n",
       "      <td>5.0</td>\n",
       "      <td>83.0</td>\n",
       "      <td>60.0</td>\n",
       "      <td>1.0</td>\n",
       "      <td>698.0</td>\n",
       "      <td>256.0</td>\n",
       "      <td>21.0</td>\n",
       "      <td>12.0</td>\n",
       "      <td>...</td>\n",
       "      <td>918.0</td>\n",
       "      <td>258.0</td>\n",
       "      <td>25686.0</td>\n",
       "      <td>NaN</td>\n",
       "      <td>1.0</td>\n",
       "      <td>NaN</td>\n",
       "      <td>2.0</td>\n",
       "      <td>37.0</td>\n",
       "      <td>25.0</td>\n",
       "      <td>2006-2007</td>\n",
       "    </tr>\n",
       "    <tr>\n",
       "      <th>1</th>\n",
       "      <td>Chelsea</td>\n",
       "      <td>24.0</td>\n",
       "      <td>3.0</td>\n",
       "      <td>64.0</td>\n",
       "      <td>62.0</td>\n",
       "      <td>4.0</td>\n",
       "      <td>636.0</td>\n",
       "      <td>216.0</td>\n",
       "      <td>14.0</td>\n",
       "      <td>16.0</td>\n",
       "      <td>...</td>\n",
       "      <td>897.0</td>\n",
       "      <td>231.0</td>\n",
       "      <td>24010.0</td>\n",
       "      <td>NaN</td>\n",
       "      <td>2.0</td>\n",
       "      <td>NaN</td>\n",
       "      <td>1.0</td>\n",
       "      <td>74.0</td>\n",
       "      <td>22.0</td>\n",
       "      <td>2006-2007</td>\n",
       "    </tr>\n",
       "    <tr>\n",
       "      <th>2</th>\n",
       "      <td>Liverpool</td>\n",
       "      <td>20.0</td>\n",
       "      <td>10.0</td>\n",
       "      <td>57.0</td>\n",
       "      <td>44.0</td>\n",
       "      <td>0.0</td>\n",
       "      <td>668.0</td>\n",
       "      <td>214.0</td>\n",
       "      <td>15.0</td>\n",
       "      <td>8.0</td>\n",
       "      <td>...</td>\n",
       "      <td>1107.0</td>\n",
       "      <td>282.0</td>\n",
       "      <td>24150.0</td>\n",
       "      <td>NaN</td>\n",
       "      <td>1.0</td>\n",
       "      <td>NaN</td>\n",
       "      <td>0.0</td>\n",
       "      <td>51.0</td>\n",
       "      <td>27.0</td>\n",
       "      <td>2006-2007</td>\n",
       "    </tr>\n",
       "    <tr>\n",
       "      <th>3</th>\n",
       "      <td>Arsenal</td>\n",
       "      <td>19.0</td>\n",
       "      <td>8.0</td>\n",
       "      <td>63.0</td>\n",
       "      <td>59.0</td>\n",
       "      <td>3.0</td>\n",
       "      <td>638.0</td>\n",
       "      <td>226.0</td>\n",
       "      <td>19.0</td>\n",
       "      <td>10.0</td>\n",
       "      <td>...</td>\n",
       "      <td>873.0</td>\n",
       "      <td>278.0</td>\n",
       "      <td>25592.0</td>\n",
       "      <td>NaN</td>\n",
       "      <td>1.0</td>\n",
       "      <td>NaN</td>\n",
       "      <td>0.0</td>\n",
       "      <td>88.0</td>\n",
       "      <td>27.0</td>\n",
       "      <td>2006-2007</td>\n",
       "    </tr>\n",
       "    <tr>\n",
       "      <th>4</th>\n",
       "      <td>Tottenham Hotspur</td>\n",
       "      <td>17.0</td>\n",
       "      <td>12.0</td>\n",
       "      <td>57.0</td>\n",
       "      <td>48.0</td>\n",
       "      <td>3.0</td>\n",
       "      <td>520.0</td>\n",
       "      <td>184.0</td>\n",
       "      <td>6.0</td>\n",
       "      <td>5.0</td>\n",
       "      <td>...</td>\n",
       "      <td>796.0</td>\n",
       "      <td>181.0</td>\n",
       "      <td>22200.0</td>\n",
       "      <td>NaN</td>\n",
       "      <td>2.0</td>\n",
       "      <td>NaN</td>\n",
       "      <td>0.0</td>\n",
       "      <td>51.0</td>\n",
       "      <td>24.0</td>\n",
       "      <td>2006-2007</td>\n",
       "    </tr>\n",
       "    <tr>\n",
       "      <th>...</th>\n",
       "      <td>...</td>\n",
       "      <td>...</td>\n",
       "      <td>...</td>\n",
       "      <td>...</td>\n",
       "      <td>...</td>\n",
       "      <td>...</td>\n",
       "      <td>...</td>\n",
       "      <td>...</td>\n",
       "      <td>...</td>\n",
       "      <td>...</td>\n",
       "      <td>...</td>\n",
       "      <td>...</td>\n",
       "      <td>...</td>\n",
       "      <td>...</td>\n",
       "      <td>...</td>\n",
       "      <td>...</td>\n",
       "      <td>...</td>\n",
       "      <td>...</td>\n",
       "      <td>...</td>\n",
       "      <td>...</td>\n",
       "      <td>...</td>\n",
       "    </tr>\n",
       "    <tr>\n",
       "      <th>235</th>\n",
       "      <td>Huddersfield Town</td>\n",
       "      <td>9.0</td>\n",
       "      <td>19.0</td>\n",
       "      <td>28.0</td>\n",
       "      <td>62.0</td>\n",
       "      <td>3.0</td>\n",
       "      <td>362.0</td>\n",
       "      <td>109.0</td>\n",
       "      <td>8.0</td>\n",
       "      <td>5.0</td>\n",
       "      <td>...</td>\n",
       "      <td>765.0</td>\n",
       "      <td>165.0</td>\n",
       "      <td>22619.0</td>\n",
       "      <td>21.0</td>\n",
       "      <td>6.0</td>\n",
       "      <td>416.0</td>\n",
       "      <td>2.0</td>\n",
       "      <td>31.0</td>\n",
       "      <td>24.0</td>\n",
       "      <td>2017-2018</td>\n",
       "    </tr>\n",
       "    <tr>\n",
       "      <th>236</th>\n",
       "      <td>Swansea City</td>\n",
       "      <td>8.0</td>\n",
       "      <td>21.0</td>\n",
       "      <td>28.0</td>\n",
       "      <td>51.0</td>\n",
       "      <td>1.0</td>\n",
       "      <td>338.0</td>\n",
       "      <td>103.0</td>\n",
       "      <td>8.0</td>\n",
       "      <td>3.0</td>\n",
       "      <td>...</td>\n",
       "      <td>694.0</td>\n",
       "      <td>150.0</td>\n",
       "      <td>22775.0</td>\n",
       "      <td>26.0</td>\n",
       "      <td>1.0</td>\n",
       "      <td>439.0</td>\n",
       "      <td>3.0</td>\n",
       "      <td>44.0</td>\n",
       "      <td>15.0</td>\n",
       "      <td>2017-2018</td>\n",
       "    </tr>\n",
       "    <tr>\n",
       "      <th>237</th>\n",
       "      <td>Southampton</td>\n",
       "      <td>7.0</td>\n",
       "      <td>16.0</td>\n",
       "      <td>37.0</td>\n",
       "      <td>63.0</td>\n",
       "      <td>2.0</td>\n",
       "      <td>450.0</td>\n",
       "      <td>145.0</td>\n",
       "      <td>15.0</td>\n",
       "      <td>7.0</td>\n",
       "      <td>...</td>\n",
       "      <td>800.0</td>\n",
       "      <td>227.0</td>\n",
       "      <td>24639.0</td>\n",
       "      <td>37.0</td>\n",
       "      <td>4.0</td>\n",
       "      <td>379.0</td>\n",
       "      <td>1.0</td>\n",
       "      <td>29.0</td>\n",
       "      <td>13.0</td>\n",
       "      <td>2017-2018</td>\n",
       "    </tr>\n",
       "    <tr>\n",
       "      <th>238</th>\n",
       "      <td>Stoke City</td>\n",
       "      <td>7.0</td>\n",
       "      <td>19.0</td>\n",
       "      <td>35.0</td>\n",
       "      <td>62.0</td>\n",
       "      <td>1.0</td>\n",
       "      <td>384.0</td>\n",
       "      <td>132.0</td>\n",
       "      <td>8.0</td>\n",
       "      <td>8.0</td>\n",
       "      <td>...</td>\n",
       "      <td>598.0</td>\n",
       "      <td>136.0</td>\n",
       "      <td>20368.0</td>\n",
       "      <td>33.0</td>\n",
       "      <td>3.0</td>\n",
       "      <td>402.0</td>\n",
       "      <td>0.0</td>\n",
       "      <td>27.0</td>\n",
       "      <td>14.0</td>\n",
       "      <td>2017-2018</td>\n",
       "    </tr>\n",
       "    <tr>\n",
       "      <th>239</th>\n",
       "      <td>West Bromwich Albion</td>\n",
       "      <td>6.0</td>\n",
       "      <td>19.0</td>\n",
       "      <td>31.0</td>\n",
       "      <td>73.0</td>\n",
       "      <td>1.0</td>\n",
       "      <td>378.0</td>\n",
       "      <td>114.0</td>\n",
       "      <td>7.0</td>\n",
       "      <td>10.0</td>\n",
       "      <td>...</td>\n",
       "      <td>784.0</td>\n",
       "      <td>176.0</td>\n",
       "      <td>20552.0</td>\n",
       "      <td>28.0</td>\n",
       "      <td>3.0</td>\n",
       "      <td>446.0</td>\n",
       "      <td>0.0</td>\n",
       "      <td>40.0</td>\n",
       "      <td>5.0</td>\n",
       "      <td>2017-2018</td>\n",
       "    </tr>\n",
       "  </tbody>\n",
       "</table>\n",
       "<p>240 rows × 42 columns</p>\n",
       "</div>"
      ],
      "text/plain": [
       "                     team  wins  losses  goals  total_yel_card  \\\n",
       "0       Manchester United  28.0     5.0   83.0            60.0   \n",
       "1                 Chelsea  24.0     3.0   64.0            62.0   \n",
       "2               Liverpool  20.0    10.0   57.0            44.0   \n",
       "3                 Arsenal  19.0     8.0   63.0            59.0   \n",
       "4       Tottenham Hotspur  17.0    12.0   57.0            48.0   \n",
       "..                    ...   ...     ...    ...             ...   \n",
       "235     Huddersfield Town   9.0    19.0   28.0            62.0   \n",
       "236          Swansea City   8.0    21.0   28.0            51.0   \n",
       "237           Southampton   7.0    16.0   37.0            63.0   \n",
       "238            Stoke City   7.0    19.0   35.0            62.0   \n",
       "239  West Bromwich Albion   6.0    19.0   31.0            73.0   \n",
       "\n",
       "     total_red_card  total_scoring_att  ontarget_scoring_att  hit_woodwork  \\\n",
       "0               1.0              698.0                 256.0          21.0   \n",
       "1               4.0              636.0                 216.0          14.0   \n",
       "2               0.0              668.0                 214.0          15.0   \n",
       "3               3.0              638.0                 226.0          19.0   \n",
       "4               3.0              520.0                 184.0           6.0   \n",
       "..              ...                ...                   ...           ...   \n",
       "235             3.0              362.0                 109.0           8.0   \n",
       "236             1.0              338.0                 103.0           8.0   \n",
       "237             2.0              450.0                 145.0          15.0   \n",
       "238             1.0              384.0                 132.0           8.0   \n",
       "239             1.0              378.0                 114.0           7.0   \n",
       "\n",
       "     att_hd_goal  ...  total_cross  corner_taken  touches  big_chance_missed  \\\n",
       "0           12.0  ...        918.0         258.0  25686.0                NaN   \n",
       "1           16.0  ...        897.0         231.0  24010.0                NaN   \n",
       "2            8.0  ...       1107.0         282.0  24150.0                NaN   \n",
       "3           10.0  ...        873.0         278.0  25592.0                NaN   \n",
       "4            5.0  ...        796.0         181.0  22200.0                NaN   \n",
       "..           ...  ...          ...           ...      ...                ...   \n",
       "235          5.0  ...        765.0         165.0  22619.0               21.0   \n",
       "236          3.0  ...        694.0         150.0  22775.0               26.0   \n",
       "237          7.0  ...        800.0         227.0  24639.0               37.0   \n",
       "238          8.0  ...        598.0         136.0  20368.0               33.0   \n",
       "239         10.0  ...        784.0         176.0  20552.0               28.0   \n",
       "\n",
       "     clearance_off_line  dispossessed  penalty_save  total_high_claim  \\\n",
       "0                   1.0           NaN           2.0              37.0   \n",
       "1                   2.0           NaN           1.0              74.0   \n",
       "2                   1.0           NaN           0.0              51.0   \n",
       "3                   1.0           NaN           0.0              88.0   \n",
       "4                   2.0           NaN           0.0              51.0   \n",
       "..                  ...           ...           ...               ...   \n",
       "235                 6.0         416.0           2.0              31.0   \n",
       "236                 1.0         439.0           3.0              44.0   \n",
       "237                 4.0         379.0           1.0              29.0   \n",
       "238                 3.0         402.0           0.0              27.0   \n",
       "239                 3.0         446.0           0.0              40.0   \n",
       "\n",
       "     punches     season  \n",
       "0       25.0  2006-2007  \n",
       "1       22.0  2006-2007  \n",
       "2       27.0  2006-2007  \n",
       "3       27.0  2006-2007  \n",
       "4       24.0  2006-2007  \n",
       "..       ...        ...  \n",
       "235     24.0  2017-2018  \n",
       "236     15.0  2017-2018  \n",
       "237     13.0  2017-2018  \n",
       "238     14.0  2017-2018  \n",
       "239      5.0  2017-2018  \n",
       "\n",
       "[240 rows x 42 columns]"
      ]
     },
     "execution_count": 7,
     "metadata": {},
     "output_type": "execute_result"
    }
   ],
   "source": [
    "PL"
   ]
  },
  {
   "cell_type": "code",
   "execution_count": 8,
   "metadata": {},
   "outputs": [
    {
     "data": {
      "text/plain": [
       "867.0"
      ]
     },
     "execution_count": 8,
     "metadata": {},
     "output_type": "execute_result"
    }
   ],
   "source": [
    "PL.loc[PL[\"team\"] == \"Manchester United\",\"goals\"].sum()"
   ]
  },
  {
   "cell_type": "code",
   "execution_count": 9,
   "metadata": {},
   "outputs": [],
   "source": [
    "MU = PL.loc[PL[\"team\"] == \"Manchester United\"]"
   ]
  },
  {
   "cell_type": "code",
   "execution_count": 10,
   "metadata": {},
   "outputs": [
    {
     "data": {
      "text/html": [
       "<div>\n",
       "<style scoped>\n",
       "    .dataframe tbody tr th:only-of-type {\n",
       "        vertical-align: middle;\n",
       "    }\n",
       "\n",
       "    .dataframe tbody tr th {\n",
       "        vertical-align: top;\n",
       "    }\n",
       "\n",
       "    .dataframe thead th {\n",
       "        text-align: right;\n",
       "    }\n",
       "</style>\n",
       "<table border=\"1\" class=\"dataframe\">\n",
       "  <thead>\n",
       "    <tr style=\"text-align: right;\">\n",
       "      <th></th>\n",
       "      <th>team</th>\n",
       "      <th>wins</th>\n",
       "      <th>losses</th>\n",
       "      <th>goals</th>\n",
       "      <th>total_yel_card</th>\n",
       "      <th>total_red_card</th>\n",
       "      <th>total_scoring_att</th>\n",
       "      <th>ontarget_scoring_att</th>\n",
       "      <th>hit_woodwork</th>\n",
       "      <th>att_hd_goal</th>\n",
       "      <th>...</th>\n",
       "      <th>total_cross</th>\n",
       "      <th>corner_taken</th>\n",
       "      <th>touches</th>\n",
       "      <th>big_chance_missed</th>\n",
       "      <th>clearance_off_line</th>\n",
       "      <th>dispossessed</th>\n",
       "      <th>penalty_save</th>\n",
       "      <th>total_high_claim</th>\n",
       "      <th>punches</th>\n",
       "      <th>season</th>\n",
       "    </tr>\n",
       "  </thead>\n",
       "  <tbody>\n",
       "    <tr>\n",
       "      <th>0</th>\n",
       "      <td>Manchester United</td>\n",
       "      <td>28.0</td>\n",
       "      <td>5.0</td>\n",
       "      <td>83.0</td>\n",
       "      <td>60.0</td>\n",
       "      <td>1.0</td>\n",
       "      <td>698.0</td>\n",
       "      <td>256.0</td>\n",
       "      <td>21.0</td>\n",
       "      <td>12.0</td>\n",
       "      <td>...</td>\n",
       "      <td>918.0</td>\n",
       "      <td>258.0</td>\n",
       "      <td>25686.0</td>\n",
       "      <td>NaN</td>\n",
       "      <td>1.0</td>\n",
       "      <td>NaN</td>\n",
       "      <td>2.0</td>\n",
       "      <td>37.0</td>\n",
       "      <td>25.0</td>\n",
       "      <td>2006-2007</td>\n",
       "    </tr>\n",
       "    <tr>\n",
       "      <th>20</th>\n",
       "      <td>Manchester United</td>\n",
       "      <td>27.0</td>\n",
       "      <td>5.0</td>\n",
       "      <td>80.0</td>\n",
       "      <td>51.0</td>\n",
       "      <td>2.0</td>\n",
       "      <td>696.0</td>\n",
       "      <td>260.0</td>\n",
       "      <td>16.0</td>\n",
       "      <td>12.0</td>\n",
       "      <td>...</td>\n",
       "      <td>936.0</td>\n",
       "      <td>261.0</td>\n",
       "      <td>26620.0</td>\n",
       "      <td>NaN</td>\n",
       "      <td>10.0</td>\n",
       "      <td>627.0</td>\n",
       "      <td>0.0</td>\n",
       "      <td>47.0</td>\n",
       "      <td>23.0</td>\n",
       "      <td>2007-2008</td>\n",
       "    </tr>\n",
       "    <tr>\n",
       "      <th>40</th>\n",
       "      <td>Manchester United</td>\n",
       "      <td>28.0</td>\n",
       "      <td>4.0</td>\n",
       "      <td>68.0</td>\n",
       "      <td>61.0</td>\n",
       "      <td>5.0</td>\n",
       "      <td>715.0</td>\n",
       "      <td>230.0</td>\n",
       "      <td>9.0</td>\n",
       "      <td>7.0</td>\n",
       "      <td>...</td>\n",
       "      <td>1039.0</td>\n",
       "      <td>257.0</td>\n",
       "      <td>30077.0</td>\n",
       "      <td>NaN</td>\n",
       "      <td>3.0</td>\n",
       "      <td>579.0</td>\n",
       "      <td>0.0</td>\n",
       "      <td>56.0</td>\n",
       "      <td>22.0</td>\n",
       "      <td>2008-2009</td>\n",
       "    </tr>\n",
       "    <tr>\n",
       "      <th>61</th>\n",
       "      <td>Manchester United</td>\n",
       "      <td>27.0</td>\n",
       "      <td>7.0</td>\n",
       "      <td>86.0</td>\n",
       "      <td>49.0</td>\n",
       "      <td>4.0</td>\n",
       "      <td>695.0</td>\n",
       "      <td>221.0</td>\n",
       "      <td>12.0</td>\n",
       "      <td>14.0</td>\n",
       "      <td>...</td>\n",
       "      <td>1156.0</td>\n",
       "      <td>297.0</td>\n",
       "      <td>28968.0</td>\n",
       "      <td>NaN</td>\n",
       "      <td>2.0</td>\n",
       "      <td>622.0</td>\n",
       "      <td>0.0</td>\n",
       "      <td>65.0</td>\n",
       "      <td>18.0</td>\n",
       "      <td>2009-2010</td>\n",
       "    </tr>\n",
       "    <tr>\n",
       "      <th>80</th>\n",
       "      <td>Manchester United</td>\n",
       "      <td>23.0</td>\n",
       "      <td>4.0</td>\n",
       "      <td>78.0</td>\n",
       "      <td>56.0</td>\n",
       "      <td>3.0</td>\n",
       "      <td>618.0</td>\n",
       "      <td>212.0</td>\n",
       "      <td>15.0</td>\n",
       "      <td>18.0</td>\n",
       "      <td>...</td>\n",
       "      <td>1005.0</td>\n",
       "      <td>243.0</td>\n",
       "      <td>26671.0</td>\n",
       "      <td>50.0</td>\n",
       "      <td>2.0</td>\n",
       "      <td>471.0</td>\n",
       "      <td>0.0</td>\n",
       "      <td>45.0</td>\n",
       "      <td>16.0</td>\n",
       "      <td>2010-2011</td>\n",
       "    </tr>\n",
       "    <tr>\n",
       "      <th>101</th>\n",
       "      <td>Manchester United</td>\n",
       "      <td>28.0</td>\n",
       "      <td>5.0</td>\n",
       "      <td>89.0</td>\n",
       "      <td>51.0</td>\n",
       "      <td>1.0</td>\n",
       "      <td>646.0</td>\n",
       "      <td>243.0</td>\n",
       "      <td>17.0</td>\n",
       "      <td>16.0</td>\n",
       "      <td>...</td>\n",
       "      <td>1018.0</td>\n",
       "      <td>279.0</td>\n",
       "      <td>28113.0</td>\n",
       "      <td>64.0</td>\n",
       "      <td>3.0</td>\n",
       "      <td>521.0</td>\n",
       "      <td>1.0</td>\n",
       "      <td>37.0</td>\n",
       "      <td>26.0</td>\n",
       "      <td>2011-2012</td>\n",
       "    </tr>\n",
       "    <tr>\n",
       "      <th>120</th>\n",
       "      <td>Manchester United</td>\n",
       "      <td>28.0</td>\n",
       "      <td>5.0</td>\n",
       "      <td>86.0</td>\n",
       "      <td>57.0</td>\n",
       "      <td>1.0</td>\n",
       "      <td>561.0</td>\n",
       "      <td>213.0</td>\n",
       "      <td>24.0</td>\n",
       "      <td>14.0</td>\n",
       "      <td>...</td>\n",
       "      <td>962.0</td>\n",
       "      <td>218.0</td>\n",
       "      <td>27264.0</td>\n",
       "      <td>65.0</td>\n",
       "      <td>5.0</td>\n",
       "      <td>506.0</td>\n",
       "      <td>0.0</td>\n",
       "      <td>38.0</td>\n",
       "      <td>28.0</td>\n",
       "      <td>2012-2013</td>\n",
       "    </tr>\n",
       "    <tr>\n",
       "      <th>146</th>\n",
       "      <td>Manchester United</td>\n",
       "      <td>19.0</td>\n",
       "      <td>12.0</td>\n",
       "      <td>64.0</td>\n",
       "      <td>66.0</td>\n",
       "      <td>3.0</td>\n",
       "      <td>526.0</td>\n",
       "      <td>183.0</td>\n",
       "      <td>16.0</td>\n",
       "      <td>10.0</td>\n",
       "      <td>...</td>\n",
       "      <td>1000.0</td>\n",
       "      <td>216.0</td>\n",
       "      <td>27367.0</td>\n",
       "      <td>38.0</td>\n",
       "      <td>1.0</td>\n",
       "      <td>491.0</td>\n",
       "      <td>0.0</td>\n",
       "      <td>32.0</td>\n",
       "      <td>14.0</td>\n",
       "      <td>2013-2014</td>\n",
       "    </tr>\n",
       "    <tr>\n",
       "      <th>163</th>\n",
       "      <td>Manchester United</td>\n",
       "      <td>20.0</td>\n",
       "      <td>8.0</td>\n",
       "      <td>62.0</td>\n",
       "      <td>64.0</td>\n",
       "      <td>5.0</td>\n",
       "      <td>512.0</td>\n",
       "      <td>180.0</td>\n",
       "      <td>11.0</td>\n",
       "      <td>12.0</td>\n",
       "      <td>...</td>\n",
       "      <td>908.0</td>\n",
       "      <td>214.0</td>\n",
       "      <td>29044.0</td>\n",
       "      <td>43.0</td>\n",
       "      <td>5.0</td>\n",
       "      <td>393.0</td>\n",
       "      <td>1.0</td>\n",
       "      <td>33.0</td>\n",
       "      <td>7.0</td>\n",
       "      <td>2014-2015</td>\n",
       "    </tr>\n",
       "    <tr>\n",
       "      <th>183</th>\n",
       "      <td>Manchester United</td>\n",
       "      <td>19.0</td>\n",
       "      <td>10.0</td>\n",
       "      <td>49.0</td>\n",
       "      <td>65.0</td>\n",
       "      <td>1.0</td>\n",
       "      <td>430.0</td>\n",
       "      <td>144.0</td>\n",
       "      <td>9.0</td>\n",
       "      <td>5.0</td>\n",
       "      <td>...</td>\n",
       "      <td>786.0</td>\n",
       "      <td>228.0</td>\n",
       "      <td>27542.0</td>\n",
       "      <td>28.0</td>\n",
       "      <td>4.0</td>\n",
       "      <td>522.0</td>\n",
       "      <td>0.0</td>\n",
       "      <td>29.0</td>\n",
       "      <td>13.0</td>\n",
       "      <td>2015-2016</td>\n",
       "    </tr>\n",
       "    <tr>\n",
       "      <th>205</th>\n",
       "      <td>Manchester United</td>\n",
       "      <td>18.0</td>\n",
       "      <td>5.0</td>\n",
       "      <td>54.0</td>\n",
       "      <td>78.0</td>\n",
       "      <td>2.0</td>\n",
       "      <td>591.0</td>\n",
       "      <td>210.0</td>\n",
       "      <td>19.0</td>\n",
       "      <td>9.0</td>\n",
       "      <td>...</td>\n",
       "      <td>848.0</td>\n",
       "      <td>217.0</td>\n",
       "      <td>28119.0</td>\n",
       "      <td>50.0</td>\n",
       "      <td>1.0</td>\n",
       "      <td>389.0</td>\n",
       "      <td>1.0</td>\n",
       "      <td>32.0</td>\n",
       "      <td>4.0</td>\n",
       "      <td>2016-2017</td>\n",
       "    </tr>\n",
       "    <tr>\n",
       "      <th>221</th>\n",
       "      <td>Manchester United</td>\n",
       "      <td>25.0</td>\n",
       "      <td>7.0</td>\n",
       "      <td>68.0</td>\n",
       "      <td>64.0</td>\n",
       "      <td>1.0</td>\n",
       "      <td>512.0</td>\n",
       "      <td>178.0</td>\n",
       "      <td>16.0</td>\n",
       "      <td>12.0</td>\n",
       "      <td>...</td>\n",
       "      <td>753.0</td>\n",
       "      <td>220.0</td>\n",
       "      <td>27525.0</td>\n",
       "      <td>42.0</td>\n",
       "      <td>4.0</td>\n",
       "      <td>399.0</td>\n",
       "      <td>0.0</td>\n",
       "      <td>20.0</td>\n",
       "      <td>6.0</td>\n",
       "      <td>2017-2018</td>\n",
       "    </tr>\n",
       "  </tbody>\n",
       "</table>\n",
       "<p>12 rows × 42 columns</p>\n",
       "</div>"
      ],
      "text/plain": [
       "                  team  wins  losses  goals  total_yel_card  total_red_card  \\\n",
       "0    Manchester United  28.0     5.0   83.0            60.0             1.0   \n",
       "20   Manchester United  27.0     5.0   80.0            51.0             2.0   \n",
       "40   Manchester United  28.0     4.0   68.0            61.0             5.0   \n",
       "61   Manchester United  27.0     7.0   86.0            49.0             4.0   \n",
       "80   Manchester United  23.0     4.0   78.0            56.0             3.0   \n",
       "101  Manchester United  28.0     5.0   89.0            51.0             1.0   \n",
       "120  Manchester United  28.0     5.0   86.0            57.0             1.0   \n",
       "146  Manchester United  19.0    12.0   64.0            66.0             3.0   \n",
       "163  Manchester United  20.0     8.0   62.0            64.0             5.0   \n",
       "183  Manchester United  19.0    10.0   49.0            65.0             1.0   \n",
       "205  Manchester United  18.0     5.0   54.0            78.0             2.0   \n",
       "221  Manchester United  25.0     7.0   68.0            64.0             1.0   \n",
       "\n",
       "     total_scoring_att  ontarget_scoring_att  hit_woodwork  att_hd_goal  ...  \\\n",
       "0                698.0                 256.0          21.0         12.0  ...   \n",
       "20               696.0                 260.0          16.0         12.0  ...   \n",
       "40               715.0                 230.0           9.0          7.0  ...   \n",
       "61               695.0                 221.0          12.0         14.0  ...   \n",
       "80               618.0                 212.0          15.0         18.0  ...   \n",
       "101              646.0                 243.0          17.0         16.0  ...   \n",
       "120              561.0                 213.0          24.0         14.0  ...   \n",
       "146              526.0                 183.0          16.0         10.0  ...   \n",
       "163              512.0                 180.0          11.0         12.0  ...   \n",
       "183              430.0                 144.0           9.0          5.0  ...   \n",
       "205              591.0                 210.0          19.0          9.0  ...   \n",
       "221              512.0                 178.0          16.0         12.0  ...   \n",
       "\n",
       "     total_cross  corner_taken  touches  big_chance_missed  \\\n",
       "0          918.0         258.0  25686.0                NaN   \n",
       "20         936.0         261.0  26620.0                NaN   \n",
       "40        1039.0         257.0  30077.0                NaN   \n",
       "61        1156.0         297.0  28968.0                NaN   \n",
       "80        1005.0         243.0  26671.0               50.0   \n",
       "101       1018.0         279.0  28113.0               64.0   \n",
       "120        962.0         218.0  27264.0               65.0   \n",
       "146       1000.0         216.0  27367.0               38.0   \n",
       "163        908.0         214.0  29044.0               43.0   \n",
       "183        786.0         228.0  27542.0               28.0   \n",
       "205        848.0         217.0  28119.0               50.0   \n",
       "221        753.0         220.0  27525.0               42.0   \n",
       "\n",
       "     clearance_off_line  dispossessed  penalty_save  total_high_claim  \\\n",
       "0                   1.0           NaN           2.0              37.0   \n",
       "20                 10.0         627.0           0.0              47.0   \n",
       "40                  3.0         579.0           0.0              56.0   \n",
       "61                  2.0         622.0           0.0              65.0   \n",
       "80                  2.0         471.0           0.0              45.0   \n",
       "101                 3.0         521.0           1.0              37.0   \n",
       "120                 5.0         506.0           0.0              38.0   \n",
       "146                 1.0         491.0           0.0              32.0   \n",
       "163                 5.0         393.0           1.0              33.0   \n",
       "183                 4.0         522.0           0.0              29.0   \n",
       "205                 1.0         389.0           1.0              32.0   \n",
       "221                 4.0         399.0           0.0              20.0   \n",
       "\n",
       "     punches     season  \n",
       "0       25.0  2006-2007  \n",
       "20      23.0  2007-2008  \n",
       "40      22.0  2008-2009  \n",
       "61      18.0  2009-2010  \n",
       "80      16.0  2010-2011  \n",
       "101     26.0  2011-2012  \n",
       "120     28.0  2012-2013  \n",
       "146     14.0  2013-2014  \n",
       "163      7.0  2014-2015  \n",
       "183     13.0  2015-2016  \n",
       "205      4.0  2016-2017  \n",
       "221      6.0  2017-2018  \n",
       "\n",
       "[12 rows x 42 columns]"
      ]
     },
     "execution_count": 10,
     "metadata": {},
     "output_type": "execute_result"
    }
   ],
   "source": [
    "MU"
   ]
  },
  {
   "cell_type": "code",
   "execution_count": 11,
   "metadata": {},
   "outputs": [
    {
     "data": {
      "text/html": [
       "<div>\n",
       "<style scoped>\n",
       "    .dataframe tbody tr th:only-of-type {\n",
       "        vertical-align: middle;\n",
       "    }\n",
       "\n",
       "    .dataframe tbody tr th {\n",
       "        vertical-align: top;\n",
       "    }\n",
       "\n",
       "    .dataframe thead th {\n",
       "        text-align: right;\n",
       "    }\n",
       "</style>\n",
       "<table border=\"1\" class=\"dataframe\">\n",
       "  <thead>\n",
       "    <tr style=\"text-align: right;\">\n",
       "      <th></th>\n",
       "      <th>wins</th>\n",
       "      <th>losses</th>\n",
       "      <th>goals</th>\n",
       "      <th>total_yel_card</th>\n",
       "      <th>total_red_card</th>\n",
       "      <th>total_scoring_att</th>\n",
       "      <th>ontarget_scoring_att</th>\n",
       "      <th>hit_woodwork</th>\n",
       "      <th>att_hd_goal</th>\n",
       "      <th>att_pen_goal</th>\n",
       "      <th>...</th>\n",
       "      <th>backward_pass</th>\n",
       "      <th>total_cross</th>\n",
       "      <th>corner_taken</th>\n",
       "      <th>touches</th>\n",
       "      <th>big_chance_missed</th>\n",
       "      <th>clearance_off_line</th>\n",
       "      <th>dispossessed</th>\n",
       "      <th>penalty_save</th>\n",
       "      <th>total_high_claim</th>\n",
       "      <th>punches</th>\n",
       "    </tr>\n",
       "  </thead>\n",
       "  <tbody>\n",
       "    <tr>\n",
       "      <th>count</th>\n",
       "      <td>240.000000</td>\n",
       "      <td>240.000000</td>\n",
       "      <td>240.000000</td>\n",
       "      <td>240.000000</td>\n",
       "      <td>240.000000</td>\n",
       "      <td>240.000000</td>\n",
       "      <td>240.000000</td>\n",
       "      <td>240.000000</td>\n",
       "      <td>240.000000</td>\n",
       "      <td>240.000000</td>\n",
       "      <td>...</td>\n",
       "      <td>160.000000</td>\n",
       "      <td>240.000000</td>\n",
       "      <td>240.000000</td>\n",
       "      <td>240.000000</td>\n",
       "      <td>160.000000</td>\n",
       "      <td>240.000000</td>\n",
       "      <td>220.000000</td>\n",
       "      <td>240.000000</td>\n",
       "      <td>240.000000</td>\n",
       "      <td>240.000000</td>\n",
       "    </tr>\n",
       "    <tr>\n",
       "      <th>mean</th>\n",
       "      <td>14.150000</td>\n",
       "      <td>14.150000</td>\n",
       "      <td>51.062500</td>\n",
       "      <td>61.079167</td>\n",
       "      <td>2.862500</td>\n",
       "      <td>514.241667</td>\n",
       "      <td>168.116667</td>\n",
       "      <td>12.283333</td>\n",
       "      <td>9.016667</td>\n",
       "      <td>3.650000</td>\n",
       "      <td>...</td>\n",
       "      <td>2465.650000</td>\n",
       "      <td>831.370833</td>\n",
       "      <td>207.191667</td>\n",
       "      <td>23908.962500</td>\n",
       "      <td>39.200000</td>\n",
       "      <td>4.991667</td>\n",
       "      <td>472.968182</td>\n",
       "      <td>0.837500</td>\n",
       "      <td>54.920833</td>\n",
       "      <td>22.783333</td>\n",
       "    </tr>\n",
       "    <tr>\n",
       "      <th>std</th>\n",
       "      <td>6.022482</td>\n",
       "      <td>5.596846</td>\n",
       "      <td>16.203474</td>\n",
       "      <td>10.078249</td>\n",
       "      <td>1.802442</td>\n",
       "      <td>95.979164</td>\n",
       "      <td>38.748882</td>\n",
       "      <td>4.820950</td>\n",
       "      <td>3.659077</td>\n",
       "      <td>2.052246</td>\n",
       "      <td>...</td>\n",
       "      <td>491.135729</td>\n",
       "      <td>118.551756</td>\n",
       "      <td>35.933177</td>\n",
       "      <td>3247.161627</td>\n",
       "      <td>13.391915</td>\n",
       "      <td>2.804646</td>\n",
       "      <td>84.653006</td>\n",
       "      <td>0.947718</td>\n",
       "      <td>18.780999</td>\n",
       "      <td>9.148869</td>\n",
       "    </tr>\n",
       "    <tr>\n",
       "      <th>min</th>\n",
       "      <td>1.000000</td>\n",
       "      <td>2.000000</td>\n",
       "      <td>20.000000</td>\n",
       "      <td>38.000000</td>\n",
       "      <td>0.000000</td>\n",
       "      <td>338.000000</td>\n",
       "      <td>94.000000</td>\n",
       "      <td>4.000000</td>\n",
       "      <td>1.000000</td>\n",
       "      <td>0.000000</td>\n",
       "      <td>...</td>\n",
       "      <td>1382.000000</td>\n",
       "      <td>572.000000</td>\n",
       "      <td>136.000000</td>\n",
       "      <td>16772.000000</td>\n",
       "      <td>18.000000</td>\n",
       "      <td>0.000000</td>\n",
       "      <td>296.000000</td>\n",
       "      <td>0.000000</td>\n",
       "      <td>19.000000</td>\n",
       "      <td>4.000000</td>\n",
       "    </tr>\n",
       "    <tr>\n",
       "      <th>25%</th>\n",
       "      <td>10.000000</td>\n",
       "      <td>10.000000</td>\n",
       "      <td>40.000000</td>\n",
       "      <td>54.000000</td>\n",
       "      <td>1.000000</td>\n",
       "      <td>441.000000</td>\n",
       "      <td>140.000000</td>\n",
       "      <td>9.000000</td>\n",
       "      <td>6.000000</td>\n",
       "      <td>2.000000</td>\n",
       "      <td>...</td>\n",
       "      <td>2120.000000</td>\n",
       "      <td>749.000000</td>\n",
       "      <td>180.000000</td>\n",
       "      <td>21577.000000</td>\n",
       "      <td>30.000000</td>\n",
       "      <td>3.000000</td>\n",
       "      <td>412.750000</td>\n",
       "      <td>0.000000</td>\n",
       "      <td>40.000000</td>\n",
       "      <td>17.000000</td>\n",
       "    </tr>\n",
       "    <tr>\n",
       "      <th>50%</th>\n",
       "      <td>12.000000</td>\n",
       "      <td>15.000000</td>\n",
       "      <td>47.000000</td>\n",
       "      <td>60.500000</td>\n",
       "      <td>3.000000</td>\n",
       "      <td>498.500000</td>\n",
       "      <td>158.500000</td>\n",
       "      <td>11.500000</td>\n",
       "      <td>9.000000</td>\n",
       "      <td>3.500000</td>\n",
       "      <td>...</td>\n",
       "      <td>2374.000000</td>\n",
       "      <td>818.000000</td>\n",
       "      <td>201.000000</td>\n",
       "      <td>23168.500000</td>\n",
       "      <td>37.000000</td>\n",
       "      <td>5.000000</td>\n",
       "      <td>465.000000</td>\n",
       "      <td>1.000000</td>\n",
       "      <td>53.000000</td>\n",
       "      <td>22.000000</td>\n",
       "    </tr>\n",
       "    <tr>\n",
       "      <th>75%</th>\n",
       "      <td>18.000000</td>\n",
       "      <td>19.000000</td>\n",
       "      <td>61.000000</td>\n",
       "      <td>67.000000</td>\n",
       "      <td>4.000000</td>\n",
       "      <td>572.000000</td>\n",
       "      <td>194.250000</td>\n",
       "      <td>15.000000</td>\n",
       "      <td>12.000000</td>\n",
       "      <td>5.000000</td>\n",
       "      <td>...</td>\n",
       "      <td>2808.750000</td>\n",
       "      <td>911.250000</td>\n",
       "      <td>230.000000</td>\n",
       "      <td>26294.000000</td>\n",
       "      <td>44.250000</td>\n",
       "      <td>7.000000</td>\n",
       "      <td>522.500000</td>\n",
       "      <td>1.000000</td>\n",
       "      <td>68.000000</td>\n",
       "      <td>27.000000</td>\n",
       "    </tr>\n",
       "    <tr>\n",
       "      <th>max</th>\n",
       "      <td>32.000000</td>\n",
       "      <td>29.000000</td>\n",
       "      <td>106.000000</td>\n",
       "      <td>94.000000</td>\n",
       "      <td>9.000000</td>\n",
       "      <td>834.000000</td>\n",
       "      <td>288.000000</td>\n",
       "      <td>33.000000</td>\n",
       "      <td>18.000000</td>\n",
       "      <td>11.000000</td>\n",
       "      <td>...</td>\n",
       "      <td>4546.000000</td>\n",
       "      <td>1156.000000</td>\n",
       "      <td>309.000000</td>\n",
       "      <td>35130.000000</td>\n",
       "      <td>88.000000</td>\n",
       "      <td>16.000000</td>\n",
       "      <td>776.000000</td>\n",
       "      <td>5.000000</td>\n",
       "      <td>118.000000</td>\n",
       "      <td>66.000000</td>\n",
       "    </tr>\n",
       "  </tbody>\n",
       "</table>\n",
       "<p>8 rows × 40 columns</p>\n",
       "</div>"
      ],
      "text/plain": [
       "             wins      losses       goals  total_yel_card  total_red_card  \\\n",
       "count  240.000000  240.000000  240.000000      240.000000      240.000000   \n",
       "mean    14.150000   14.150000   51.062500       61.079167        2.862500   \n",
       "std      6.022482    5.596846   16.203474       10.078249        1.802442   \n",
       "min      1.000000    2.000000   20.000000       38.000000        0.000000   \n",
       "25%     10.000000   10.000000   40.000000       54.000000        1.000000   \n",
       "50%     12.000000   15.000000   47.000000       60.500000        3.000000   \n",
       "75%     18.000000   19.000000   61.000000       67.000000        4.000000   \n",
       "max     32.000000   29.000000  106.000000       94.000000        9.000000   \n",
       "\n",
       "       total_scoring_att  ontarget_scoring_att  hit_woodwork  att_hd_goal  \\\n",
       "count         240.000000            240.000000    240.000000   240.000000   \n",
       "mean          514.241667            168.116667     12.283333     9.016667   \n",
       "std            95.979164             38.748882      4.820950     3.659077   \n",
       "min           338.000000             94.000000      4.000000     1.000000   \n",
       "25%           441.000000            140.000000      9.000000     6.000000   \n",
       "50%           498.500000            158.500000     11.500000     9.000000   \n",
       "75%           572.000000            194.250000     15.000000    12.000000   \n",
       "max           834.000000            288.000000     33.000000    18.000000   \n",
       "\n",
       "       att_pen_goal  ...  backward_pass  total_cross  corner_taken  \\\n",
       "count    240.000000  ...     160.000000   240.000000    240.000000   \n",
       "mean       3.650000  ...    2465.650000   831.370833    207.191667   \n",
       "std        2.052246  ...     491.135729   118.551756     35.933177   \n",
       "min        0.000000  ...    1382.000000   572.000000    136.000000   \n",
       "25%        2.000000  ...    2120.000000   749.000000    180.000000   \n",
       "50%        3.500000  ...    2374.000000   818.000000    201.000000   \n",
       "75%        5.000000  ...    2808.750000   911.250000    230.000000   \n",
       "max       11.000000  ...    4546.000000  1156.000000    309.000000   \n",
       "\n",
       "            touches  big_chance_missed  clearance_off_line  dispossessed  \\\n",
       "count    240.000000         160.000000          240.000000    220.000000   \n",
       "mean   23908.962500          39.200000            4.991667    472.968182   \n",
       "std     3247.161627          13.391915            2.804646     84.653006   \n",
       "min    16772.000000          18.000000            0.000000    296.000000   \n",
       "25%    21577.000000          30.000000            3.000000    412.750000   \n",
       "50%    23168.500000          37.000000            5.000000    465.000000   \n",
       "75%    26294.000000          44.250000            7.000000    522.500000   \n",
       "max    35130.000000          88.000000           16.000000    776.000000   \n",
       "\n",
       "       penalty_save  total_high_claim     punches  \n",
       "count    240.000000        240.000000  240.000000  \n",
       "mean       0.837500         54.920833   22.783333  \n",
       "std        0.947718         18.780999    9.148869  \n",
       "min        0.000000         19.000000    4.000000  \n",
       "25%        0.000000         40.000000   17.000000  \n",
       "50%        1.000000         53.000000   22.000000  \n",
       "75%        1.000000         68.000000   27.000000  \n",
       "max        5.000000        118.000000   66.000000  \n",
       "\n",
       "[8 rows x 40 columns]"
      ]
     },
     "execution_count": 11,
     "metadata": {},
     "output_type": "execute_result"
    }
   ],
   "source": [
    "PL.describe()"
   ]
  },
  {
   "cell_type": "code",
   "execution_count": 12,
   "metadata": {},
   "outputs": [],
   "source": [
    "inti = PL.loc[0:, [\"team\", \"wins\", \"losses\", \"goals\"]]"
   ]
  },
  {
   "cell_type": "code",
   "execution_count": 13,
   "metadata": {},
   "outputs": [
    {
     "data": {
      "text/html": [
       "<div>\n",
       "<style scoped>\n",
       "    .dataframe tbody tr th:only-of-type {\n",
       "        vertical-align: middle;\n",
       "    }\n",
       "\n",
       "    .dataframe tbody tr th {\n",
       "        vertical-align: top;\n",
       "    }\n",
       "\n",
       "    .dataframe thead th {\n",
       "        text-align: right;\n",
       "    }\n",
       "</style>\n",
       "<table border=\"1\" class=\"dataframe\">\n",
       "  <thead>\n",
       "    <tr style=\"text-align: right;\">\n",
       "      <th></th>\n",
       "      <th>team</th>\n",
       "      <th>wins</th>\n",
       "      <th>losses</th>\n",
       "      <th>goals</th>\n",
       "    </tr>\n",
       "  </thead>\n",
       "  <tbody>\n",
       "    <tr>\n",
       "      <th>0</th>\n",
       "      <td>Manchester United</td>\n",
       "      <td>28.0</td>\n",
       "      <td>5.0</td>\n",
       "      <td>83.0</td>\n",
       "    </tr>\n",
       "    <tr>\n",
       "      <th>1</th>\n",
       "      <td>Chelsea</td>\n",
       "      <td>24.0</td>\n",
       "      <td>3.0</td>\n",
       "      <td>64.0</td>\n",
       "    </tr>\n",
       "    <tr>\n",
       "      <th>2</th>\n",
       "      <td>Liverpool</td>\n",
       "      <td>20.0</td>\n",
       "      <td>10.0</td>\n",
       "      <td>57.0</td>\n",
       "    </tr>\n",
       "    <tr>\n",
       "      <th>3</th>\n",
       "      <td>Arsenal</td>\n",
       "      <td>19.0</td>\n",
       "      <td>8.0</td>\n",
       "      <td>63.0</td>\n",
       "    </tr>\n",
       "    <tr>\n",
       "      <th>4</th>\n",
       "      <td>Tottenham Hotspur</td>\n",
       "      <td>17.0</td>\n",
       "      <td>12.0</td>\n",
       "      <td>57.0</td>\n",
       "    </tr>\n",
       "    <tr>\n",
       "      <th>...</th>\n",
       "      <td>...</td>\n",
       "      <td>...</td>\n",
       "      <td>...</td>\n",
       "      <td>...</td>\n",
       "    </tr>\n",
       "    <tr>\n",
       "      <th>235</th>\n",
       "      <td>Huddersfield Town</td>\n",
       "      <td>9.0</td>\n",
       "      <td>19.0</td>\n",
       "      <td>28.0</td>\n",
       "    </tr>\n",
       "    <tr>\n",
       "      <th>236</th>\n",
       "      <td>Swansea City</td>\n",
       "      <td>8.0</td>\n",
       "      <td>21.0</td>\n",
       "      <td>28.0</td>\n",
       "    </tr>\n",
       "    <tr>\n",
       "      <th>237</th>\n",
       "      <td>Southampton</td>\n",
       "      <td>7.0</td>\n",
       "      <td>16.0</td>\n",
       "      <td>37.0</td>\n",
       "    </tr>\n",
       "    <tr>\n",
       "      <th>238</th>\n",
       "      <td>Stoke City</td>\n",
       "      <td>7.0</td>\n",
       "      <td>19.0</td>\n",
       "      <td>35.0</td>\n",
       "    </tr>\n",
       "    <tr>\n",
       "      <th>239</th>\n",
       "      <td>West Bromwich Albion</td>\n",
       "      <td>6.0</td>\n",
       "      <td>19.0</td>\n",
       "      <td>31.0</td>\n",
       "    </tr>\n",
       "  </tbody>\n",
       "</table>\n",
       "<p>240 rows × 4 columns</p>\n",
       "</div>"
      ],
      "text/plain": [
       "                     team  wins  losses  goals\n",
       "0       Manchester United  28.0     5.0   83.0\n",
       "1                 Chelsea  24.0     3.0   64.0\n",
       "2               Liverpool  20.0    10.0   57.0\n",
       "3                 Arsenal  19.0     8.0   63.0\n",
       "4       Tottenham Hotspur  17.0    12.0   57.0\n",
       "..                    ...   ...     ...    ...\n",
       "235     Huddersfield Town   9.0    19.0   28.0\n",
       "236          Swansea City   8.0    21.0   28.0\n",
       "237           Southampton   7.0    16.0   37.0\n",
       "238            Stoke City   7.0    19.0   35.0\n",
       "239  West Bromwich Albion   6.0    19.0   31.0\n",
       "\n",
       "[240 rows x 4 columns]"
      ]
     },
     "execution_count": 13,
     "metadata": {},
     "output_type": "execute_result"
    }
   ],
   "source": [
    "inti"
   ]
  },
  {
   "cell_type": "code",
   "execution_count": 14,
   "metadata": {},
   "outputs": [
    {
     "data": {
      "text/plain": [
       "team\n",
       "AFC Bournemouth              34.0\n",
       "Arsenal                     255.0\n",
       "Aston Villa                 113.0\n",
       "Birmingham City              29.0\n",
       "Blackburn Rovers             72.0\n",
       "Blackpool                    10.0\n",
       "Bolton Wanderers             68.0\n",
       "Brighton and Hove Albion      9.0\n",
       "Burnley                      40.0\n",
       "Cardiff City                  7.0\n",
       "Charlton Athletic             8.0\n",
       "Chelsea                     276.0\n",
       "Crystal Palace               60.0\n",
       "Derby County                  1.0\n",
       "Everton                     185.0\n",
       "Fulham                       87.0\n",
       "Huddersfield Town             9.0\n",
       "Hull City                    41.0\n",
       "Leicester City               58.0\n",
       "Liverpool                   234.0\n",
       "Manchester City             256.0\n",
       "Manchester United           290.0\n",
       "Middlesbrough                34.0\n",
       "Newcastle United            116.0\n",
       "Norwich City                 39.0\n",
       "Portsmouth                   47.0\n",
       "Queens Park Rangers          22.0\n",
       "Reading                      32.0\n",
       "Sheffield United             10.0\n",
       "Southampton                  79.0\n",
       "Stoke City                  116.0\n",
       "Sunderland                   95.0\n",
       "Swansea City                 82.0\n",
       "Tottenham Hotspur           228.0\n",
       "Watford                      39.0\n",
       "West Bromwich Albion         93.0\n",
       "West Ham United             127.0\n",
       "Wigan Athletic               70.0\n",
       "Wolverhampton Wanderers      25.0\n",
       "Name: wins, dtype: float64"
      ]
     },
     "execution_count": 14,
     "metadata": {},
     "output_type": "execute_result"
    }
   ],
   "source": [
    "PL.groupby(\"team\")[\"wins\"].sum()"
   ]
  },
  {
   "cell_type": "code",
   "execution_count": 85,
   "metadata": {},
   "outputs": [
    {
     "data": {
      "text/html": [
       "<div>\n",
       "<style scoped>\n",
       "    .dataframe tbody tr th:only-of-type {\n",
       "        vertical-align: middle;\n",
       "    }\n",
       "\n",
       "    .dataframe tbody tr th {\n",
       "        vertical-align: top;\n",
       "    }\n",
       "\n",
       "    .dataframe thead th {\n",
       "        text-align: right;\n",
       "    }\n",
       "</style>\n",
       "<table border=\"1\" class=\"dataframe\">\n",
       "  <thead>\n",
       "    <tr style=\"text-align: right;\">\n",
       "      <th></th>\n",
       "      <th>team</th>\n",
       "      <th>wins</th>\n",
       "      <th>losses</th>\n",
       "      <th>goals</th>\n",
       "      <th>total_yel_card</th>\n",
       "      <th>total_red_card</th>\n",
       "      <th>total_scoring_att</th>\n",
       "      <th>ontarget_scoring_att</th>\n",
       "      <th>hit_woodwork</th>\n",
       "      <th>att_hd_goal</th>\n",
       "      <th>...</th>\n",
       "      <th>total_cross</th>\n",
       "      <th>corner_taken</th>\n",
       "      <th>touches</th>\n",
       "      <th>big_chance_missed</th>\n",
       "      <th>clearance_off_line</th>\n",
       "      <th>dispossessed</th>\n",
       "      <th>penalty_save</th>\n",
       "      <th>total_high_claim</th>\n",
       "      <th>punches</th>\n",
       "      <th>season</th>\n",
       "    </tr>\n",
       "  </thead>\n",
       "  <tbody>\n",
       "    <tr>\n",
       "      <th>0</th>\n",
       "      <td>Manchester United</td>\n",
       "      <td>28.0</td>\n",
       "      <td>5.0</td>\n",
       "      <td>83.0</td>\n",
       "      <td>60.0</td>\n",
       "      <td>1.0</td>\n",
       "      <td>698.0</td>\n",
       "      <td>256.0</td>\n",
       "      <td>21.0</td>\n",
       "      <td>12.0</td>\n",
       "      <td>...</td>\n",
       "      <td>918.0</td>\n",
       "      <td>258.0</td>\n",
       "      <td>25686.0</td>\n",
       "      <td>NaN</td>\n",
       "      <td>1.0</td>\n",
       "      <td>NaN</td>\n",
       "      <td>2.0</td>\n",
       "      <td>37.0</td>\n",
       "      <td>25.0</td>\n",
       "      <td>2006-2007</td>\n",
       "    </tr>\n",
       "    <tr>\n",
       "      <th>1</th>\n",
       "      <td>Chelsea</td>\n",
       "      <td>24.0</td>\n",
       "      <td>3.0</td>\n",
       "      <td>64.0</td>\n",
       "      <td>62.0</td>\n",
       "      <td>4.0</td>\n",
       "      <td>636.0</td>\n",
       "      <td>216.0</td>\n",
       "      <td>14.0</td>\n",
       "      <td>16.0</td>\n",
       "      <td>...</td>\n",
       "      <td>897.0</td>\n",
       "      <td>231.0</td>\n",
       "      <td>24010.0</td>\n",
       "      <td>NaN</td>\n",
       "      <td>2.0</td>\n",
       "      <td>NaN</td>\n",
       "      <td>1.0</td>\n",
       "      <td>74.0</td>\n",
       "      <td>22.0</td>\n",
       "      <td>2006-2007</td>\n",
       "    </tr>\n",
       "    <tr>\n",
       "      <th>2</th>\n",
       "      <td>Liverpool</td>\n",
       "      <td>20.0</td>\n",
       "      <td>10.0</td>\n",
       "      <td>57.0</td>\n",
       "      <td>44.0</td>\n",
       "      <td>0.0</td>\n",
       "      <td>668.0</td>\n",
       "      <td>214.0</td>\n",
       "      <td>15.0</td>\n",
       "      <td>8.0</td>\n",
       "      <td>...</td>\n",
       "      <td>1107.0</td>\n",
       "      <td>282.0</td>\n",
       "      <td>24150.0</td>\n",
       "      <td>NaN</td>\n",
       "      <td>1.0</td>\n",
       "      <td>NaN</td>\n",
       "      <td>0.0</td>\n",
       "      <td>51.0</td>\n",
       "      <td>27.0</td>\n",
       "      <td>2006-2007</td>\n",
       "    </tr>\n",
       "    <tr>\n",
       "      <th>3</th>\n",
       "      <td>Arsenal</td>\n",
       "      <td>19.0</td>\n",
       "      <td>8.0</td>\n",
       "      <td>63.0</td>\n",
       "      <td>59.0</td>\n",
       "      <td>3.0</td>\n",
       "      <td>638.0</td>\n",
       "      <td>226.0</td>\n",
       "      <td>19.0</td>\n",
       "      <td>10.0</td>\n",
       "      <td>...</td>\n",
       "      <td>873.0</td>\n",
       "      <td>278.0</td>\n",
       "      <td>25592.0</td>\n",
       "      <td>NaN</td>\n",
       "      <td>1.0</td>\n",
       "      <td>NaN</td>\n",
       "      <td>0.0</td>\n",
       "      <td>88.0</td>\n",
       "      <td>27.0</td>\n",
       "      <td>2006-2007</td>\n",
       "    </tr>\n",
       "    <tr>\n",
       "      <th>4</th>\n",
       "      <td>Tottenham Hotspur</td>\n",
       "      <td>17.0</td>\n",
       "      <td>12.0</td>\n",
       "      <td>57.0</td>\n",
       "      <td>48.0</td>\n",
       "      <td>3.0</td>\n",
       "      <td>520.0</td>\n",
       "      <td>184.0</td>\n",
       "      <td>6.0</td>\n",
       "      <td>5.0</td>\n",
       "      <td>...</td>\n",
       "      <td>796.0</td>\n",
       "      <td>181.0</td>\n",
       "      <td>22200.0</td>\n",
       "      <td>NaN</td>\n",
       "      <td>2.0</td>\n",
       "      <td>NaN</td>\n",
       "      <td>0.0</td>\n",
       "      <td>51.0</td>\n",
       "      <td>24.0</td>\n",
       "      <td>2006-2007</td>\n",
       "    </tr>\n",
       "    <tr>\n",
       "      <th>...</th>\n",
       "      <td>...</td>\n",
       "      <td>...</td>\n",
       "      <td>...</td>\n",
       "      <td>...</td>\n",
       "      <td>...</td>\n",
       "      <td>...</td>\n",
       "      <td>...</td>\n",
       "      <td>...</td>\n",
       "      <td>...</td>\n",
       "      <td>...</td>\n",
       "      <td>...</td>\n",
       "      <td>...</td>\n",
       "      <td>...</td>\n",
       "      <td>...</td>\n",
       "      <td>...</td>\n",
       "      <td>...</td>\n",
       "      <td>...</td>\n",
       "      <td>...</td>\n",
       "      <td>...</td>\n",
       "      <td>...</td>\n",
       "      <td>...</td>\n",
       "    </tr>\n",
       "    <tr>\n",
       "      <th>235</th>\n",
       "      <td>Huddersfield Town</td>\n",
       "      <td>9.0</td>\n",
       "      <td>19.0</td>\n",
       "      <td>28.0</td>\n",
       "      <td>62.0</td>\n",
       "      <td>3.0</td>\n",
       "      <td>362.0</td>\n",
       "      <td>109.0</td>\n",
       "      <td>8.0</td>\n",
       "      <td>5.0</td>\n",
       "      <td>...</td>\n",
       "      <td>765.0</td>\n",
       "      <td>165.0</td>\n",
       "      <td>22619.0</td>\n",
       "      <td>21.0</td>\n",
       "      <td>6.0</td>\n",
       "      <td>416.0</td>\n",
       "      <td>2.0</td>\n",
       "      <td>31.0</td>\n",
       "      <td>24.0</td>\n",
       "      <td>2017-2018</td>\n",
       "    </tr>\n",
       "    <tr>\n",
       "      <th>236</th>\n",
       "      <td>Swansea City</td>\n",
       "      <td>8.0</td>\n",
       "      <td>21.0</td>\n",
       "      <td>28.0</td>\n",
       "      <td>51.0</td>\n",
       "      <td>1.0</td>\n",
       "      <td>338.0</td>\n",
       "      <td>103.0</td>\n",
       "      <td>8.0</td>\n",
       "      <td>3.0</td>\n",
       "      <td>...</td>\n",
       "      <td>694.0</td>\n",
       "      <td>150.0</td>\n",
       "      <td>22775.0</td>\n",
       "      <td>26.0</td>\n",
       "      <td>1.0</td>\n",
       "      <td>439.0</td>\n",
       "      <td>3.0</td>\n",
       "      <td>44.0</td>\n",
       "      <td>15.0</td>\n",
       "      <td>2017-2018</td>\n",
       "    </tr>\n",
       "    <tr>\n",
       "      <th>237</th>\n",
       "      <td>Southampton</td>\n",
       "      <td>7.0</td>\n",
       "      <td>16.0</td>\n",
       "      <td>37.0</td>\n",
       "      <td>63.0</td>\n",
       "      <td>2.0</td>\n",
       "      <td>450.0</td>\n",
       "      <td>145.0</td>\n",
       "      <td>15.0</td>\n",
       "      <td>7.0</td>\n",
       "      <td>...</td>\n",
       "      <td>800.0</td>\n",
       "      <td>227.0</td>\n",
       "      <td>24639.0</td>\n",
       "      <td>37.0</td>\n",
       "      <td>4.0</td>\n",
       "      <td>379.0</td>\n",
       "      <td>1.0</td>\n",
       "      <td>29.0</td>\n",
       "      <td>13.0</td>\n",
       "      <td>2017-2018</td>\n",
       "    </tr>\n",
       "    <tr>\n",
       "      <th>238</th>\n",
       "      <td>Stoke City</td>\n",
       "      <td>7.0</td>\n",
       "      <td>19.0</td>\n",
       "      <td>35.0</td>\n",
       "      <td>62.0</td>\n",
       "      <td>1.0</td>\n",
       "      <td>384.0</td>\n",
       "      <td>132.0</td>\n",
       "      <td>8.0</td>\n",
       "      <td>8.0</td>\n",
       "      <td>...</td>\n",
       "      <td>598.0</td>\n",
       "      <td>136.0</td>\n",
       "      <td>20368.0</td>\n",
       "      <td>33.0</td>\n",
       "      <td>3.0</td>\n",
       "      <td>402.0</td>\n",
       "      <td>0.0</td>\n",
       "      <td>27.0</td>\n",
       "      <td>14.0</td>\n",
       "      <td>2017-2018</td>\n",
       "    </tr>\n",
       "    <tr>\n",
       "      <th>239</th>\n",
       "      <td>West Bromwich Albion</td>\n",
       "      <td>6.0</td>\n",
       "      <td>19.0</td>\n",
       "      <td>31.0</td>\n",
       "      <td>73.0</td>\n",
       "      <td>1.0</td>\n",
       "      <td>378.0</td>\n",
       "      <td>114.0</td>\n",
       "      <td>7.0</td>\n",
       "      <td>10.0</td>\n",
       "      <td>...</td>\n",
       "      <td>784.0</td>\n",
       "      <td>176.0</td>\n",
       "      <td>20552.0</td>\n",
       "      <td>28.0</td>\n",
       "      <td>3.0</td>\n",
       "      <td>446.0</td>\n",
       "      <td>0.0</td>\n",
       "      <td>40.0</td>\n",
       "      <td>5.0</td>\n",
       "      <td>2017-2018</td>\n",
       "    </tr>\n",
       "  </tbody>\n",
       "</table>\n",
       "<p>240 rows × 42 columns</p>\n",
       "</div>"
      ],
      "text/plain": [
       "                     team  wins  losses  goals  total_yel_card  \\\n",
       "0       Manchester United  28.0     5.0   83.0            60.0   \n",
       "1                 Chelsea  24.0     3.0   64.0            62.0   \n",
       "2               Liverpool  20.0    10.0   57.0            44.0   \n",
       "3                 Arsenal  19.0     8.0   63.0            59.0   \n",
       "4       Tottenham Hotspur  17.0    12.0   57.0            48.0   \n",
       "..                    ...   ...     ...    ...             ...   \n",
       "235     Huddersfield Town   9.0    19.0   28.0            62.0   \n",
       "236          Swansea City   8.0    21.0   28.0            51.0   \n",
       "237           Southampton   7.0    16.0   37.0            63.0   \n",
       "238            Stoke City   7.0    19.0   35.0            62.0   \n",
       "239  West Bromwich Albion   6.0    19.0   31.0            73.0   \n",
       "\n",
       "     total_red_card  total_scoring_att  ontarget_scoring_att  hit_woodwork  \\\n",
       "0               1.0              698.0                 256.0          21.0   \n",
       "1               4.0              636.0                 216.0          14.0   \n",
       "2               0.0              668.0                 214.0          15.0   \n",
       "3               3.0              638.0                 226.0          19.0   \n",
       "4               3.0              520.0                 184.0           6.0   \n",
       "..              ...                ...                   ...           ...   \n",
       "235             3.0              362.0                 109.0           8.0   \n",
       "236             1.0              338.0                 103.0           8.0   \n",
       "237             2.0              450.0                 145.0          15.0   \n",
       "238             1.0              384.0                 132.0           8.0   \n",
       "239             1.0              378.0                 114.0           7.0   \n",
       "\n",
       "     att_hd_goal  ...  total_cross  corner_taken  touches  big_chance_missed  \\\n",
       "0           12.0  ...        918.0         258.0  25686.0                NaN   \n",
       "1           16.0  ...        897.0         231.0  24010.0                NaN   \n",
       "2            8.0  ...       1107.0         282.0  24150.0                NaN   \n",
       "3           10.0  ...        873.0         278.0  25592.0                NaN   \n",
       "4            5.0  ...        796.0         181.0  22200.0                NaN   \n",
       "..           ...  ...          ...           ...      ...                ...   \n",
       "235          5.0  ...        765.0         165.0  22619.0               21.0   \n",
       "236          3.0  ...        694.0         150.0  22775.0               26.0   \n",
       "237          7.0  ...        800.0         227.0  24639.0               37.0   \n",
       "238          8.0  ...        598.0         136.0  20368.0               33.0   \n",
       "239         10.0  ...        784.0         176.0  20552.0               28.0   \n",
       "\n",
       "     clearance_off_line  dispossessed  penalty_save  total_high_claim  \\\n",
       "0                   1.0           NaN           2.0              37.0   \n",
       "1                   2.0           NaN           1.0              74.0   \n",
       "2                   1.0           NaN           0.0              51.0   \n",
       "3                   1.0           NaN           0.0              88.0   \n",
       "4                   2.0           NaN           0.0              51.0   \n",
       "..                  ...           ...           ...               ...   \n",
       "235                 6.0         416.0           2.0              31.0   \n",
       "236                 1.0         439.0           3.0              44.0   \n",
       "237                 4.0         379.0           1.0              29.0   \n",
       "238                 3.0         402.0           0.0              27.0   \n",
       "239                 3.0         446.0           0.0              40.0   \n",
       "\n",
       "     punches     season  \n",
       "0       25.0  2006-2007  \n",
       "1       22.0  2006-2007  \n",
       "2       27.0  2006-2007  \n",
       "3       27.0  2006-2007  \n",
       "4       24.0  2006-2007  \n",
       "..       ...        ...  \n",
       "235     24.0  2017-2018  \n",
       "236     15.0  2017-2018  \n",
       "237     13.0  2017-2018  \n",
       "238     14.0  2017-2018  \n",
       "239      5.0  2017-2018  \n",
       "\n",
       "[240 rows x 42 columns]"
      ]
     },
     "execution_count": 85,
     "metadata": {},
     "output_type": "execute_result"
    }
   ],
   "source": []
  },
  {
   "cell_type": "code",
   "execution_count": 15,
   "metadata": {},
   "outputs": [],
   "source": [
    "wins = PL[\n",
    "    (PL[\"team\"] == \"Manchester City\") &\n",
    "    (PL[\"season\"] > \"2000-2001\")\n",
    "].groupby(\"season\")[\"wins\"].sum()"
   ]
  },
  {
   "cell_type": "code",
   "execution_count": 16,
   "metadata": {},
   "outputs": [],
   "source": [
    "goals = PL[\n",
    "    (PL[\"team\"] == \"Manchester City\") &\n",
    "    (PL[\"season\"] > \"2000-2001\")\n",
    "].groupby(\"season\")[\"goals\"].sum()"
   ]
  },
  {
   "cell_type": "code",
   "execution_count": 17,
   "metadata": {},
   "outputs": [],
   "source": [
    "losses = PL[\n",
    "    (PL[\"team\"] == \"Manchester City\") &\n",
    "    (PL[\"season\"] > \"2000-2001\")\n",
    "].groupby(\"season\")[\"losses\"].sum()"
   ]
  },
  {
   "cell_type": "code",
   "execution_count": 90,
   "metadata": {},
   "outputs": [],
   "source": []
  },
  {
   "cell_type": "code",
   "execution_count": 91,
   "metadata": {},
   "outputs": [
    {
     "data": {
      "text/html": [
       "<div>\n",
       "<style scoped>\n",
       "    .dataframe tbody tr th:only-of-type {\n",
       "        vertical-align: middle;\n",
       "    }\n",
       "\n",
       "    .dataframe tbody tr th {\n",
       "        vertical-align: top;\n",
       "    }\n",
       "\n",
       "    .dataframe thead th {\n",
       "        text-align: right;\n",
       "    }\n",
       "</style>\n",
       "<table border=\"1\" class=\"dataframe\">\n",
       "  <thead>\n",
       "    <tr style=\"text-align: right;\">\n",
       "      <th></th>\n",
       "      <th>team</th>\n",
       "      <th>wins</th>\n",
       "      <th>losses</th>\n",
       "      <th>goals</th>\n",
       "      <th>total_yel_card</th>\n",
       "      <th>total_red_card</th>\n",
       "      <th>total_scoring_att</th>\n",
       "      <th>ontarget_scoring_att</th>\n",
       "      <th>hit_woodwork</th>\n",
       "      <th>att_hd_goal</th>\n",
       "      <th>...</th>\n",
       "      <th>total_cross</th>\n",
       "      <th>corner_taken</th>\n",
       "      <th>touches</th>\n",
       "      <th>big_chance_missed</th>\n",
       "      <th>clearance_off_line</th>\n",
       "      <th>dispossessed</th>\n",
       "      <th>penalty_save</th>\n",
       "      <th>total_high_claim</th>\n",
       "      <th>punches</th>\n",
       "      <th>season</th>\n",
       "    </tr>\n",
       "  </thead>\n",
       "  <tbody>\n",
       "    <tr>\n",
       "      <th>80</th>\n",
       "      <td>Manchester United</td>\n",
       "      <td>23.0</td>\n",
       "      <td>4.0</td>\n",
       "      <td>78.0</td>\n",
       "      <td>56.0</td>\n",
       "      <td>3.0</td>\n",
       "      <td>618.0</td>\n",
       "      <td>212.0</td>\n",
       "      <td>15.0</td>\n",
       "      <td>18.0</td>\n",
       "      <td>...</td>\n",
       "      <td>1005.0</td>\n",
       "      <td>243.0</td>\n",
       "      <td>26671.0</td>\n",
       "      <td>50.0</td>\n",
       "      <td>2.0</td>\n",
       "      <td>471.0</td>\n",
       "      <td>0.0</td>\n",
       "      <td>45.0</td>\n",
       "      <td>16.0</td>\n",
       "      <td>2010-2011</td>\n",
       "    </tr>\n",
       "    <tr>\n",
       "      <th>81</th>\n",
       "      <td>Chelsea</td>\n",
       "      <td>21.0</td>\n",
       "      <td>9.0</td>\n",
       "      <td>69.0</td>\n",
       "      <td>59.0</td>\n",
       "      <td>1.0</td>\n",
       "      <td>745.0</td>\n",
       "      <td>244.0</td>\n",
       "      <td>21.0</td>\n",
       "      <td>12.0</td>\n",
       "      <td>...</td>\n",
       "      <td>995.0</td>\n",
       "      <td>257.0</td>\n",
       "      <td>27426.0</td>\n",
       "      <td>70.0</td>\n",
       "      <td>7.0</td>\n",
       "      <td>573.0</td>\n",
       "      <td>1.0</td>\n",
       "      <td>84.0</td>\n",
       "      <td>22.0</td>\n",
       "      <td>2010-2011</td>\n",
       "    </tr>\n",
       "    <tr>\n",
       "      <th>82</th>\n",
       "      <td>Manchester City</td>\n",
       "      <td>21.0</td>\n",
       "      <td>9.0</td>\n",
       "      <td>60.0</td>\n",
       "      <td>71.0</td>\n",
       "      <td>5.0</td>\n",
       "      <td>546.0</td>\n",
       "      <td>177.0</td>\n",
       "      <td>16.0</td>\n",
       "      <td>4.0</td>\n",
       "      <td>...</td>\n",
       "      <td>762.0</td>\n",
       "      <td>222.0</td>\n",
       "      <td>25892.0</td>\n",
       "      <td>51.0</td>\n",
       "      <td>2.0</td>\n",
       "      <td>520.0</td>\n",
       "      <td>1.0</td>\n",
       "      <td>66.0</td>\n",
       "      <td>27.0</td>\n",
       "      <td>2010-2011</td>\n",
       "    </tr>\n",
       "    <tr>\n",
       "      <th>83</th>\n",
       "      <td>Arsenal</td>\n",
       "      <td>19.0</td>\n",
       "      <td>8.0</td>\n",
       "      <td>72.0</td>\n",
       "      <td>65.0</td>\n",
       "      <td>6.0</td>\n",
       "      <td>654.0</td>\n",
       "      <td>238.0</td>\n",
       "      <td>23.0</td>\n",
       "      <td>9.0</td>\n",
       "      <td>...</td>\n",
       "      <td>928.0</td>\n",
       "      <td>252.0</td>\n",
       "      <td>28629.0</td>\n",
       "      <td>88.0</td>\n",
       "      <td>4.0</td>\n",
       "      <td>601.0</td>\n",
       "      <td>2.0</td>\n",
       "      <td>56.0</td>\n",
       "      <td>25.0</td>\n",
       "      <td>2010-2011</td>\n",
       "    </tr>\n",
       "    <tr>\n",
       "      <th>84</th>\n",
       "      <td>Liverpool</td>\n",
       "      <td>17.0</td>\n",
       "      <td>14.0</td>\n",
       "      <td>59.0</td>\n",
       "      <td>63.0</td>\n",
       "      <td>2.0</td>\n",
       "      <td>582.0</td>\n",
       "      <td>205.0</td>\n",
       "      <td>12.0</td>\n",
       "      <td>8.0</td>\n",
       "      <td>...</td>\n",
       "      <td>824.0</td>\n",
       "      <td>212.0</td>\n",
       "      <td>24941.0</td>\n",
       "      <td>43.0</td>\n",
       "      <td>6.0</td>\n",
       "      <td>493.0</td>\n",
       "      <td>0.0</td>\n",
       "      <td>74.0</td>\n",
       "      <td>26.0</td>\n",
       "      <td>2010-2011</td>\n",
       "    </tr>\n",
       "    <tr>\n",
       "      <th>...</th>\n",
       "      <td>...</td>\n",
       "      <td>...</td>\n",
       "      <td>...</td>\n",
       "      <td>...</td>\n",
       "      <td>...</td>\n",
       "      <td>...</td>\n",
       "      <td>...</td>\n",
       "      <td>...</td>\n",
       "      <td>...</td>\n",
       "      <td>...</td>\n",
       "      <td>...</td>\n",
       "      <td>...</td>\n",
       "      <td>...</td>\n",
       "      <td>...</td>\n",
       "      <td>...</td>\n",
       "      <td>...</td>\n",
       "      <td>...</td>\n",
       "      <td>...</td>\n",
       "      <td>...</td>\n",
       "      <td>...</td>\n",
       "      <td>...</td>\n",
       "    </tr>\n",
       "    <tr>\n",
       "      <th>235</th>\n",
       "      <td>Huddersfield Town</td>\n",
       "      <td>9.0</td>\n",
       "      <td>19.0</td>\n",
       "      <td>28.0</td>\n",
       "      <td>62.0</td>\n",
       "      <td>3.0</td>\n",
       "      <td>362.0</td>\n",
       "      <td>109.0</td>\n",
       "      <td>8.0</td>\n",
       "      <td>5.0</td>\n",
       "      <td>...</td>\n",
       "      <td>765.0</td>\n",
       "      <td>165.0</td>\n",
       "      <td>22619.0</td>\n",
       "      <td>21.0</td>\n",
       "      <td>6.0</td>\n",
       "      <td>416.0</td>\n",
       "      <td>2.0</td>\n",
       "      <td>31.0</td>\n",
       "      <td>24.0</td>\n",
       "      <td>2017-2018</td>\n",
       "    </tr>\n",
       "    <tr>\n",
       "      <th>236</th>\n",
       "      <td>Swansea City</td>\n",
       "      <td>8.0</td>\n",
       "      <td>21.0</td>\n",
       "      <td>28.0</td>\n",
       "      <td>51.0</td>\n",
       "      <td>1.0</td>\n",
       "      <td>338.0</td>\n",
       "      <td>103.0</td>\n",
       "      <td>8.0</td>\n",
       "      <td>3.0</td>\n",
       "      <td>...</td>\n",
       "      <td>694.0</td>\n",
       "      <td>150.0</td>\n",
       "      <td>22775.0</td>\n",
       "      <td>26.0</td>\n",
       "      <td>1.0</td>\n",
       "      <td>439.0</td>\n",
       "      <td>3.0</td>\n",
       "      <td>44.0</td>\n",
       "      <td>15.0</td>\n",
       "      <td>2017-2018</td>\n",
       "    </tr>\n",
       "    <tr>\n",
       "      <th>237</th>\n",
       "      <td>Southampton</td>\n",
       "      <td>7.0</td>\n",
       "      <td>16.0</td>\n",
       "      <td>37.0</td>\n",
       "      <td>63.0</td>\n",
       "      <td>2.0</td>\n",
       "      <td>450.0</td>\n",
       "      <td>145.0</td>\n",
       "      <td>15.0</td>\n",
       "      <td>7.0</td>\n",
       "      <td>...</td>\n",
       "      <td>800.0</td>\n",
       "      <td>227.0</td>\n",
       "      <td>24639.0</td>\n",
       "      <td>37.0</td>\n",
       "      <td>4.0</td>\n",
       "      <td>379.0</td>\n",
       "      <td>1.0</td>\n",
       "      <td>29.0</td>\n",
       "      <td>13.0</td>\n",
       "      <td>2017-2018</td>\n",
       "    </tr>\n",
       "    <tr>\n",
       "      <th>238</th>\n",
       "      <td>Stoke City</td>\n",
       "      <td>7.0</td>\n",
       "      <td>19.0</td>\n",
       "      <td>35.0</td>\n",
       "      <td>62.0</td>\n",
       "      <td>1.0</td>\n",
       "      <td>384.0</td>\n",
       "      <td>132.0</td>\n",
       "      <td>8.0</td>\n",
       "      <td>8.0</td>\n",
       "      <td>...</td>\n",
       "      <td>598.0</td>\n",
       "      <td>136.0</td>\n",
       "      <td>20368.0</td>\n",
       "      <td>33.0</td>\n",
       "      <td>3.0</td>\n",
       "      <td>402.0</td>\n",
       "      <td>0.0</td>\n",
       "      <td>27.0</td>\n",
       "      <td>14.0</td>\n",
       "      <td>2017-2018</td>\n",
       "    </tr>\n",
       "    <tr>\n",
       "      <th>239</th>\n",
       "      <td>West Bromwich Albion</td>\n",
       "      <td>6.0</td>\n",
       "      <td>19.0</td>\n",
       "      <td>31.0</td>\n",
       "      <td>73.0</td>\n",
       "      <td>1.0</td>\n",
       "      <td>378.0</td>\n",
       "      <td>114.0</td>\n",
       "      <td>7.0</td>\n",
       "      <td>10.0</td>\n",
       "      <td>...</td>\n",
       "      <td>784.0</td>\n",
       "      <td>176.0</td>\n",
       "      <td>20552.0</td>\n",
       "      <td>28.0</td>\n",
       "      <td>3.0</td>\n",
       "      <td>446.0</td>\n",
       "      <td>0.0</td>\n",
       "      <td>40.0</td>\n",
       "      <td>5.0</td>\n",
       "      <td>2017-2018</td>\n",
       "    </tr>\n",
       "  </tbody>\n",
       "</table>\n",
       "<p>160 rows × 42 columns</p>\n",
       "</div>"
      ],
      "text/plain": [
       "                     team  wins  losses  goals  total_yel_card  \\\n",
       "80      Manchester United  23.0     4.0   78.0            56.0   \n",
       "81                Chelsea  21.0     9.0   69.0            59.0   \n",
       "82        Manchester City  21.0     9.0   60.0            71.0   \n",
       "83                Arsenal  19.0     8.0   72.0            65.0   \n",
       "84              Liverpool  17.0    14.0   59.0            63.0   \n",
       "..                    ...   ...     ...    ...             ...   \n",
       "235     Huddersfield Town   9.0    19.0   28.0            62.0   \n",
       "236          Swansea City   8.0    21.0   28.0            51.0   \n",
       "237           Southampton   7.0    16.0   37.0            63.0   \n",
       "238            Stoke City   7.0    19.0   35.0            62.0   \n",
       "239  West Bromwich Albion   6.0    19.0   31.0            73.0   \n",
       "\n",
       "     total_red_card  total_scoring_att  ontarget_scoring_att  hit_woodwork  \\\n",
       "80              3.0              618.0                 212.0          15.0   \n",
       "81              1.0              745.0                 244.0          21.0   \n",
       "82              5.0              546.0                 177.0          16.0   \n",
       "83              6.0              654.0                 238.0          23.0   \n",
       "84              2.0              582.0                 205.0          12.0   \n",
       "..              ...                ...                   ...           ...   \n",
       "235             3.0              362.0                 109.0           8.0   \n",
       "236             1.0              338.0                 103.0           8.0   \n",
       "237             2.0              450.0                 145.0          15.0   \n",
       "238             1.0              384.0                 132.0           8.0   \n",
       "239             1.0              378.0                 114.0           7.0   \n",
       "\n",
       "     att_hd_goal  ...  total_cross  corner_taken  touches  big_chance_missed  \\\n",
       "80          18.0  ...       1005.0         243.0  26671.0               50.0   \n",
       "81          12.0  ...        995.0         257.0  27426.0               70.0   \n",
       "82           4.0  ...        762.0         222.0  25892.0               51.0   \n",
       "83           9.0  ...        928.0         252.0  28629.0               88.0   \n",
       "84           8.0  ...        824.0         212.0  24941.0               43.0   \n",
       "..           ...  ...          ...           ...      ...                ...   \n",
       "235          5.0  ...        765.0         165.0  22619.0               21.0   \n",
       "236          3.0  ...        694.0         150.0  22775.0               26.0   \n",
       "237          7.0  ...        800.0         227.0  24639.0               37.0   \n",
       "238          8.0  ...        598.0         136.0  20368.0               33.0   \n",
       "239         10.0  ...        784.0         176.0  20552.0               28.0   \n",
       "\n",
       "     clearance_off_line  dispossessed  penalty_save  total_high_claim  \\\n",
       "80                  2.0         471.0           0.0              45.0   \n",
       "81                  7.0         573.0           1.0              84.0   \n",
       "82                  2.0         520.0           1.0              66.0   \n",
       "83                  4.0         601.0           2.0              56.0   \n",
       "84                  6.0         493.0           0.0              74.0   \n",
       "..                  ...           ...           ...               ...   \n",
       "235                 6.0         416.0           2.0              31.0   \n",
       "236                 1.0         439.0           3.0              44.0   \n",
       "237                 4.0         379.0           1.0              29.0   \n",
       "238                 3.0         402.0           0.0              27.0   \n",
       "239                 3.0         446.0           0.0              40.0   \n",
       "\n",
       "     punches     season  \n",
       "80      16.0  2010-2011  \n",
       "81      22.0  2010-2011  \n",
       "82      27.0  2010-2011  \n",
       "83      25.0  2010-2011  \n",
       "84      26.0  2010-2011  \n",
       "..       ...        ...  \n",
       "235     24.0  2017-2018  \n",
       "236     15.0  2017-2018  \n",
       "237     13.0  2017-2018  \n",
       "238     14.0  2017-2018  \n",
       "239      5.0  2017-2018  \n",
       "\n",
       "[160 rows x 42 columns]"
      ]
     },
     "execution_count": 91,
     "metadata": {},
     "output_type": "execute_result"
    }
   ],
   "source": []
  },
  {
   "cell_type": "code",
   "execution_count": 18,
   "metadata": {},
   "outputs": [],
   "source": [
    "mancity_stats = pd.DataFrame({\n",
    "    \"wins\": wins, \n",
    "    \"goals\": goals,\n",
    "    \"losses\": losses\n",
    "})"
   ]
  },
  {
   "cell_type": "code",
   "execution_count": 19,
   "metadata": {},
   "outputs": [
    {
     "data": {
      "text/html": [
       "<div>\n",
       "<style scoped>\n",
       "    .dataframe tbody tr th:only-of-type {\n",
       "        vertical-align: middle;\n",
       "    }\n",
       "\n",
       "    .dataframe tbody tr th {\n",
       "        vertical-align: top;\n",
       "    }\n",
       "\n",
       "    .dataframe thead th {\n",
       "        text-align: right;\n",
       "    }\n",
       "</style>\n",
       "<table border=\"1\" class=\"dataframe\">\n",
       "  <thead>\n",
       "    <tr style=\"text-align: right;\">\n",
       "      <th></th>\n",
       "      <th>wins</th>\n",
       "      <th>goals</th>\n",
       "      <th>losses</th>\n",
       "    </tr>\n",
       "    <tr>\n",
       "      <th>season</th>\n",
       "      <th></th>\n",
       "      <th></th>\n",
       "      <th></th>\n",
       "    </tr>\n",
       "  </thead>\n",
       "  <tbody>\n",
       "    <tr>\n",
       "      <th>2006-2007</th>\n",
       "      <td>11.0</td>\n",
       "      <td>29.0</td>\n",
       "      <td>18.0</td>\n",
       "    </tr>\n",
       "    <tr>\n",
       "      <th>2007-2008</th>\n",
       "      <td>15.0</td>\n",
       "      <td>45.0</td>\n",
       "      <td>13.0</td>\n",
       "    </tr>\n",
       "    <tr>\n",
       "      <th>2008-2009</th>\n",
       "      <td>15.0</td>\n",
       "      <td>58.0</td>\n",
       "      <td>18.0</td>\n",
       "    </tr>\n",
       "    <tr>\n",
       "      <th>2009-2010</th>\n",
       "      <td>18.0</td>\n",
       "      <td>73.0</td>\n",
       "      <td>7.0</td>\n",
       "    </tr>\n",
       "    <tr>\n",
       "      <th>2010-2011</th>\n",
       "      <td>21.0</td>\n",
       "      <td>60.0</td>\n",
       "      <td>9.0</td>\n",
       "    </tr>\n",
       "    <tr>\n",
       "      <th>2011-2012</th>\n",
       "      <td>28.0</td>\n",
       "      <td>93.0</td>\n",
       "      <td>5.0</td>\n",
       "    </tr>\n",
       "    <tr>\n",
       "      <th>2012-2013</th>\n",
       "      <td>23.0</td>\n",
       "      <td>66.0</td>\n",
       "      <td>6.0</td>\n",
       "    </tr>\n",
       "    <tr>\n",
       "      <th>2013-2014</th>\n",
       "      <td>27.0</td>\n",
       "      <td>102.0</td>\n",
       "      <td>6.0</td>\n",
       "    </tr>\n",
       "    <tr>\n",
       "      <th>2014-2015</th>\n",
       "      <td>24.0</td>\n",
       "      <td>83.0</td>\n",
       "      <td>7.0</td>\n",
       "    </tr>\n",
       "    <tr>\n",
       "      <th>2015-2016</th>\n",
       "      <td>19.0</td>\n",
       "      <td>71.0</td>\n",
       "      <td>10.0</td>\n",
       "    </tr>\n",
       "    <tr>\n",
       "      <th>2016-2017</th>\n",
       "      <td>23.0</td>\n",
       "      <td>80.0</td>\n",
       "      <td>6.0</td>\n",
       "    </tr>\n",
       "    <tr>\n",
       "      <th>2017-2018</th>\n",
       "      <td>32.0</td>\n",
       "      <td>106.0</td>\n",
       "      <td>2.0</td>\n",
       "    </tr>\n",
       "  </tbody>\n",
       "</table>\n",
       "</div>"
      ],
      "text/plain": [
       "           wins  goals  losses\n",
       "season                        \n",
       "2006-2007  11.0   29.0    18.0\n",
       "2007-2008  15.0   45.0    13.0\n",
       "2008-2009  15.0   58.0    18.0\n",
       "2009-2010  18.0   73.0     7.0\n",
       "2010-2011  21.0   60.0     9.0\n",
       "2011-2012  28.0   93.0     5.0\n",
       "2012-2013  23.0   66.0     6.0\n",
       "2013-2014  27.0  102.0     6.0\n",
       "2014-2015  24.0   83.0     7.0\n",
       "2015-2016  19.0   71.0    10.0\n",
       "2016-2017  23.0   80.0     6.0\n",
       "2017-2018  32.0  106.0     2.0"
      ]
     },
     "execution_count": 19,
     "metadata": {},
     "output_type": "execute_result"
    }
   ],
   "source": [
    "mancity_stats"
   ]
  },
  {
   "cell_type": "markdown",
   "metadata": {},
   "source": [
    "mancity_stats.plot()"
   ]
  },
  {
   "cell_type": "code",
   "execution_count": 20,
   "metadata": {},
   "outputs": [
    {
     "data": {
      "text/plain": [
       "<matplotlib.axes._subplots.AxesSubplot at 0x1c286017fc8>"
      ]
     },
     "execution_count": 20,
     "metadata": {},
     "output_type": "execute_result"
    },
    {
     "data": {
      "image/png": "[encoded data removed]",
      "text/plain": [
       "<Figure size 792x648 with 1 Axes>"
      ]
     },
     "metadata": {
      "needs_background": "light"
     },
     "output_type": "display_data"
    }
   ],
   "source": [
    "mancity_stats.plot(kind= \"bar\", figsize =(11,9))"
   ]
  },
  {
   "cell_type": "code",
   "execution_count": 21,
   "metadata": {},
   "outputs": [
    {
     "data": {
      "text/plain": [
       "<matplotlib.axes._subplots.AxesSubplot at 0x1c286e6db88>"
      ]
     },
     "execution_count": 21,
     "metadata": {},
     "output_type": "execute_result"
    },
    {
     "data": {
      "image/png": "[encoded data removed]",
      "text/plain": [
       "<Figure size 792x648 with 1 Axes>"
      ]
     },
     "metadata": {
      "needs_background": "light"
     },
     "output_type": "display_data"
    }
   ],
   "source": [
    "PL.boxplot(column=['wins'], by = 'team' ,figsize =(11,9))"
   ]
  },
  {
   "cell_type": "code",
   "execution_count": 22,
   "metadata": {},
   "outputs": [],
   "source": [
    "import matplotlib as mpl\n",
    "import matplotlib.pyplot as plt\n",
    "\n",
    "%matplotlib inline"
   ]
  },
  {
   "cell_type": "code",
   "execution_count": 23,
   "metadata": {},
   "outputs": [
    {
     "data": {
      "text/plain": [
       "<matplotlib.axes._subplots.AxesSubplot at 0x1c28745ab08>"
      ]
     },
     "execution_count": 23,
     "metadata": {},
     "output_type": "execute_result"
    },
    {
     "data": {
      "image/png": "[encoded data removed]",
      "text/plain": [
       "<Figure size 432x288 with 1 Axes>"
      ]
     },
     "metadata": {
      "needs_background": "light"
     },
     "output_type": "display_data"
    }
   ],
   "source": [
    "PL[\n",
    "    PL[\"team\"] == \"Manchester United\"\n",
    "].groupby(\"season\")[\"wins\"].sum().plot()"
   ]
  },
  {
   "cell_type": "code",
   "execution_count": 24,
   "metadata": {},
   "outputs": [
    {
     "data": {
      "image/png": "[encoded data removed]",
      "text/plain": [
       "<Figure size 432x288 with 1 Axes>"
      ]
     },
     "metadata": {
      "needs_background": "light"
     },
     "output_type": "display_data"
    }
   ],
   "source": [
    "PL[\n",
    "    PL[\"team\"] == \"Manchester United\"\n",
    "].groupby(\"season\")[\"wins\"].sum().plot(marker = 'o')\n",
    "\n",
    "plt.title('Manchester United Wins ratio')\n",
    "plt.ylabel('Wins')\n",
    "plt.xlabel('Season')\n",
    "plt.text(6, 27, 'Ferguson Gone')\n",
    "\n",
    "plt.show()"
   ]
  },
  {
   "cell_type": "code",
   "execution_count": 25,
   "metadata": {},
   "outputs": [
    {
     "data": {
      "text/plain": [
       "<matplotlib.axes._subplots.AxesSubplot at 0x1c2871db388>"
      ]
     },
     "execution_count": 25,
     "metadata": {},
     "output_type": "execute_result"
    },
    {
     "data": {
      "image/png": "[encoded data removed]",
      "text/plain": [
       "<Figure size 792x648 with 1 Axes>"
      ]
     },
     "metadata": {
      "needs_background": "light"
     },
     "output_type": "display_data"
    }
   ],
   "source": [
    "MU.boxplot(column=['wins'], by = 'team' ,figsize =(11,9))"
   ]
  },
  {
   "cell_type": "code",
   "execution_count": 26,
   "metadata": {},
   "outputs": [],
   "source": [
    "PL.set_index('team', inplace= True)"
   ]
  },
  {
   "cell_type": "code",
   "execution_count": 27,
   "metadata": {},
   "outputs": [
    {
     "data": {
      "text/html": [
       "<div>\n",
       "<style scoped>\n",
       "    .dataframe tbody tr th:only-of-type {\n",
       "        vertical-align: middle;\n",
       "    }\n",
       "\n",
       "    .dataframe tbody tr th {\n",
       "        vertical-align: top;\n",
       "    }\n",
       "\n",
       "    .dataframe thead th {\n",
       "        text-align: right;\n",
       "    }\n",
       "</style>\n",
       "<table border=\"1\" class=\"dataframe\">\n",
       "  <thead>\n",
       "    <tr style=\"text-align: right;\">\n",
       "      <th></th>\n",
       "      <th>wins</th>\n",
       "      <th>losses</th>\n",
       "      <th>goals</th>\n",
       "      <th>total_yel_card</th>\n",
       "      <th>total_red_card</th>\n",
       "      <th>total_scoring_att</th>\n",
       "      <th>ontarget_scoring_att</th>\n",
       "      <th>hit_woodwork</th>\n",
       "      <th>att_hd_goal</th>\n",
       "      <th>att_pen_goal</th>\n",
       "      <th>...</th>\n",
       "      <th>total_cross</th>\n",
       "      <th>corner_taken</th>\n",
       "      <th>touches</th>\n",
       "      <th>big_chance_missed</th>\n",
       "      <th>clearance_off_line</th>\n",
       "      <th>dispossessed</th>\n",
       "      <th>penalty_save</th>\n",
       "      <th>total_high_claim</th>\n",
       "      <th>punches</th>\n",
       "      <th>season</th>\n",
       "    </tr>\n",
       "    <tr>\n",
       "      <th>team</th>\n",
       "      <th></th>\n",
       "      <th></th>\n",
       "      <th></th>\n",
       "      <th></th>\n",
       "      <th></th>\n",
       "      <th></th>\n",
       "      <th></th>\n",
       "      <th></th>\n",
       "      <th></th>\n",
       "      <th></th>\n",
       "      <th></th>\n",
       "      <th></th>\n",
       "      <th></th>\n",
       "      <th></th>\n",
       "      <th></th>\n",
       "      <th></th>\n",
       "      <th></th>\n",
       "      <th></th>\n",
       "      <th></th>\n",
       "      <th></th>\n",
       "      <th></th>\n",
       "    </tr>\n",
       "  </thead>\n",
       "  <tbody>\n",
       "    <tr>\n",
       "      <th>Manchester United</th>\n",
       "      <td>28.0</td>\n",
       "      <td>5.0</td>\n",
       "      <td>83.0</td>\n",
       "      <td>60.0</td>\n",
       "      <td>1.0</td>\n",
       "      <td>698.0</td>\n",
       "      <td>256.0</td>\n",
       "      <td>21.0</td>\n",
       "      <td>12.0</td>\n",
       "      <td>5.0</td>\n",
       "      <td>...</td>\n",
       "      <td>918.0</td>\n",
       "      <td>258.0</td>\n",
       "      <td>25686.0</td>\n",
       "      <td>NaN</td>\n",
       "      <td>1.0</td>\n",
       "      <td>NaN</td>\n",
       "      <td>2.0</td>\n",
       "      <td>37.0</td>\n",
       "      <td>25.0</td>\n",
       "      <td>2006-2007</td>\n",
       "    </tr>\n",
       "    <tr>\n",
       "      <th>Chelsea</th>\n",
       "      <td>24.0</td>\n",
       "      <td>3.0</td>\n",
       "      <td>64.0</td>\n",
       "      <td>62.0</td>\n",
       "      <td>4.0</td>\n",
       "      <td>636.0</td>\n",
       "      <td>216.0</td>\n",
       "      <td>14.0</td>\n",
       "      <td>16.0</td>\n",
       "      <td>3.0</td>\n",
       "      <td>...</td>\n",
       "      <td>897.0</td>\n",
       "      <td>231.0</td>\n",
       "      <td>24010.0</td>\n",
       "      <td>NaN</td>\n",
       "      <td>2.0</td>\n",
       "      <td>NaN</td>\n",
       "      <td>1.0</td>\n",
       "      <td>74.0</td>\n",
       "      <td>22.0</td>\n",
       "      <td>2006-2007</td>\n",
       "    </tr>\n",
       "    <tr>\n",
       "      <th>Liverpool</th>\n",
       "      <td>20.0</td>\n",
       "      <td>10.0</td>\n",
       "      <td>57.0</td>\n",
       "      <td>44.0</td>\n",
       "      <td>0.0</td>\n",
       "      <td>668.0</td>\n",
       "      <td>214.0</td>\n",
       "      <td>15.0</td>\n",
       "      <td>8.0</td>\n",
       "      <td>6.0</td>\n",
       "      <td>...</td>\n",
       "      <td>1107.0</td>\n",
       "      <td>282.0</td>\n",
       "      <td>24150.0</td>\n",
       "      <td>NaN</td>\n",
       "      <td>1.0</td>\n",
       "      <td>NaN</td>\n",
       "      <td>0.0</td>\n",
       "      <td>51.0</td>\n",
       "      <td>27.0</td>\n",
       "      <td>2006-2007</td>\n",
       "    </tr>\n",
       "    <tr>\n",
       "      <th>Arsenal</th>\n",
       "      <td>19.0</td>\n",
       "      <td>8.0</td>\n",
       "      <td>63.0</td>\n",
       "      <td>59.0</td>\n",
       "      <td>3.0</td>\n",
       "      <td>638.0</td>\n",
       "      <td>226.0</td>\n",
       "      <td>19.0</td>\n",
       "      <td>10.0</td>\n",
       "      <td>10.0</td>\n",
       "      <td>...</td>\n",
       "      <td>873.0</td>\n",
       "      <td>278.0</td>\n",
       "      <td>25592.0</td>\n",
       "      <td>NaN</td>\n",
       "      <td>1.0</td>\n",
       "      <td>NaN</td>\n",
       "      <td>0.0</td>\n",
       "      <td>88.0</td>\n",
       "      <td>27.0</td>\n",
       "      <td>2006-2007</td>\n",
       "    </tr>\n",
       "    <tr>\n",
       "      <th>Tottenham Hotspur</th>\n",
       "      <td>17.0</td>\n",
       "      <td>12.0</td>\n",
       "      <td>57.0</td>\n",
       "      <td>48.0</td>\n",
       "      <td>3.0</td>\n",
       "      <td>520.0</td>\n",
       "      <td>184.0</td>\n",
       "      <td>6.0</td>\n",
       "      <td>5.0</td>\n",
       "      <td>6.0</td>\n",
       "      <td>...</td>\n",
       "      <td>796.0</td>\n",
       "      <td>181.0</td>\n",
       "      <td>22200.0</td>\n",
       "      <td>NaN</td>\n",
       "      <td>2.0</td>\n",
       "      <td>NaN</td>\n",
       "      <td>0.0</td>\n",
       "      <td>51.0</td>\n",
       "      <td>24.0</td>\n",
       "      <td>2006-2007</td>\n",
       "    </tr>\n",
       "    <tr>\n",
       "      <th>...</th>\n",
       "      <td>...</td>\n",
       "      <td>...</td>\n",
       "      <td>...</td>\n",
       "      <td>...</td>\n",
       "      <td>...</td>\n",
       "      <td>...</td>\n",
       "      <td>...</td>\n",
       "      <td>...</td>\n",
       "      <td>...</td>\n",
       "      <td>...</td>\n",
       "      <td>...</td>\n",
       "      <td>...</td>\n",
       "      <td>...</td>\n",
       "      <td>...</td>\n",
       "      <td>...</td>\n",
       "      <td>...</td>\n",
       "      <td>...</td>\n",
       "      <td>...</td>\n",
       "      <td>...</td>\n",
       "      <td>...</td>\n",
       "      <td>...</td>\n",
       "    </tr>\n",
       "    <tr>\n",
       "      <th>Huddersfield Town</th>\n",
       "      <td>9.0</td>\n",
       "      <td>19.0</td>\n",
       "      <td>28.0</td>\n",
       "      <td>62.0</td>\n",
       "      <td>3.0</td>\n",
       "      <td>362.0</td>\n",
       "      <td>109.0</td>\n",
       "      <td>8.0</td>\n",
       "      <td>5.0</td>\n",
       "      <td>2.0</td>\n",
       "      <td>...</td>\n",
       "      <td>765.0</td>\n",
       "      <td>165.0</td>\n",
       "      <td>22619.0</td>\n",
       "      <td>21.0</td>\n",
       "      <td>6.0</td>\n",
       "      <td>416.0</td>\n",
       "      <td>2.0</td>\n",
       "      <td>31.0</td>\n",
       "      <td>24.0</td>\n",
       "      <td>2017-2018</td>\n",
       "    </tr>\n",
       "    <tr>\n",
       "      <th>Swansea City</th>\n",
       "      <td>8.0</td>\n",
       "      <td>21.0</td>\n",
       "      <td>28.0</td>\n",
       "      <td>51.0</td>\n",
       "      <td>1.0</td>\n",
       "      <td>338.0</td>\n",
       "      <td>103.0</td>\n",
       "      <td>8.0</td>\n",
       "      <td>3.0</td>\n",
       "      <td>1.0</td>\n",
       "      <td>...</td>\n",
       "      <td>694.0</td>\n",
       "      <td>150.0</td>\n",
       "      <td>22775.0</td>\n",
       "      <td>26.0</td>\n",
       "      <td>1.0</td>\n",
       "      <td>439.0</td>\n",
       "      <td>3.0</td>\n",
       "      <td>44.0</td>\n",
       "      <td>15.0</td>\n",
       "      <td>2017-2018</td>\n",
       "    </tr>\n",
       "    <tr>\n",
       "      <th>Southampton</th>\n",
       "      <td>7.0</td>\n",
       "      <td>16.0</td>\n",
       "      <td>37.0</td>\n",
       "      <td>63.0</td>\n",
       "      <td>2.0</td>\n",
       "      <td>450.0</td>\n",
       "      <td>145.0</td>\n",
       "      <td>15.0</td>\n",
       "      <td>7.0</td>\n",
       "      <td>3.0</td>\n",
       "      <td>...</td>\n",
       "      <td>800.0</td>\n",
       "      <td>227.0</td>\n",
       "      <td>24639.0</td>\n",
       "      <td>37.0</td>\n",
       "      <td>4.0</td>\n",
       "      <td>379.0</td>\n",
       "      <td>1.0</td>\n",
       "      <td>29.0</td>\n",
       "      <td>13.0</td>\n",
       "      <td>2017-2018</td>\n",
       "    </tr>\n",
       "    <tr>\n",
       "      <th>Stoke City</th>\n",
       "      <td>7.0</td>\n",
       "      <td>19.0</td>\n",
       "      <td>35.0</td>\n",
       "      <td>62.0</td>\n",
       "      <td>1.0</td>\n",
       "      <td>384.0</td>\n",
       "      <td>132.0</td>\n",
       "      <td>8.0</td>\n",
       "      <td>8.0</td>\n",
       "      <td>0.0</td>\n",
       "      <td>...</td>\n",
       "      <td>598.0</td>\n",
       "      <td>136.0</td>\n",
       "      <td>20368.0</td>\n",
       "      <td>33.0</td>\n",
       "      <td>3.0</td>\n",
       "      <td>402.0</td>\n",
       "      <td>0.0</td>\n",
       "      <td>27.0</td>\n",
       "      <td>14.0</td>\n",
       "      <td>2017-2018</td>\n",
       "    </tr>\n",
       "    <tr>\n",
       "      <th>West Bromwich Albion</th>\n",
       "      <td>6.0</td>\n",
       "      <td>19.0</td>\n",
       "      <td>31.0</td>\n",
       "      <td>73.0</td>\n",
       "      <td>1.0</td>\n",
       "      <td>378.0</td>\n",
       "      <td>114.0</td>\n",
       "      <td>7.0</td>\n",
       "      <td>10.0</td>\n",
       "      <td>1.0</td>\n",
       "      <td>...</td>\n",
       "      <td>784.0</td>\n",
       "      <td>176.0</td>\n",
       "      <td>20552.0</td>\n",
       "      <td>28.0</td>\n",
       "      <td>3.0</td>\n",
       "      <td>446.0</td>\n",
       "      <td>0.0</td>\n",
       "      <td>40.0</td>\n",
       "      <td>5.0</td>\n",
       "      <td>2017-2018</td>\n",
       "    </tr>\n",
       "  </tbody>\n",
       "</table>\n",
       "<p>240 rows × 41 columns</p>\n",
       "</div>"
      ],
      "text/plain": [
       "                      wins  losses  goals  total_yel_card  total_red_card  \\\n",
       "team                                                                        \n",
       "Manchester United     28.0     5.0   83.0            60.0             1.0   \n",
       "Chelsea               24.0     3.0   64.0            62.0             4.0   \n",
       "Liverpool             20.0    10.0   57.0            44.0             0.0   \n",
       "Arsenal               19.0     8.0   63.0            59.0             3.0   \n",
       "Tottenham Hotspur     17.0    12.0   57.0            48.0             3.0   \n",
       "...                    ...     ...    ...             ...             ...   \n",
       "Huddersfield Town      9.0    19.0   28.0            62.0             3.0   \n",
       "Swansea City           8.0    21.0   28.0            51.0             1.0   \n",
       "Southampton            7.0    16.0   37.0            63.0             2.0   \n",
       "Stoke City             7.0    19.0   35.0            62.0             1.0   \n",
       "West Bromwich Albion   6.0    19.0   31.0            73.0             1.0   \n",
       "\n",
       "                      total_scoring_att  ontarget_scoring_att  hit_woodwork  \\\n",
       "team                                                                          \n",
       "Manchester United                 698.0                 256.0          21.0   \n",
       "Chelsea                           636.0                 216.0          14.0   \n",
       "Liverpool                         668.0                 214.0          15.0   \n",
       "Arsenal                           638.0                 226.0          19.0   \n",
       "Tottenham Hotspur                 520.0                 184.0           6.0   \n",
       "...                                 ...                   ...           ...   \n",
       "Huddersfield Town                 362.0                 109.0           8.0   \n",
       "Swansea City                      338.0                 103.0           8.0   \n",
       "Southampton                       450.0                 145.0          15.0   \n",
       "Stoke City                        384.0                 132.0           8.0   \n",
       "West Bromwich Albion              378.0                 114.0           7.0   \n",
       "\n",
       "                      att_hd_goal  att_pen_goal  ...  total_cross  \\\n",
       "team                                             ...                \n",
       "Manchester United            12.0           5.0  ...        918.0   \n",
       "Chelsea                      16.0           3.0  ...        897.0   \n",
       "Liverpool                     8.0           6.0  ...       1107.0   \n",
       "Arsenal                      10.0          10.0  ...        873.0   \n",
       "Tottenham Hotspur             5.0           6.0  ...        796.0   \n",
       "...                           ...           ...  ...          ...   \n",
       "Huddersfield Town             5.0           2.0  ...        765.0   \n",
       "Swansea City                  3.0           1.0  ...        694.0   \n",
       "Southampton                   7.0           3.0  ...        800.0   \n",
       "Stoke City                    8.0           0.0  ...        598.0   \n",
       "West Bromwich Albion         10.0           1.0  ...        784.0   \n",
       "\n",
       "                      corner_taken  touches  big_chance_missed  \\\n",
       "team                                                             \n",
       "Manchester United            258.0  25686.0                NaN   \n",
       "Chelsea                      231.0  24010.0                NaN   \n",
       "Liverpool                    282.0  24150.0                NaN   \n",
       "Arsenal                      278.0  25592.0                NaN   \n",
       "Tottenham Hotspur            181.0  22200.0                NaN   \n",
       "...                            ...      ...                ...   \n",
       "Huddersfield Town            165.0  22619.0               21.0   \n",
       "Swansea City                 150.0  22775.0               26.0   \n",
       "Southampton                  227.0  24639.0               37.0   \n",
       "Stoke City                   136.0  20368.0               33.0   \n",
       "West Bromwich Albion         176.0  20552.0               28.0   \n",
       "\n",
       "                      clearance_off_line  dispossessed  penalty_save  \\\n",
       "team                                                                   \n",
       "Manchester United                    1.0           NaN           2.0   \n",
       "Chelsea                              2.0           NaN           1.0   \n",
       "Liverpool                            1.0           NaN           0.0   \n",
       "Arsenal                              1.0           NaN           0.0   \n",
       "Tottenham Hotspur                    2.0           NaN           0.0   \n",
       "...                                  ...           ...           ...   \n",
       "Huddersfield Town                    6.0         416.0           2.0   \n",
       "Swansea City                         1.0         439.0           3.0   \n",
       "Southampton                          4.0         379.0           1.0   \n",
       "Stoke City                           3.0         402.0           0.0   \n",
       "West Bromwich Albion                 3.0         446.0           0.0   \n",
       "\n",
       "                      total_high_claim  punches     season  \n",
       "team                                                        \n",
       "Manchester United                 37.0     25.0  2006-2007  \n",
       "Chelsea                           74.0     22.0  2006-2007  \n",
       "Liverpool                         51.0     27.0  2006-2007  \n",
       "Arsenal                           88.0     27.0  2006-2007  \n",
       "Tottenham Hotspur                 51.0     24.0  2006-2007  \n",
       "...                                ...      ...        ...  \n",
       "Huddersfield Town                 31.0     24.0  2017-2018  \n",
       "Swansea City                      44.0     15.0  2017-2018  \n",
       "Southampton                       29.0     13.0  2017-2018  \n",
       "Stoke City                        27.0     14.0  2017-2018  \n",
       "West Bromwich Albion              40.0      5.0  2017-2018  \n",
       "\n",
       "[240 rows x 41 columns]"
      ]
     },
     "execution_count": 27,
     "metadata": {},
     "output_type": "execute_result"
    }
   ],
   "source": [
    "PL"
   ]
  },
  {
   "cell_type": "code",
   "execution_count": 28,
   "metadata": {},
   "outputs": [],
   "source": [
    "import math\n",
    "import statistics\n",
    "import numpy as np\n",
    "import scipy.stats\n",
    "import pandas as pd"
   ]
  },
  {
   "cell_type": "code",
   "execution_count": 29,
   "metadata": {},
   "outputs": [],
   "source": [
    "import seaborn as sns"
   ]
  },
  {
   "cell_type": "code",
   "execution_count": 30,
   "metadata": {},
   "outputs": [
    {
     "data": {
      "text/plain": [
       "21.333333333333332"
      ]
     },
     "execution_count": 30,
     "metadata": {},
     "output_type": "execute_result"
    }
   ],
   "source": [
    "mean_city = statistics.mean(wins)\n",
    "\n",
    "mean_city"
   ]
  },
  {
   "cell_type": "code",
   "execution_count": 31,
   "metadata": {},
   "outputs": [
    {
     "data": {
      "text/plain": [
       "21.333333333333332"
      ]
     },
     "execution_count": 31,
     "metadata": {},
     "output_type": "execute_result"
    }
   ],
   "source": [
    "median_city = statistics.mean(wins)\n",
    "\n",
    "median_city"
   ]
  },
  {
   "cell_type": "code",
   "execution_count": 32,
   "metadata": {},
   "outputs": [
    {
     "data": {
      "text/plain": [
       "36.96969696969697"
      ]
     },
     "execution_count": 32,
     "metadata": {},
     "output_type": "execute_result"
    }
   ],
   "source": [
    "var_city = statistics.variance(wins)\n",
    "var_city"
   ]
  },
  {
   "cell_type": "code",
   "execution_count": 33,
   "metadata": {},
   "outputs": [
    {
     "data": {
      "text/plain": [
       "6.0802711263312075"
      ]
     },
     "execution_count": 33,
     "metadata": {},
     "output_type": "execute_result"
    }
   ],
   "source": [
    "std_city = statistics.stdev(wins)\n",
    "std_city"
   ]
  },
  {
   "cell_type": "code",
   "execution_count": 34,
   "metadata": {},
   "outputs": [
    {
     "data": {
      "text/plain": [
       "0.02857939854865232"
      ]
     },
     "execution_count": 34,
     "metadata": {},
     "output_type": "execute_result"
    }
   ],
   "source": [
    "scipy.stats.skew(wins, bias= False)"
   ]
  },
  {
   "cell_type": "code",
   "execution_count": 35,
   "metadata": {},
   "outputs": [
    {
     "data": {
      "text/plain": [
       "array([17.25, 22.  , 24.75])"
      ]
     },
     "execution_count": 35,
     "metadata": {},
     "output_type": "execute_result"
    }
   ],
   "source": [
    "np.percentile(wins, [25, 50, 75])"
   ]
  },
  {
   "cell_type": "code",
   "execution_count": 36,
   "metadata": {},
   "outputs": [
    {
     "data": {
      "text/plain": [
       "array([[1.        , 0.93275637],\n",
       "       [0.93275637, 1.        ]])"
      ]
     },
     "execution_count": 36,
     "metadata": {},
     "output_type": "execute_result"
    }
   ],
   "source": [
    "r = np.corrcoef(wins, goals)\n",
    "\n",
    "r"
   ]
  },
  {
   "cell_type": "code",
   "execution_count": 37,
   "metadata": {},
   "outputs": [
    {
     "data": {
      "text/plain": [
       "(0.93275637131685, 9.664979488645227e-06)"
      ]
     },
     "execution_count": 37,
     "metadata": {},
     "output_type": "execute_result"
    }
   ],
   "source": [
    "scipy.stats.pearsonr(wins, goals)"
   ]
  },
  {
   "cell_type": "code",
   "execution_count": 38,
   "metadata": {},
   "outputs": [
    {
     "data": {
      "text/plain": [
       "SpearmanrResult(correlation=0.9193039046274801, pvalue=2.350657612000038e-05)"
      ]
     },
     "execution_count": 38,
     "metadata": {},
     "output_type": "execute_result"
    }
   ],
   "source": [
    "scipy.stats.spearmanr(wins, goals)"
   ]
  },
  {
   "cell_type": "code",
   "execution_count": 39,
   "metadata": {},
   "outputs": [
    {
     "data": {
      "text/plain": [
       "KendalltauResult(correlation=0.8000946913656627, pvalue=0.00034011491879687233)"
      ]
     },
     "execution_count": 39,
     "metadata": {},
     "output_type": "execute_result"
    }
   ],
   "source": [
    "scipy.stats.kendalltau(wins, goals)"
   ]
  },
  {
   "cell_type": "code",
   "execution_count": 40,
   "metadata": {},
   "outputs": [
    {
     "data": {
      "text/plain": [
       "LinregressResult(slope=3.472950819672131, intercept=-1.9229508196721241, rvalue=0.9327563713168501, pvalue=9.66497948864515e-06, stderr=0.42446759101691556)"
      ]
     },
     "execution_count": 40,
     "metadata": {},
     "output_type": "execute_result"
    }
   ],
   "source": [
    "lincor = scipy.stats.linregress(wins, goals)\n",
    "\n",
    "lincor"
   ]
  },
  {
   "cell_type": "code",
   "execution_count": 41,
   "metadata": {},
   "outputs": [],
   "source": [
    "import matplotlib.pyplot as plt\n",
    "plt.style.use('ggplot')"
   ]
  },
  {
   "cell_type": "code",
   "execution_count": 42,
   "metadata": {},
   "outputs": [],
   "source": [
    "slope, intercept, r, p, stderr = lincor"
   ]
  },
  {
   "cell_type": "code",
   "execution_count": 43,
   "metadata": {},
   "outputs": [
    {
     "data": {
      "text/plain": [
       "3.472950819672131"
      ]
     },
     "execution_count": 43,
     "metadata": {},
     "output_type": "execute_result"
    }
   ],
   "source": [
    "slope = lincor.slope\n",
    "\n",
    "slope"
   ]
  },
  {
   "cell_type": "code",
   "execution_count": 44,
   "metadata": {},
   "outputs": [
    {
     "data": {
      "text/plain": [
       "-1.9229508196721241"
      ]
     },
     "execution_count": 44,
     "metadata": {},
     "output_type": "execute_result"
    }
   ],
   "source": [
    "intercept = lincor.intercept\n",
    "\n",
    "intercept"
   ]
  },
  {
   "cell_type": "code",
   "execution_count": 45,
   "metadata": {},
   "outputs": [
    {
     "data": {
      "text/html": [
       "<div>\n",
       "<style scoped>\n",
       "    .dataframe tbody tr th:only-of-type {\n",
       "        vertical-align: middle;\n",
       "    }\n",
       "\n",
       "    .dataframe tbody tr th {\n",
       "        vertical-align: top;\n",
       "    }\n",
       "\n",
       "    .dataframe thead th {\n",
       "        text-align: right;\n",
       "    }\n",
       "</style>\n",
       "<table border=\"1\" class=\"dataframe\">\n",
       "  <thead>\n",
       "    <tr style=\"text-align: right;\">\n",
       "      <th></th>\n",
       "      <th>wins</th>\n",
       "      <th>goals</th>\n",
       "      <th>losses</th>\n",
       "    </tr>\n",
       "  </thead>\n",
       "  <tbody>\n",
       "    <tr>\n",
       "      <th>wins</th>\n",
       "      <td>1.000000</td>\n",
       "      <td>0.932756</td>\n",
       "      <td>-0.904625</td>\n",
       "    </tr>\n",
       "    <tr>\n",
       "      <th>goals</th>\n",
       "      <td>0.932756</td>\n",
       "      <td>1.000000</td>\n",
       "      <td>-0.848373</td>\n",
       "    </tr>\n",
       "    <tr>\n",
       "      <th>losses</th>\n",
       "      <td>-0.904625</td>\n",
       "      <td>-0.848373</td>\n",
       "      <td>1.000000</td>\n",
       "    </tr>\n",
       "  </tbody>\n",
       "</table>\n",
       "</div>"
      ],
      "text/plain": [
       "            wins     goals    losses\n",
       "wins    1.000000  0.932756 -0.904625\n",
       "goals   0.932756  1.000000 -0.848373\n",
       "losses -0.904625 -0.848373  1.000000"
      ]
     },
     "execution_count": 45,
     "metadata": {},
     "output_type": "execute_result"
    }
   ],
   "source": [
    "mancity_stats.corr()"
   ]
  },
  {
   "cell_type": "code",
   "execution_count": 46,
   "metadata": {},
   "outputs": [
    {
     "data": {
      "text/plain": [
       "array([[1.  , 0.9 , 0.94, 0.85, 0.81, 0.8 , 0.78, 0.82, 0.82, 0.86, 0.82,\n",
       "        0.78],\n",
       "       [0.9 , 1.  , 0.99, 0.99, 0.99, 0.98, 0.98, 0.99, 0.99, 1.  , 0.99,\n",
       "        0.97],\n",
       "       [0.94, 0.99, 1.  , 0.98, 0.96, 0.95, 0.94, 0.96, 0.96, 0.98, 0.96,\n",
       "        0.94],\n",
       "       [0.85, 0.99, 0.98, 1.  , 1.  , 1.  , 0.99, 1.  , 1.  , 1.  , 1.  ,\n",
       "        0.99],\n",
       "       [0.81, 0.99, 0.96, 1.  , 1.  , 1.  , 1.  , 1.  , 1.  , 1.  , 1.  ,\n",
       "        1.  ],\n",
       "       [0.8 , 0.98, 0.95, 1.  , 1.  , 1.  , 1.  , 1.  , 1.  , 0.99, 1.  ,\n",
       "        1.  ],\n",
       "       [0.78, 0.98, 0.94, 0.99, 1.  , 1.  , 1.  , 1.  , 1.  , 0.99, 1.  ,\n",
       "        1.  ],\n",
       "       [0.82, 0.99, 0.96, 1.  , 1.  , 1.  , 1.  , 1.  , 1.  , 1.  , 1.  ,\n",
       "        1.  ],\n",
       "       [0.82, 0.99, 0.96, 1.  , 1.  , 1.  , 1.  , 1.  , 1.  , 1.  , 1.  ,\n",
       "        1.  ],\n",
       "       [0.86, 1.  , 0.98, 1.  , 1.  , 0.99, 0.99, 1.  , 1.  , 1.  , 1.  ,\n",
       "        0.99],\n",
       "       [0.82, 0.99, 0.96, 1.  , 1.  , 1.  , 1.  , 1.  , 1.  , 1.  , 1.  ,\n",
       "        1.  ],\n",
       "       [0.78, 0.97, 0.94, 0.99, 1.  , 1.  , 1.  , 1.  , 1.  , 0.99, 1.  ,\n",
       "        1.  ]])"
      ]
     },
     "execution_count": 46,
     "metadata": {},
     "output_type": "execute_result"
    }
   ],
   "source": [
    "city_corr = np.corrcoef(mancity_stats).round(decimals=2)\n",
    "\n",
    "city_corr"
   ]
  },
  {
   "cell_type": "code",
   "execution_count": 47,
   "metadata": {},
   "outputs": [
    {
     "data": {
      "text/plain": [
       "season\n",
       "2006-2007    11.0\n",
       "2007-2008    15.0\n",
       "2008-2009    15.0\n",
       "2009-2010    18.0\n",
       "2010-2011    21.0\n",
       "2011-2012    28.0\n",
       "2012-2013    23.0\n",
       "2013-2014    27.0\n",
       "2014-2015    24.0\n",
       "2015-2016    19.0\n",
       "2016-2017    23.0\n",
       "2017-2018    32.0\n",
       "Name: wins, dtype: float64"
      ]
     },
     "execution_count": 47,
     "metadata": {},
     "output_type": "execute_result"
    }
   ],
   "source": [
    "wins"
   ]
  },
  {
   "cell_type": "code",
   "execution_count": 48,
   "metadata": {},
   "outputs": [
    {
     "data": {
      "text/plain": [
       "array([ 1. ,  2.5,  2.5,  4. ,  6. , 11. ,  7.5, 10. ,  9. ,  5. ,  7.5,\n",
       "       12. ])"
      ]
     },
     "execution_count": 48,
     "metadata": {},
     "output_type": "execute_result"
    }
   ],
   "source": [
    "scipy.stats.rankdata(wins)"
   ]
  },
  {
   "cell_type": "code",
   "execution_count": 49,
   "metadata": {},
   "outputs": [],
   "source": [
    "line = f'Regression line: goals={intercept:.2f}+{slope:.2f}wins, r={r:.2f}'"
   ]
  },
  {
   "cell_type": "code",
   "execution_count": 50,
   "metadata": {},
   "outputs": [
    {
     "data": {
      "text/plain": [
       "'Regression line: goals=-1.92+3.47wins, r=0.93'"
      ]
     },
     "execution_count": 50,
     "metadata": {},
     "output_type": "execute_result"
    }
   ],
   "source": [
    "line"
   ]
  },
  {
   "cell_type": "code",
   "execution_count": 51,
   "metadata": {},
   "outputs": [
    {
     "data": {
      "image/png": "[encoded data removed]",
      "text/plain": [
       "<Figure size 432x288 with 1 Axes>"
      ]
     },
     "metadata": {},
     "output_type": "display_data"
    }
   ],
   "source": [
    "fig, ax = plt.subplots()\n",
    "ax.plot(wins, goals, linewidth=0, marker='s', label='Data points')\n",
    "ax.plot(wins, intercept + slope * wins, label=line)\n",
    "ax.set_xlabel('x')\n",
    "ax.set_ylabel('y')\n",
    "ax.legend(facecolor='white')\n",
    "plt.show()"
   ]
  },
  {
   "cell_type": "code",
   "execution_count": 52,
   "metadata": {},
   "outputs": [
    {
     "data": {
      "image/png": "[encoded data removed]",
      "text/plain": [
       "<Figure size 432x288 with 2 Axes>"
      ]
     },
     "metadata": {},
     "output_type": "display_data"
    }
   ],
   "source": [
    "fig, ax = plt.subplots()\n",
    "im = ax.imshow(city_corr) \n",
    "ax.grid(False)\n",
    "cbar = ax.figure.colorbar(im, ax=ax, format='% .2f')"
   ]
  },
  {
   "cell_type": "code",
   "execution_count": 53,
   "metadata": {},
   "outputs": [
    {
     "data": {
      "image/png": "[encoded data removed]",
      "text/plain": [
       "<Figure size 432x288 with 1 Axes>"
      ]
     },
     "metadata": {},
     "output_type": "display_data"
    }
   ],
   "source": [
    "fig, ax= plt.subplots()\n",
    "ax.boxplot((wins, losses, goals), \n",
    "           vert=False, \n",
    "           showmeans=True, \n",
    "           meanline=True, \n",
    "           labels=('wins', 'losses', 'goals'),\n",
    "           medianprops={'linewidth' : 2, 'color': 'purple'},\n",
    "           meanprops={'linewidth': 2, 'color': 'red'}           \n",
    "          )\n",
    "\n",
    "plt.show()"
   ]
  },
  {
   "cell_type": "code",
   "execution_count": 54,
   "metadata": {},
   "outputs": [],
   "source": [
    "hist, bin_edges = np.histogram(goals)"
   ]
  },
  {
   "cell_type": "code",
   "execution_count": 55,
   "metadata": {},
   "outputs": [
    {
     "data": {
      "text/plain": [
       "array([1, 0, 1, 1, 2, 2, 1, 1, 1, 2], dtype=int64)"
      ]
     },
     "execution_count": 55,
     "metadata": {},
     "output_type": "execute_result"
    }
   ],
   "source": [
    "hist"
   ]
  },
  {
   "cell_type": "code",
   "execution_count": 56,
   "metadata": {},
   "outputs": [
    {
     "data": {
      "text/plain": [
       "array([ 29. ,  36.7,  44.4,  52.1,  59.8,  67.5,  75.2,  82.9,  90.6,\n",
       "        98.3, 106. ])"
      ]
     },
     "execution_count": 56,
     "metadata": {},
     "output_type": "execute_result"
    }
   ],
   "source": [
    "bin_edges"
   ]
  },
  {
   "cell_type": "code",
   "execution_count": 57,
   "metadata": {},
   "outputs": [
    {
     "data": {
      "image/png": "[encoded data removed]",
      "text/plain": [
       "<Figure size 432x288 with 1 Axes>"
      ]
     },
     "metadata": {},
     "output_type": "display_data"
    }
   ],
   "source": [
    "fig, ax = plt.subplots()\n",
    "ax.hist(goals, bin_edges)\n",
    "ax.set_xlabel('x')\n",
    "ax.set_ylabel('Frequency')\n",
    "\n",
    "plt.show()"
   ]
  },
  {
   "cell_type": "code",
   "execution_count": 155,
   "metadata": {},
   "outputs": [
    {
     "ename": "TypeError",
     "evalue": "only size-1 arrays can be converted to Python scalars",
     "output_type": "error",
     "traceback": [
      "\u001b[1;31m---------------------------------------------------------------------------\u001b[0m",
      "\u001b[1;31mTypeError\u001b[0m                                 Traceback (most recent call last)",
      "\u001b[1;32m<ipython-input-155-192e0b259471>\u001b[0m in \u001b[0;36m<module>\u001b[1;34m\u001b[0m\n\u001b[0;32m      1\u001b[0m \u001b[0mfig\u001b[0m\u001b[1;33m,\u001b[0m \u001b[0max\u001b[0m \u001b[1;33m=\u001b[0m \u001b[0mplt\u001b[0m\u001b[1;33m.\u001b[0m\u001b[0msubplots\u001b[0m\u001b[1;33m(\u001b[0m\u001b[1;33m)\u001b[0m\u001b[1;33m\u001b[0m\u001b[1;33m\u001b[0m\u001b[0m\n\u001b[1;32m----> 2\u001b[1;33m \u001b[0max\u001b[0m\u001b[1;33m.\u001b[0m\u001b[0mpie\u001b[0m\u001b[1;33m(\u001b[0m\u001b[1;33m(\u001b[0m\u001b[0mwins\u001b[0m\u001b[1;33m,\u001b[0m \u001b[0mlosses\u001b[0m\u001b[1;33m,\u001b[0m \u001b[0mgoals\u001b[0m\u001b[1;33m)\u001b[0m\u001b[1;33m,\u001b[0m \u001b[0mlabels\u001b[0m\u001b[1;33m=\u001b[0m\u001b[1;33m(\u001b[0m\u001b[1;34m'x'\u001b[0m\u001b[1;33m,\u001b[0m \u001b[1;34m'y'\u001b[0m\u001b[1;33m,\u001b[0m \u001b[1;34m'z'\u001b[0m\u001b[1;33m)\u001b[0m\u001b[1;33m,\u001b[0m \u001b[0mautopct\u001b[0m\u001b[1;33m=\u001b[0m\u001b[1;34m'%1.1f%%'\u001b[0m\u001b[1;33m)\u001b[0m\u001b[1;33m\u001b[0m\u001b[1;33m\u001b[0m\u001b[0m\n\u001b[0m\u001b[0;32m      3\u001b[0m \u001b[1;33m\u001b[0m\u001b[0m\n\u001b[0;32m      4\u001b[0m \u001b[0mplt\u001b[0m\u001b[1;33m.\u001b[0m\u001b[0mshow\u001b[0m\u001b[1;33m(\u001b[0m\u001b[1;33m)\u001b[0m\u001b[1;33m\u001b[0m\u001b[1;33m\u001b[0m\u001b[0m\n",
      "\u001b[1;32m~\\anaconda3\\lib\\site-packages\\matplotlib\\__init__.py\u001b[0m in \u001b[0;36minner\u001b[1;34m(ax, data, *args, **kwargs)\u001b[0m\n\u001b[0;32m   1597\u001b[0m     \u001b[1;32mdef\u001b[0m \u001b[0minner\u001b[0m\u001b[1;33m(\u001b[0m\u001b[0max\u001b[0m\u001b[1;33m,\u001b[0m \u001b[1;33m*\u001b[0m\u001b[0margs\u001b[0m\u001b[1;33m,\u001b[0m \u001b[0mdata\u001b[0m\u001b[1;33m=\u001b[0m\u001b[1;32mNone\u001b[0m\u001b[1;33m,\u001b[0m \u001b[1;33m**\u001b[0m\u001b[0mkwargs\u001b[0m\u001b[1;33m)\u001b[0m\u001b[1;33m:\u001b[0m\u001b[1;33m\u001b[0m\u001b[1;33m\u001b[0m\u001b[0m\n\u001b[0;32m   1598\u001b[0m         \u001b[1;32mif\u001b[0m \u001b[0mdata\u001b[0m \u001b[1;32mis\u001b[0m \u001b[1;32mNone\u001b[0m\u001b[1;33m:\u001b[0m\u001b[1;33m\u001b[0m\u001b[1;33m\u001b[0m\u001b[0m\n\u001b[1;32m-> 1599\u001b[1;33m             \u001b[1;32mreturn\u001b[0m \u001b[0mfunc\u001b[0m\u001b[1;33m(\u001b[0m\u001b[0max\u001b[0m\u001b[1;33m,\u001b[0m \u001b[1;33m*\u001b[0m\u001b[0mmap\u001b[0m\u001b[1;33m(\u001b[0m\u001b[0msanitize_sequence\u001b[0m\u001b[1;33m,\u001b[0m \u001b[0margs\u001b[0m\u001b[1;33m)\u001b[0m\u001b[1;33m,\u001b[0m \u001b[1;33m**\u001b[0m\u001b[0mkwargs\u001b[0m\u001b[1;33m)\u001b[0m\u001b[1;33m\u001b[0m\u001b[1;33m\u001b[0m\u001b[0m\n\u001b[0m\u001b[0;32m   1600\u001b[0m \u001b[1;33m\u001b[0m\u001b[0m\n\u001b[0;32m   1601\u001b[0m         \u001b[0mbound\u001b[0m \u001b[1;33m=\u001b[0m \u001b[0mnew_sig\u001b[0m\u001b[1;33m.\u001b[0m\u001b[0mbind\u001b[0m\u001b[1;33m(\u001b[0m\u001b[0max\u001b[0m\u001b[1;33m,\u001b[0m \u001b[1;33m*\u001b[0m\u001b[0margs\u001b[0m\u001b[1;33m,\u001b[0m \u001b[1;33m**\u001b[0m\u001b[0mkwargs\u001b[0m\u001b[1;33m)\u001b[0m\u001b[1;33m\u001b[0m\u001b[1;33m\u001b[0m\u001b[0m\n",
      "\u001b[1;32m~\\anaconda3\\lib\\site-packages\\matplotlib\\axes\\_axes.py\u001b[0m in \u001b[0;36mpie\u001b[1;34m(self, x, explode, labels, colors, autopct, pctdistance, shadow, labeldistance, startangle, radius, counterclock, wedgeprops, textprops, center, frame, rotatelabels)\u001b[0m\n\u001b[0;32m   3018\u001b[0m             \u001b[0mtheta2\u001b[0m \u001b[1;33m=\u001b[0m \u001b[1;33m(\u001b[0m\u001b[0mtheta1\u001b[0m \u001b[1;33m+\u001b[0m \u001b[0mfrac\u001b[0m\u001b[1;33m)\u001b[0m \u001b[1;32mif\u001b[0m \u001b[0mcounterclock\u001b[0m \u001b[1;32melse\u001b[0m \u001b[1;33m(\u001b[0m\u001b[0mtheta1\u001b[0m \u001b[1;33m-\u001b[0m \u001b[0mfrac\u001b[0m\u001b[1;33m)\u001b[0m\u001b[1;33m\u001b[0m\u001b[1;33m\u001b[0m\u001b[0m\n\u001b[0;32m   3019\u001b[0m             \u001b[0mthetam\u001b[0m \u001b[1;33m=\u001b[0m \u001b[1;36m2\u001b[0m \u001b[1;33m*\u001b[0m \u001b[0mnp\u001b[0m\u001b[1;33m.\u001b[0m\u001b[0mpi\u001b[0m \u001b[1;33m*\u001b[0m \u001b[1;36m0.5\u001b[0m \u001b[1;33m*\u001b[0m \u001b[1;33m(\u001b[0m\u001b[0mtheta1\u001b[0m \u001b[1;33m+\u001b[0m \u001b[0mtheta2\u001b[0m\u001b[1;33m)\u001b[0m\u001b[1;33m\u001b[0m\u001b[1;33m\u001b[0m\u001b[0m\n\u001b[1;32m-> 3020\u001b[1;33m             \u001b[0mx\u001b[0m \u001b[1;33m+=\u001b[0m \u001b[0mexpl\u001b[0m \u001b[1;33m*\u001b[0m \u001b[0mmath\u001b[0m\u001b[1;33m.\u001b[0m\u001b[0mcos\u001b[0m\u001b[1;33m(\u001b[0m\u001b[0mthetam\u001b[0m\u001b[1;33m)\u001b[0m\u001b[1;33m\u001b[0m\u001b[1;33m\u001b[0m\u001b[0m\n\u001b[0m\u001b[0;32m   3021\u001b[0m             \u001b[0my\u001b[0m \u001b[1;33m+=\u001b[0m \u001b[0mexpl\u001b[0m \u001b[1;33m*\u001b[0m \u001b[0mmath\u001b[0m\u001b[1;33m.\u001b[0m\u001b[0msin\u001b[0m\u001b[1;33m(\u001b[0m\u001b[0mthetam\u001b[0m\u001b[1;33m)\u001b[0m\u001b[1;33m\u001b[0m\u001b[1;33m\u001b[0m\u001b[0m\n\u001b[0;32m   3022\u001b[0m \u001b[1;33m\u001b[0m\u001b[0m\n",
      "\u001b[1;31mTypeError\u001b[0m: only size-1 arrays can be converted to Python scalars"
     ]
    },
    {
     "data": {
      "image/png": "[encoded data removed]",
      "text/plain": [
       "<Figure size 432x288 with 1 Axes>"
      ]
     },
     "metadata": {},
     "output_type": "display_data"
    }
   ],
   "source": []
  },
  {
   "cell_type": "code",
   "execution_count": 58,
   "metadata": {},
   "outputs": [
    {
     "data": {
      "text/plain": [
       "256.0"
      ]
     },
     "execution_count": 58,
     "metadata": {},
     "output_type": "execute_result"
    }
   ],
   "source": [
    "city_sum = wins.sum()\n",
    "\n",
    "city_sum"
   ]
  },
  {
   "cell_type": "code",
   "execution_count": 59,
   "metadata": {},
   "outputs": [
    {
     "data": {
      "text/html": [
       "<div>\n",
       "<style scoped>\n",
       "    .dataframe tbody tr th:only-of-type {\n",
       "        vertical-align: middle;\n",
       "    }\n",
       "\n",
       "    .dataframe tbody tr th {\n",
       "        vertical-align: top;\n",
       "    }\n",
       "\n",
       "    .dataframe thead th {\n",
       "        text-align: right;\n",
       "    }\n",
       "</style>\n",
       "<table border=\"1\" class=\"dataframe\">\n",
       "  <thead>\n",
       "    <tr style=\"text-align: right;\">\n",
       "      <th></th>\n",
       "      <th>wins</th>\n",
       "      <th>losses</th>\n",
       "      <th>goals</th>\n",
       "      <th>total_yel_card</th>\n",
       "      <th>total_red_card</th>\n",
       "      <th>total_scoring_att</th>\n",
       "      <th>ontarget_scoring_att</th>\n",
       "      <th>hit_woodwork</th>\n",
       "      <th>att_hd_goal</th>\n",
       "      <th>att_pen_goal</th>\n",
       "      <th>...</th>\n",
       "      <th>total_cross</th>\n",
       "      <th>corner_taken</th>\n",
       "      <th>touches</th>\n",
       "      <th>big_chance_missed</th>\n",
       "      <th>clearance_off_line</th>\n",
       "      <th>dispossessed</th>\n",
       "      <th>penalty_save</th>\n",
       "      <th>total_high_claim</th>\n",
       "      <th>punches</th>\n",
       "      <th>season</th>\n",
       "    </tr>\n",
       "    <tr>\n",
       "      <th>team</th>\n",
       "      <th></th>\n",
       "      <th></th>\n",
       "      <th></th>\n",
       "      <th></th>\n",
       "      <th></th>\n",
       "      <th></th>\n",
       "      <th></th>\n",
       "      <th></th>\n",
       "      <th></th>\n",
       "      <th></th>\n",
       "      <th></th>\n",
       "      <th></th>\n",
       "      <th></th>\n",
       "      <th></th>\n",
       "      <th></th>\n",
       "      <th></th>\n",
       "      <th></th>\n",
       "      <th></th>\n",
       "      <th></th>\n",
       "      <th></th>\n",
       "      <th></th>\n",
       "    </tr>\n",
       "  </thead>\n",
       "  <tbody>\n",
       "    <tr>\n",
       "      <th>Manchester United</th>\n",
       "      <td>28.0</td>\n",
       "      <td>5.0</td>\n",
       "      <td>83.0</td>\n",
       "      <td>60.0</td>\n",
       "      <td>1.0</td>\n",
       "      <td>698.0</td>\n",
       "      <td>256.0</td>\n",
       "      <td>21.0</td>\n",
       "      <td>12.0</td>\n",
       "      <td>5.0</td>\n",
       "      <td>...</td>\n",
       "      <td>918.0</td>\n",
       "      <td>258.0</td>\n",
       "      <td>25686.0</td>\n",
       "      <td>NaN</td>\n",
       "      <td>1.0</td>\n",
       "      <td>NaN</td>\n",
       "      <td>2.0</td>\n",
       "      <td>37.0</td>\n",
       "      <td>25.0</td>\n",
       "      <td>2006-2007</td>\n",
       "    </tr>\n",
       "    <tr>\n",
       "      <th>Chelsea</th>\n",
       "      <td>24.0</td>\n",
       "      <td>3.0</td>\n",
       "      <td>64.0</td>\n",
       "      <td>62.0</td>\n",
       "      <td>4.0</td>\n",
       "      <td>636.0</td>\n",
       "      <td>216.0</td>\n",
       "      <td>14.0</td>\n",
       "      <td>16.0</td>\n",
       "      <td>3.0</td>\n",
       "      <td>...</td>\n",
       "      <td>897.0</td>\n",
       "      <td>231.0</td>\n",
       "      <td>24010.0</td>\n",
       "      <td>NaN</td>\n",
       "      <td>2.0</td>\n",
       "      <td>NaN</td>\n",
       "      <td>1.0</td>\n",
       "      <td>74.0</td>\n",
       "      <td>22.0</td>\n",
       "      <td>2006-2007</td>\n",
       "    </tr>\n",
       "    <tr>\n",
       "      <th>Liverpool</th>\n",
       "      <td>20.0</td>\n",
       "      <td>10.0</td>\n",
       "      <td>57.0</td>\n",
       "      <td>44.0</td>\n",
       "      <td>0.0</td>\n",
       "      <td>668.0</td>\n",
       "      <td>214.0</td>\n",
       "      <td>15.0</td>\n",
       "      <td>8.0</td>\n",
       "      <td>6.0</td>\n",
       "      <td>...</td>\n",
       "      <td>1107.0</td>\n",
       "      <td>282.0</td>\n",
       "      <td>24150.0</td>\n",
       "      <td>NaN</td>\n",
       "      <td>1.0</td>\n",
       "      <td>NaN</td>\n",
       "      <td>0.0</td>\n",
       "      <td>51.0</td>\n",
       "      <td>27.0</td>\n",
       "      <td>2006-2007</td>\n",
       "    </tr>\n",
       "    <tr>\n",
       "      <th>Arsenal</th>\n",
       "      <td>19.0</td>\n",
       "      <td>8.0</td>\n",
       "      <td>63.0</td>\n",
       "      <td>59.0</td>\n",
       "      <td>3.0</td>\n",
       "      <td>638.0</td>\n",
       "      <td>226.0</td>\n",
       "      <td>19.0</td>\n",
       "      <td>10.0</td>\n",
       "      <td>10.0</td>\n",
       "      <td>...</td>\n",
       "      <td>873.0</td>\n",
       "      <td>278.0</td>\n",
       "      <td>25592.0</td>\n",
       "      <td>NaN</td>\n",
       "      <td>1.0</td>\n",
       "      <td>NaN</td>\n",
       "      <td>0.0</td>\n",
       "      <td>88.0</td>\n",
       "      <td>27.0</td>\n",
       "      <td>2006-2007</td>\n",
       "    </tr>\n",
       "    <tr>\n",
       "      <th>Tottenham Hotspur</th>\n",
       "      <td>17.0</td>\n",
       "      <td>12.0</td>\n",
       "      <td>57.0</td>\n",
       "      <td>48.0</td>\n",
       "      <td>3.0</td>\n",
       "      <td>520.0</td>\n",
       "      <td>184.0</td>\n",
       "      <td>6.0</td>\n",
       "      <td>5.0</td>\n",
       "      <td>6.0</td>\n",
       "      <td>...</td>\n",
       "      <td>796.0</td>\n",
       "      <td>181.0</td>\n",
       "      <td>22200.0</td>\n",
       "      <td>NaN</td>\n",
       "      <td>2.0</td>\n",
       "      <td>NaN</td>\n",
       "      <td>0.0</td>\n",
       "      <td>51.0</td>\n",
       "      <td>24.0</td>\n",
       "      <td>2006-2007</td>\n",
       "    </tr>\n",
       "    <tr>\n",
       "      <th>...</th>\n",
       "      <td>...</td>\n",
       "      <td>...</td>\n",
       "      <td>...</td>\n",
       "      <td>...</td>\n",
       "      <td>...</td>\n",
       "      <td>...</td>\n",
       "      <td>...</td>\n",
       "      <td>...</td>\n",
       "      <td>...</td>\n",
       "      <td>...</td>\n",
       "      <td>...</td>\n",
       "      <td>...</td>\n",
       "      <td>...</td>\n",
       "      <td>...</td>\n",
       "      <td>...</td>\n",
       "      <td>...</td>\n",
       "      <td>...</td>\n",
       "      <td>...</td>\n",
       "      <td>...</td>\n",
       "      <td>...</td>\n",
       "      <td>...</td>\n",
       "    </tr>\n",
       "    <tr>\n",
       "      <th>Huddersfield Town</th>\n",
       "      <td>9.0</td>\n",
       "      <td>19.0</td>\n",
       "      <td>28.0</td>\n",
       "      <td>62.0</td>\n",
       "      <td>3.0</td>\n",
       "      <td>362.0</td>\n",
       "      <td>109.0</td>\n",
       "      <td>8.0</td>\n",
       "      <td>5.0</td>\n",
       "      <td>2.0</td>\n",
       "      <td>...</td>\n",
       "      <td>765.0</td>\n",
       "      <td>165.0</td>\n",
       "      <td>22619.0</td>\n",
       "      <td>21.0</td>\n",
       "      <td>6.0</td>\n",
       "      <td>416.0</td>\n",
       "      <td>2.0</td>\n",
       "      <td>31.0</td>\n",
       "      <td>24.0</td>\n",
       "      <td>2017-2018</td>\n",
       "    </tr>\n",
       "    <tr>\n",
       "      <th>Swansea City</th>\n",
       "      <td>8.0</td>\n",
       "      <td>21.0</td>\n",
       "      <td>28.0</td>\n",
       "      <td>51.0</td>\n",
       "      <td>1.0</td>\n",
       "      <td>338.0</td>\n",
       "      <td>103.0</td>\n",
       "      <td>8.0</td>\n",
       "      <td>3.0</td>\n",
       "      <td>1.0</td>\n",
       "      <td>...</td>\n",
       "      <td>694.0</td>\n",
       "      <td>150.0</td>\n",
       "      <td>22775.0</td>\n",
       "      <td>26.0</td>\n",
       "      <td>1.0</td>\n",
       "      <td>439.0</td>\n",
       "      <td>3.0</td>\n",
       "      <td>44.0</td>\n",
       "      <td>15.0</td>\n",
       "      <td>2017-2018</td>\n",
       "    </tr>\n",
       "    <tr>\n",
       "      <th>Southampton</th>\n",
       "      <td>7.0</td>\n",
       "      <td>16.0</td>\n",
       "      <td>37.0</td>\n",
       "      <td>63.0</td>\n",
       "      <td>2.0</td>\n",
       "      <td>450.0</td>\n",
       "      <td>145.0</td>\n",
       "      <td>15.0</td>\n",
       "      <td>7.0</td>\n",
       "      <td>3.0</td>\n",
       "      <td>...</td>\n",
       "      <td>800.0</td>\n",
       "      <td>227.0</td>\n",
       "      <td>24639.0</td>\n",
       "      <td>37.0</td>\n",
       "      <td>4.0</td>\n",
       "      <td>379.0</td>\n",
       "      <td>1.0</td>\n",
       "      <td>29.0</td>\n",
       "      <td>13.0</td>\n",
       "      <td>2017-2018</td>\n",
       "    </tr>\n",
       "    <tr>\n",
       "      <th>Stoke City</th>\n",
       "      <td>7.0</td>\n",
       "      <td>19.0</td>\n",
       "      <td>35.0</td>\n",
       "      <td>62.0</td>\n",
       "      <td>1.0</td>\n",
       "      <td>384.0</td>\n",
       "      <td>132.0</td>\n",
       "      <td>8.0</td>\n",
       "      <td>8.0</td>\n",
       "      <td>0.0</td>\n",
       "      <td>...</td>\n",
       "      <td>598.0</td>\n",
       "      <td>136.0</td>\n",
       "      <td>20368.0</td>\n",
       "      <td>33.0</td>\n",
       "      <td>3.0</td>\n",
       "      <td>402.0</td>\n",
       "      <td>0.0</td>\n",
       "      <td>27.0</td>\n",
       "      <td>14.0</td>\n",
       "      <td>2017-2018</td>\n",
       "    </tr>\n",
       "    <tr>\n",
       "      <th>West Bromwich Albion</th>\n",
       "      <td>6.0</td>\n",
       "      <td>19.0</td>\n",
       "      <td>31.0</td>\n",
       "      <td>73.0</td>\n",
       "      <td>1.0</td>\n",
       "      <td>378.0</td>\n",
       "      <td>114.0</td>\n",
       "      <td>7.0</td>\n",
       "      <td>10.0</td>\n",
       "      <td>1.0</td>\n",
       "      <td>...</td>\n",
       "      <td>784.0</td>\n",
       "      <td>176.0</td>\n",
       "      <td>20552.0</td>\n",
       "      <td>28.0</td>\n",
       "      <td>3.0</td>\n",
       "      <td>446.0</td>\n",
       "      <td>0.0</td>\n",
       "      <td>40.0</td>\n",
       "      <td>5.0</td>\n",
       "      <td>2017-2018</td>\n",
       "    </tr>\n",
       "  </tbody>\n",
       "</table>\n",
       "<p>240 rows × 41 columns</p>\n",
       "</div>"
      ],
      "text/plain": [
       "                      wins  losses  goals  total_yel_card  total_red_card  \\\n",
       "team                                                                        \n",
       "Manchester United     28.0     5.0   83.0            60.0             1.0   \n",
       "Chelsea               24.0     3.0   64.0            62.0             4.0   \n",
       "Liverpool             20.0    10.0   57.0            44.0             0.0   \n",
       "Arsenal               19.0     8.0   63.0            59.0             3.0   \n",
       "Tottenham Hotspur     17.0    12.0   57.0            48.0             3.0   \n",
       "...                    ...     ...    ...             ...             ...   \n",
       "Huddersfield Town      9.0    19.0   28.0            62.0             3.0   \n",
       "Swansea City           8.0    21.0   28.0            51.0             1.0   \n",
       "Southampton            7.0    16.0   37.0            63.0             2.0   \n",
       "Stoke City             7.0    19.0   35.0            62.0             1.0   \n",
       "West Bromwich Albion   6.0    19.0   31.0            73.0             1.0   \n",
       "\n",
       "                      total_scoring_att  ontarget_scoring_att  hit_woodwork  \\\n",
       "team                                                                          \n",
       "Manchester United                 698.0                 256.0          21.0   \n",
       "Chelsea                           636.0                 216.0          14.0   \n",
       "Liverpool                         668.0                 214.0          15.0   \n",
       "Arsenal                           638.0                 226.0          19.0   \n",
       "Tottenham Hotspur                 520.0                 184.0           6.0   \n",
       "...                                 ...                   ...           ...   \n",
       "Huddersfield Town                 362.0                 109.0           8.0   \n",
       "Swansea City                      338.0                 103.0           8.0   \n",
       "Southampton                       450.0                 145.0          15.0   \n",
       "Stoke City                        384.0                 132.0           8.0   \n",
       "West Bromwich Albion              378.0                 114.0           7.0   \n",
       "\n",
       "                      att_hd_goal  att_pen_goal  ...  total_cross  \\\n",
       "team                                             ...                \n",
       "Manchester United            12.0           5.0  ...        918.0   \n",
       "Chelsea                      16.0           3.0  ...        897.0   \n",
       "Liverpool                     8.0           6.0  ...       1107.0   \n",
       "Arsenal                      10.0          10.0  ...        873.0   \n",
       "Tottenham Hotspur             5.0           6.0  ...        796.0   \n",
       "...                           ...           ...  ...          ...   \n",
       "Huddersfield Town             5.0           2.0  ...        765.0   \n",
       "Swansea City                  3.0           1.0  ...        694.0   \n",
       "Southampton                   7.0           3.0  ...        800.0   \n",
       "Stoke City                    8.0           0.0  ...        598.0   \n",
       "West Bromwich Albion         10.0           1.0  ...        784.0   \n",
       "\n",
       "                      corner_taken  touches  big_chance_missed  \\\n",
       "team                                                             \n",
       "Manchester United            258.0  25686.0                NaN   \n",
       "Chelsea                      231.0  24010.0                NaN   \n",
       "Liverpool                    282.0  24150.0                NaN   \n",
       "Arsenal                      278.0  25592.0                NaN   \n",
       "Tottenham Hotspur            181.0  22200.0                NaN   \n",
       "...                            ...      ...                ...   \n",
       "Huddersfield Town            165.0  22619.0               21.0   \n",
       "Swansea City                 150.0  22775.0               26.0   \n",
       "Southampton                  227.0  24639.0               37.0   \n",
       "Stoke City                   136.0  20368.0               33.0   \n",
       "West Bromwich Albion         176.0  20552.0               28.0   \n",
       "\n",
       "                      clearance_off_line  dispossessed  penalty_save  \\\n",
       "team                                                                   \n",
       "Manchester United                    1.0           NaN           2.0   \n",
       "Chelsea                              2.0           NaN           1.0   \n",
       "Liverpool                            1.0           NaN           0.0   \n",
       "Arsenal                              1.0           NaN           0.0   \n",
       "Tottenham Hotspur                    2.0           NaN           0.0   \n",
       "...                                  ...           ...           ...   \n",
       "Huddersfield Town                    6.0         416.0           2.0   \n",
       "Swansea City                         1.0         439.0           3.0   \n",
       "Southampton                          4.0         379.0           1.0   \n",
       "Stoke City                           3.0         402.0           0.0   \n",
       "West Bromwich Albion                 3.0         446.0           0.0   \n",
       "\n",
       "                      total_high_claim  punches     season  \n",
       "team                                                        \n",
       "Manchester United                 37.0     25.0  2006-2007  \n",
       "Chelsea                           74.0     22.0  2006-2007  \n",
       "Liverpool                         51.0     27.0  2006-2007  \n",
       "Arsenal                           88.0     27.0  2006-2007  \n",
       "Tottenham Hotspur                 51.0     24.0  2006-2007  \n",
       "...                                ...      ...        ...  \n",
       "Huddersfield Town                 31.0     24.0  2017-2018  \n",
       "Swansea City                      44.0     15.0  2017-2018  \n",
       "Southampton                       29.0     13.0  2017-2018  \n",
       "Stoke City                        27.0     14.0  2017-2018  \n",
       "West Bromwich Albion              40.0      5.0  2017-2018  \n",
       "\n",
       "[240 rows x 41 columns]"
      ]
     },
     "execution_count": 59,
     "metadata": {},
     "output_type": "execute_result"
    }
   ],
   "source": [
    "PL"
   ]
  },
  {
   "cell_type": "code",
   "execution_count": 63,
   "metadata": {},
   "outputs": [],
   "source": [
    "United = PL[\n",
    "    (PL[\"team\"] == \"Manchester United\") &\n",
    "    (PL[\"season\"] > \"2000-2001\")\n",
    "].groupby(\"season\")[\"wins\"].sum()"
   ]
  },
  {
   "cell_type": "code",
   "execution_count": 64,
   "metadata": {},
   "outputs": [],
   "source": [
    "Chelsea = PL[\n",
    "    (PL[\"team\"] == \"Chelsea\") &\n",
    "    (PL[\"season\"] > \"2000-2001\")\n",
    "].groupby(\"season\")[\"wins\"].sum()"
   ]
  },
  {
   "cell_type": "code",
   "execution_count": 136,
   "metadata": {},
   "outputs": [
    {
     "data": {
      "text/plain": [
       "season\n",
       "2006-2007    24.0\n",
       "2007-2008    25.0\n",
       "2008-2009    25.0\n",
       "2009-2010    27.0\n",
       "2010-2011    21.0\n",
       "2011-2012    18.0\n",
       "2012-2013    22.0\n",
       "2013-2014    25.0\n",
       "2014-2015    26.0\n",
       "2015-2016    12.0\n",
       "2016-2017    30.0\n",
       "2017-2018    21.0\n",
       "Name: wins, dtype: float64"
      ]
     },
     "execution_count": 136,
     "metadata": {},
     "output_type": "execute_result"
    }
   ],
   "source": [
    "Chelsea"
   ]
  },
  {
   "cell_type": "code",
   "execution_count": 65,
   "metadata": {},
   "outputs": [],
   "source": [
    "Liverpool = PL[\n",
    "    (PL[\"team\"] == \"Liverpool\") &\n",
    "    (PL[\"season\"] > \"2000-2001\")\n",
    "].groupby(\"season\")[\"wins\"].sum()"
   ]
  },
  {
   "cell_type": "code",
   "execution_count": 66,
   "metadata": {},
   "outputs": [],
   "source": [
    "Arsenal = PL[\n",
    "    (PL[\"team\"] == \"Arsenal\") &\n",
    "    (PL[\"season\"] > \"2000-2001\")\n",
    "].groupby(\"season\")[\"wins\"].sum()"
   ]
  },
  {
   "cell_type": "code",
   "execution_count": 67,
   "metadata": {},
   "outputs": [
    {
     "data": {
      "text/plain": [
       "290.0"
      ]
     },
     "execution_count": 67,
     "metadata": {},
     "output_type": "execute_result"
    }
   ],
   "source": [
    "manu_sum = United.sum()\n",
    "\n",
    "manu_sum"
   ]
  },
  {
   "cell_type": "code",
   "execution_count": 68,
   "metadata": {},
   "outputs": [
    {
     "data": {
      "text/plain": [
       "276.0"
      ]
     },
     "execution_count": 68,
     "metadata": {},
     "output_type": "execute_result"
    }
   ],
   "source": [
    "chelsea_sum = Chelsea.sum()\n",
    "\n",
    "chelsea_sum"
   ]
  },
  {
   "cell_type": "code",
   "execution_count": 69,
   "metadata": {},
   "outputs": [
    {
     "data": {
      "text/plain": [
       "234.0"
      ]
     },
     "execution_count": 69,
     "metadata": {},
     "output_type": "execute_result"
    }
   ],
   "source": [
    "liverpool_sum = Liverpool.sum()\n",
    "\n",
    "liverpool_sum"
   ]
  },
  {
   "cell_type": "code",
   "execution_count": 70,
   "metadata": {},
   "outputs": [
    {
     "data": {
      "text/plain": [
       "255.0"
      ]
     },
     "execution_count": 70,
     "metadata": {},
     "output_type": "execute_result"
    }
   ],
   "source": [
    "arsenal_sum = Arsenal.sum()\n",
    "\n",
    "arsenal_sum"
   ]
  },
  {
   "cell_type": "code",
   "execution_count": 71,
   "metadata": {},
   "outputs": [
    {
     "data": {
      "image/png": "[encoded data removed]",
      "text/plain": [
       "<Figure size 432x288 with 1 Axes>"
      ]
     },
     "metadata": {},
     "output_type": "display_data"
    }
   ],
   "source": [
    "fig, ax = plt.subplots()\n",
    "ax.pie((city_sum, manu_sum, chelsea_sum, arsenal_sum, liverpool_sum), labels=('Man City', 'Man United', 'Chelsea', 'Arsenal', 'Liverpool'), autopct='%1.1f%%')\n",
    "\n",
    "\n",
    "plt.show()"
   ]
  },
  {
   "cell_type": "code",
   "execution_count": 72,
   "metadata": {},
   "outputs": [],
   "source": [
    "import pandas as pd\n",
    "import seaborn as sns\n",
    "import scipy.stats as stats\n",
    "import numpy as np \n",
    "import random \n",
    "import matplotlib.pyplot as plt\n",
    "\n",
    "%matplotlib inline"
   ]
  },
  {
   "cell_type": "code",
   "execution_count": 73,
   "metadata": {},
   "outputs": [],
   "source": [
    "sns.set(rc={'figure.figsize':(13, 7.5)})"
   ]
  },
  {
   "cell_type": "code",
   "execution_count": 74,
   "metadata": {},
   "outputs": [
    {
     "data": {
      "image/png": "[encoded data removed]",
      "text/plain": [
       "<Figure size 936x540 with 1 Axes>"
      ]
     },
     "metadata": {},
     "output_type": "display_data"
    }
   ],
   "source": [
    "sns.distplot(PL['goals'], color='darkslategrey')\n",
    "plt.xlabel('goals')\n",
    "plt.ylabel('frequency')\n",
    "plt.title('Goals of Premier League', y=1.015, fontsize=20)\n",
    "\n",
    "plt.show()"
   ]
  },
  {
   "cell_type": "code",
   "execution_count": 75,
   "metadata": {},
   "outputs": [
    {
     "data": {
      "image/png": "[encoded data removed]",
      "text/plain": [
       "<Figure size 936x540 with 1 Axes>"
      ]
     },
     "metadata": {},
     "output_type": "display_data"
    }
   ],
   "source": [
    "sns.distplot(PL['total_yel_card'])\n",
    "plt.xlabel('total_yel_card')\n",
    "plt.ylabel('frequency')\n",
    "plt.title('Yellow Card of Premier League', y=1.015, fontsize=20)\n",
    "\n",
    "plt.show()"
   ]
  },
  {
   "cell_type": "code",
   "execution_count": 76,
   "metadata": {
    "scrolled": true
   },
   "outputs": [
    {
     "data": {
      "text/plain": [
       "61.079166666666666"
      ]
     },
     "execution_count": 76,
     "metadata": {},
     "output_type": "execute_result"
    }
   ],
   "source": [
    "yellow_mean = PL['total_yel_card'].mean()\n",
    "\n",
    "yellow_mean"
   ]
  },
  {
   "cell_type": "code",
   "execution_count": 83,
   "metadata": {},
   "outputs": [
    {
     "data": {
      "text/plain": [
       "10.078249464731522"
      ]
     },
     "execution_count": 83,
     "metadata": {},
     "output_type": "execute_result"
    }
   ],
   "source": [
    "yel_std_dev_mass = PL['total_yel_card'].std()\n",
    "yel_std_dev_mass"
   ]
  },
  {
   "cell_type": "code",
   "execution_count": 77,
   "metadata": {},
   "outputs": [
    {
     "data": {
      "image/png": "[encoded data removed]",
      "text/plain": [
       "<Figure size 936x540 with 1 Axes>"
      ]
     },
     "metadata": {},
     "output_type": "display_data"
    }
   ],
   "source": [
    "sns.distplot(PL['total_yel_card'])\n",
    "plt.axvline(x=yellow_mean, linestyle='--', label='yellow_mean', c='orange')\n",
    "plt.xlabel('total_yel_card')\n",
    "plt.ylabel('frequency')\n",
    "plt.title('Yellow Card of Premier League', y=1.015, fontsize=20)\n",
    "plt.legend()\n",
    "\n",
    "plt.show()"
   ]
  },
  {
   "cell_type": "code",
   "execution_count": null,
   "metadata": {},
   "outputs": [],
   "source": []
  },
  {
   "cell_type": "code",
   "execution_count": 101,
   "metadata": {},
   "outputs": [],
   "source": [
    "sample_means = []\n",
    "n = 25\n",
    "\n",
    "for sample in range(0, 100): \n",
    "    # random sampling \n",
    "    sample_values = np.random.choice(a=PL['total_yel_card'], size=n)\n",
    "    sample_mean = np.mean(sample_values)\n",
    "    sample_means.append(sample_mean)"
   ]
  },
  {
   "cell_type": "code",
   "execution_count": 102,
   "metadata": {},
   "outputs": [
    {
     "data": {
      "text/plain": [
       "[57.44,\n",
       " 58.48,\n",
       " 60.52,\n",
       " 62.56,\n",
       " 63.24,\n",
       " 61.56,\n",
       " 63.92,\n",
       " 59.6,\n",
       " 58.64,\n",
       " 61.72,\n",
       " 61.52,\n",
       " 64.32,\n",
       " 60.44,\n",
       " 62.76,\n",
       " 62.8,\n",
       " 62.04,\n",
       " 60.0,\n",
       " 61.56,\n",
       " 62.12,\n",
       " 64.48,\n",
       " 59.84,\n",
       " 61.12,\n",
       " 63.8,\n",
       " 61.12,\n",
       " 57.12,\n",
       " 63.44,\n",
       " 60.16,\n",
       " 60.08,\n",
       " 63.12,\n",
       " 63.4,\n",
       " 61.96,\n",
       " 62.96,\n",
       " 61.04,\n",
       " 59.08,\n",
       " 59.96,\n",
       " 58.68,\n",
       " 59.8,\n",
       " 59.24,\n",
       " 58.96,\n",
       " 64.48,\n",
       " 59.6,\n",
       " 61.72,\n",
       " 64.96,\n",
       " 59.2,\n",
       " 60.16,\n",
       " 60.88,\n",
       " 61.16,\n",
       " 62.24,\n",
       " 63.24,\n",
       " 62.96,\n",
       " 63.4,\n",
       " 61.92,\n",
       " 60.64,\n",
       " 61.88,\n",
       " 62.76,\n",
       " 61.96,\n",
       " 57.44,\n",
       " 60.76,\n",
       " 61.84,\n",
       " 62.04,\n",
       " 63.92,\n",
       " 61.36,\n",
       " 58.92,\n",
       " 62.16,\n",
       " 58.08,\n",
       " 63.08,\n",
       " 61.88,\n",
       " 61.4,\n",
       " 65.08,\n",
       " 61.68,\n",
       " 59.16,\n",
       " 61.16,\n",
       " 60.48,\n",
       " 59.32,\n",
       " 60.56,\n",
       " 62.8,\n",
       " 61.04,\n",
       " 59.12,\n",
       " 61.72,\n",
       " 61.68,\n",
       " 61.16,\n",
       " 59.84,\n",
       " 62.6,\n",
       " 60.92,\n",
       " 65.6,\n",
       " 61.68,\n",
       " 59.68,\n",
       " 64.4,\n",
       " 61.04,\n",
       " 62.2,\n",
       " 59.8,\n",
       " 62.36,\n",
       " 60.12,\n",
       " 63.48,\n",
       " 61.56,\n",
       " 61.36,\n",
       " 59.88,\n",
       " 60.2,\n",
       " 57.88,\n",
       " 59.84]"
      ]
     },
     "execution_count": 102,
     "metadata": {},
     "output_type": "execute_result"
    }
   ],
   "source": [
    "sample_means"
   ]
  },
  {
   "cell_type": "code",
   "execution_count": 103,
   "metadata": {},
   "outputs": [
    {
     "data": {
      "image/png": "[encoded data removed]",
      "text/plain": [
       "<Figure size 432x288 with 1 Axes>"
      ]
     },
     "metadata": {
      "needs_background": "light"
     },
     "output_type": "display_data"
    }
   ],
   "source": [
    "sns.distplot(sample_means)\n",
    "plt.axvline(x=yellow_mean, linestyle='--', label='yellow_mean', c='orange')\n",
    "plt.xlabel('total_yel_card')\n",
    "plt.ylabel('frequency')\n",
    "plt.title('Yellow Card of Sample', y=1.015, fontsize=20)\n",
    "plt.legend()\n",
    "\n",
    "plt.show()"
   ]
  },
  {
   "cell_type": "code",
   "execution_count": 87,
   "metadata": {},
   "outputs": [
    {
     "data": {
      "text/plain": [
       "60.166666666666664"
      ]
     },
     "execution_count": 87,
     "metadata": {},
     "output_type": "execute_result"
    }
   ],
   "source": []
  },
  {
   "cell_type": "code",
   "execution_count": 104,
   "metadata": {},
   "outputs": [
    {
     "data": {
      "text/plain": [
       "61.300399999999996"
      ]
     },
     "execution_count": 104,
     "metadata": {},
     "output_type": "execute_result"
    }
   ],
   "source": [
    "mean_of_sample_means = np.mean(sample_means)\n",
    "mean_of_sample_means"
   ]
  },
  {
   "cell_type": "code",
   "execution_count": 105,
   "metadata": {},
   "outputs": [
    {
     "data": {
      "text/plain": [
       "1.811717373102107"
      ]
     },
     "execution_count": 105,
     "metadata": {},
     "output_type": "execute_result"
    }
   ],
   "source": [
    "std_dev_of_sample_means = np.std(sample_means)\n",
    "std_dev_of_sample_means"
   ]
  },
  {
   "cell_type": "code",
   "execution_count": 106,
   "metadata": {},
   "outputs": [
    {
     "data": {
      "text/plain": [
       "2.0156498929463043"
      ]
     },
     "execution_count": 106,
     "metadata": {},
     "output_type": "execute_result"
    }
   ],
   "source": [
    "standard_error = yel_std_dev_mass/np.sqrt(25)\n",
    "standard_error"
   ]
  },
  {
   "cell_type": "code",
   "execution_count": 107,
   "metadata": {},
   "outputs": [],
   "source": [
    "lower_CI = mean_of_sample_means + 1.96*standard_error"
   ]
  },
  {
   "cell_type": "code",
   "execution_count": 108,
   "metadata": {},
   "outputs": [],
   "source": [
    "upper_CI = mean_of_sample_means - 1.96*standard_error"
   ]
  },
  {
   "cell_type": "code",
   "execution_count": 109,
   "metadata": {},
   "outputs": [
    {
     "name": "stdout",
     "output_type": "stream",
     "text": [
      "65.25107379017476\n",
      "57.34972620982524\n",
      "60.166666666666664\n"
     ]
    }
   ],
   "source": [
    "print(lower_CI)\n",
    "print(upper_CI)\n",
    "print(yel_mu_mean)"
   ]
  },
  {
   "cell_type": "code",
   "execution_count": 111,
   "metadata": {},
   "outputs": [
    {
     "data": {
      "image/png": "[encoded data removed]",
      "text/plain": [
       "<Figure size 432x288 with 1 Axes>"
      ]
     },
     "metadata": {
      "needs_background": "light"
     },
     "output_type": "display_data"
    }
   ],
   "source": [
    "kde = stats.gaussian_kde(sample_means)\n",
    "pos = np.linspace(np.min(sample_means), np.max(sample_means), 10000)\n",
    "plt.plot(pos, kde(pos), color='teal')\n",
    "shade = np.linspace(lower_CI, upper_CI, 100)\n",
    "plt.fill_between(shade, kde(shade), alpha=0.45, color='teal')\n",
    "\n",
    "plt.title('Distribution of Sample Means ($n =25$) of Yellow Card in Premier League', y=1.015, fontsize=20)\n",
    "plt.xlabel(\"sample mean mass[pounds]\")\n",
    "plt.ylabel('frequency of occurance')\n",
    "\n",
    "plt.show()"
   ]
  },
  {
   "cell_type": "code",
   "execution_count": 115,
   "metadata": {},
   "outputs": [],
   "source": [
    "import statsmodels.api as sm"
   ]
  },
  {
   "cell_type": "code",
   "execution_count": 116,
   "metadata": {},
   "outputs": [
    {
     "data": {
      "text/html": [
       "<div>\n",
       "<style scoped>\n",
       "    .dataframe tbody tr th:only-of-type {\n",
       "        vertical-align: middle;\n",
       "    }\n",
       "\n",
       "    .dataframe tbody tr th {\n",
       "        vertical-align: top;\n",
       "    }\n",
       "\n",
       "    .dataframe thead th {\n",
       "        text-align: right;\n",
       "    }\n",
       "</style>\n",
       "<table border=\"1\" class=\"dataframe\">\n",
       "  <thead>\n",
       "    <tr style=\"text-align: right;\">\n",
       "      <th></th>\n",
       "      <th>team</th>\n",
       "      <th>wins</th>\n",
       "      <th>losses</th>\n",
       "      <th>goals</th>\n",
       "      <th>total_yel_card</th>\n",
       "      <th>total_red_card</th>\n",
       "      <th>total_scoring_att</th>\n",
       "      <th>ontarget_scoring_att</th>\n",
       "      <th>hit_woodwork</th>\n",
       "      <th>att_hd_goal</th>\n",
       "      <th>...</th>\n",
       "      <th>total_cross</th>\n",
       "      <th>corner_taken</th>\n",
       "      <th>touches</th>\n",
       "      <th>big_chance_missed</th>\n",
       "      <th>clearance_off_line</th>\n",
       "      <th>dispossessed</th>\n",
       "      <th>penalty_save</th>\n",
       "      <th>total_high_claim</th>\n",
       "      <th>punches</th>\n",
       "      <th>season</th>\n",
       "    </tr>\n",
       "  </thead>\n",
       "  <tbody>\n",
       "    <tr>\n",
       "      <th>0</th>\n",
       "      <td>Manchester United</td>\n",
       "      <td>28.0</td>\n",
       "      <td>5.0</td>\n",
       "      <td>83.0</td>\n",
       "      <td>60.0</td>\n",
       "      <td>1.0</td>\n",
       "      <td>698.0</td>\n",
       "      <td>256.0</td>\n",
       "      <td>21.0</td>\n",
       "      <td>12.0</td>\n",
       "      <td>...</td>\n",
       "      <td>918.0</td>\n",
       "      <td>258.0</td>\n",
       "      <td>25686.0</td>\n",
       "      <td>NaN</td>\n",
       "      <td>1.0</td>\n",
       "      <td>NaN</td>\n",
       "      <td>2.0</td>\n",
       "      <td>37.0</td>\n",
       "      <td>25.0</td>\n",
       "      <td>2006-2007</td>\n",
       "    </tr>\n",
       "    <tr>\n",
       "      <th>1</th>\n",
       "      <td>Chelsea</td>\n",
       "      <td>24.0</td>\n",
       "      <td>3.0</td>\n",
       "      <td>64.0</td>\n",
       "      <td>62.0</td>\n",
       "      <td>4.0</td>\n",
       "      <td>636.0</td>\n",
       "      <td>216.0</td>\n",
       "      <td>14.0</td>\n",
       "      <td>16.0</td>\n",
       "      <td>...</td>\n",
       "      <td>897.0</td>\n",
       "      <td>231.0</td>\n",
       "      <td>24010.0</td>\n",
       "      <td>NaN</td>\n",
       "      <td>2.0</td>\n",
       "      <td>NaN</td>\n",
       "      <td>1.0</td>\n",
       "      <td>74.0</td>\n",
       "      <td>22.0</td>\n",
       "      <td>2006-2007</td>\n",
       "    </tr>\n",
       "    <tr>\n",
       "      <th>2</th>\n",
       "      <td>Liverpool</td>\n",
       "      <td>20.0</td>\n",
       "      <td>10.0</td>\n",
       "      <td>57.0</td>\n",
       "      <td>44.0</td>\n",
       "      <td>0.0</td>\n",
       "      <td>668.0</td>\n",
       "      <td>214.0</td>\n",
       "      <td>15.0</td>\n",
       "      <td>8.0</td>\n",
       "      <td>...</td>\n",
       "      <td>1107.0</td>\n",
       "      <td>282.0</td>\n",
       "      <td>24150.0</td>\n",
       "      <td>NaN</td>\n",
       "      <td>1.0</td>\n",
       "      <td>NaN</td>\n",
       "      <td>0.0</td>\n",
       "      <td>51.0</td>\n",
       "      <td>27.0</td>\n",
       "      <td>2006-2007</td>\n",
       "    </tr>\n",
       "    <tr>\n",
       "      <th>3</th>\n",
       "      <td>Arsenal</td>\n",
       "      <td>19.0</td>\n",
       "      <td>8.0</td>\n",
       "      <td>63.0</td>\n",
       "      <td>59.0</td>\n",
       "      <td>3.0</td>\n",
       "      <td>638.0</td>\n",
       "      <td>226.0</td>\n",
       "      <td>19.0</td>\n",
       "      <td>10.0</td>\n",
       "      <td>...</td>\n",
       "      <td>873.0</td>\n",
       "      <td>278.0</td>\n",
       "      <td>25592.0</td>\n",
       "      <td>NaN</td>\n",
       "      <td>1.0</td>\n",
       "      <td>NaN</td>\n",
       "      <td>0.0</td>\n",
       "      <td>88.0</td>\n",
       "      <td>27.0</td>\n",
       "      <td>2006-2007</td>\n",
       "    </tr>\n",
       "    <tr>\n",
       "      <th>4</th>\n",
       "      <td>Tottenham Hotspur</td>\n",
       "      <td>17.0</td>\n",
       "      <td>12.0</td>\n",
       "      <td>57.0</td>\n",
       "      <td>48.0</td>\n",
       "      <td>3.0</td>\n",
       "      <td>520.0</td>\n",
       "      <td>184.0</td>\n",
       "      <td>6.0</td>\n",
       "      <td>5.0</td>\n",
       "      <td>...</td>\n",
       "      <td>796.0</td>\n",
       "      <td>181.0</td>\n",
       "      <td>22200.0</td>\n",
       "      <td>NaN</td>\n",
       "      <td>2.0</td>\n",
       "      <td>NaN</td>\n",
       "      <td>0.0</td>\n",
       "      <td>51.0</td>\n",
       "      <td>24.0</td>\n",
       "      <td>2006-2007</td>\n",
       "    </tr>\n",
       "    <tr>\n",
       "      <th>...</th>\n",
       "      <td>...</td>\n",
       "      <td>...</td>\n",
       "      <td>...</td>\n",
       "      <td>...</td>\n",
       "      <td>...</td>\n",
       "      <td>...</td>\n",
       "      <td>...</td>\n",
       "      <td>...</td>\n",
       "      <td>...</td>\n",
       "      <td>...</td>\n",
       "      <td>...</td>\n",
       "      <td>...</td>\n",
       "      <td>...</td>\n",
       "      <td>...</td>\n",
       "      <td>...</td>\n",
       "      <td>...</td>\n",
       "      <td>...</td>\n",
       "      <td>...</td>\n",
       "      <td>...</td>\n",
       "      <td>...</td>\n",
       "      <td>...</td>\n",
       "    </tr>\n",
       "    <tr>\n",
       "      <th>235</th>\n",
       "      <td>Huddersfield Town</td>\n",
       "      <td>9.0</td>\n",
       "      <td>19.0</td>\n",
       "      <td>28.0</td>\n",
       "      <td>62.0</td>\n",
       "      <td>3.0</td>\n",
       "      <td>362.0</td>\n",
       "      <td>109.0</td>\n",
       "      <td>8.0</td>\n",
       "      <td>5.0</td>\n",
       "      <td>...</td>\n",
       "      <td>765.0</td>\n",
       "      <td>165.0</td>\n",
       "      <td>22619.0</td>\n",
       "      <td>21.0</td>\n",
       "      <td>6.0</td>\n",
       "      <td>416.0</td>\n",
       "      <td>2.0</td>\n",
       "      <td>31.0</td>\n",
       "      <td>24.0</td>\n",
       "      <td>2017-2018</td>\n",
       "    </tr>\n",
       "    <tr>\n",
       "      <th>236</th>\n",
       "      <td>Swansea City</td>\n",
       "      <td>8.0</td>\n",
       "      <td>21.0</td>\n",
       "      <td>28.0</td>\n",
       "      <td>51.0</td>\n",
       "      <td>1.0</td>\n",
       "      <td>338.0</td>\n",
       "      <td>103.0</td>\n",
       "      <td>8.0</td>\n",
       "      <td>3.0</td>\n",
       "      <td>...</td>\n",
       "      <td>694.0</td>\n",
       "      <td>150.0</td>\n",
       "      <td>22775.0</td>\n",
       "      <td>26.0</td>\n",
       "      <td>1.0</td>\n",
       "      <td>439.0</td>\n",
       "      <td>3.0</td>\n",
       "      <td>44.0</td>\n",
       "      <td>15.0</td>\n",
       "      <td>2017-2018</td>\n",
       "    </tr>\n",
       "    <tr>\n",
       "      <th>237</th>\n",
       "      <td>Southampton</td>\n",
       "      <td>7.0</td>\n",
       "      <td>16.0</td>\n",
       "      <td>37.0</td>\n",
       "      <td>63.0</td>\n",
       "      <td>2.0</td>\n",
       "      <td>450.0</td>\n",
       "      <td>145.0</td>\n",
       "      <td>15.0</td>\n",
       "      <td>7.0</td>\n",
       "      <td>...</td>\n",
       "      <td>800.0</td>\n",
       "      <td>227.0</td>\n",
       "      <td>24639.0</td>\n",
       "      <td>37.0</td>\n",
       "      <td>4.0</td>\n",
       "      <td>379.0</td>\n",
       "      <td>1.0</td>\n",
       "      <td>29.0</td>\n",
       "      <td>13.0</td>\n",
       "      <td>2017-2018</td>\n",
       "    </tr>\n",
       "    <tr>\n",
       "      <th>238</th>\n",
       "      <td>Stoke City</td>\n",
       "      <td>7.0</td>\n",
       "      <td>19.0</td>\n",
       "      <td>35.0</td>\n",
       "      <td>62.0</td>\n",
       "      <td>1.0</td>\n",
       "      <td>384.0</td>\n",
       "      <td>132.0</td>\n",
       "      <td>8.0</td>\n",
       "      <td>8.0</td>\n",
       "      <td>...</td>\n",
       "      <td>598.0</td>\n",
       "      <td>136.0</td>\n",
       "      <td>20368.0</td>\n",
       "      <td>33.0</td>\n",
       "      <td>3.0</td>\n",
       "      <td>402.0</td>\n",
       "      <td>0.0</td>\n",
       "      <td>27.0</td>\n",
       "      <td>14.0</td>\n",
       "      <td>2017-2018</td>\n",
       "    </tr>\n",
       "    <tr>\n",
       "      <th>239</th>\n",
       "      <td>West Bromwich Albion</td>\n",
       "      <td>6.0</td>\n",
       "      <td>19.0</td>\n",
       "      <td>31.0</td>\n",
       "      <td>73.0</td>\n",
       "      <td>1.0</td>\n",
       "      <td>378.0</td>\n",
       "      <td>114.0</td>\n",
       "      <td>7.0</td>\n",
       "      <td>10.0</td>\n",
       "      <td>...</td>\n",
       "      <td>784.0</td>\n",
       "      <td>176.0</td>\n",
       "      <td>20552.0</td>\n",
       "      <td>28.0</td>\n",
       "      <td>3.0</td>\n",
       "      <td>446.0</td>\n",
       "      <td>0.0</td>\n",
       "      <td>40.0</td>\n",
       "      <td>5.0</td>\n",
       "      <td>2017-2018</td>\n",
       "    </tr>\n",
       "  </tbody>\n",
       "</table>\n",
       "<p>240 rows × 42 columns</p>\n",
       "</div>"
      ],
      "text/plain": [
       "                     team  wins  losses  goals  total_yel_card  \\\n",
       "0       Manchester United  28.0     5.0   83.0            60.0   \n",
       "1                 Chelsea  24.0     3.0   64.0            62.0   \n",
       "2               Liverpool  20.0    10.0   57.0            44.0   \n",
       "3                 Arsenal  19.0     8.0   63.0            59.0   \n",
       "4       Tottenham Hotspur  17.0    12.0   57.0            48.0   \n",
       "..                    ...   ...     ...    ...             ...   \n",
       "235     Huddersfield Town   9.0    19.0   28.0            62.0   \n",
       "236          Swansea City   8.0    21.0   28.0            51.0   \n",
       "237           Southampton   7.0    16.0   37.0            63.0   \n",
       "238            Stoke City   7.0    19.0   35.0            62.0   \n",
       "239  West Bromwich Albion   6.0    19.0   31.0            73.0   \n",
       "\n",
       "     total_red_card  total_scoring_att  ontarget_scoring_att  hit_woodwork  \\\n",
       "0               1.0              698.0                 256.0          21.0   \n",
       "1               4.0              636.0                 216.0          14.0   \n",
       "2               0.0              668.0                 214.0          15.0   \n",
       "3               3.0              638.0                 226.0          19.0   \n",
       "4               3.0              520.0                 184.0           6.0   \n",
       "..              ...                ...                   ...           ...   \n",
       "235             3.0              362.0                 109.0           8.0   \n",
       "236             1.0              338.0                 103.0           8.0   \n",
       "237             2.0              450.0                 145.0          15.0   \n",
       "238             1.0              384.0                 132.0           8.0   \n",
       "239             1.0              378.0                 114.0           7.0   \n",
       "\n",
       "     att_hd_goal  ...  total_cross  corner_taken  touches  big_chance_missed  \\\n",
       "0           12.0  ...        918.0         258.0  25686.0                NaN   \n",
       "1           16.0  ...        897.0         231.0  24010.0                NaN   \n",
       "2            8.0  ...       1107.0         282.0  24150.0                NaN   \n",
       "3           10.0  ...        873.0         278.0  25592.0                NaN   \n",
       "4            5.0  ...        796.0         181.0  22200.0                NaN   \n",
       "..           ...  ...          ...           ...      ...                ...   \n",
       "235          5.0  ...        765.0         165.0  22619.0               21.0   \n",
       "236          3.0  ...        694.0         150.0  22775.0               26.0   \n",
       "237          7.0  ...        800.0         227.0  24639.0               37.0   \n",
       "238          8.0  ...        598.0         136.0  20368.0               33.0   \n",
       "239         10.0  ...        784.0         176.0  20552.0               28.0   \n",
       "\n",
       "     clearance_off_line  dispossessed  penalty_save  total_high_claim  \\\n",
       "0                   1.0           NaN           2.0              37.0   \n",
       "1                   2.0           NaN           1.0              74.0   \n",
       "2                   1.0           NaN           0.0              51.0   \n",
       "3                   1.0           NaN           0.0              88.0   \n",
       "4                   2.0           NaN           0.0              51.0   \n",
       "..                  ...           ...           ...               ...   \n",
       "235                 6.0         416.0           2.0              31.0   \n",
       "236                 1.0         439.0           3.0              44.0   \n",
       "237                 4.0         379.0           1.0              29.0   \n",
       "238                 3.0         402.0           0.0              27.0   \n",
       "239                 3.0         446.0           0.0              40.0   \n",
       "\n",
       "     punches     season  \n",
       "0       25.0  2006-2007  \n",
       "1       22.0  2006-2007  \n",
       "2       27.0  2006-2007  \n",
       "3       27.0  2006-2007  \n",
       "4       24.0  2006-2007  \n",
       "..       ...        ...  \n",
       "235     24.0  2017-2018  \n",
       "236     15.0  2017-2018  \n",
       "237     13.0  2017-2018  \n",
       "238     14.0  2017-2018  \n",
       "239      5.0  2017-2018  \n",
       "\n",
       "[240 rows x 42 columns]"
      ]
     },
     "execution_count": 116,
     "metadata": {},
     "output_type": "execute_result"
    }
   ],
   "source": [
    "PL"
   ]
  },
  {
   "cell_type": "code",
   "execution_count": 117,
   "metadata": {},
   "outputs": [
    {
     "data": {
      "text/html": [
       "<div>\n",
       "<style scoped>\n",
       "    .dataframe tbody tr th:only-of-type {\n",
       "        vertical-align: middle;\n",
       "    }\n",
       "\n",
       "    .dataframe tbody tr th {\n",
       "        vertical-align: top;\n",
       "    }\n",
       "\n",
       "    .dataframe thead th {\n",
       "        text-align: right;\n",
       "    }\n",
       "</style>\n",
       "<table border=\"1\" class=\"dataframe\">\n",
       "  <thead>\n",
       "    <tr style=\"text-align: right;\">\n",
       "      <th></th>\n",
       "      <th>team</th>\n",
       "      <th>wins</th>\n",
       "      <th>losses</th>\n",
       "      <th>goals</th>\n",
       "      <th>total_yel_card</th>\n",
       "      <th>total_red_card</th>\n",
       "      <th>total_scoring_att</th>\n",
       "      <th>ontarget_scoring_att</th>\n",
       "      <th>hit_woodwork</th>\n",
       "      <th>att_hd_goal</th>\n",
       "      <th>...</th>\n",
       "      <th>total_cross</th>\n",
       "      <th>corner_taken</th>\n",
       "      <th>touches</th>\n",
       "      <th>big_chance_missed</th>\n",
       "      <th>clearance_off_line</th>\n",
       "      <th>dispossessed</th>\n",
       "      <th>penalty_save</th>\n",
       "      <th>total_high_claim</th>\n",
       "      <th>punches</th>\n",
       "      <th>season</th>\n",
       "    </tr>\n",
       "  </thead>\n",
       "  <tbody>\n",
       "    <tr>\n",
       "      <th>0</th>\n",
       "      <td>Manchester United</td>\n",
       "      <td>28.0</td>\n",
       "      <td>5.0</td>\n",
       "      <td>83.0</td>\n",
       "      <td>60.0</td>\n",
       "      <td>1.0</td>\n",
       "      <td>698.0</td>\n",
       "      <td>256.0</td>\n",
       "      <td>21.0</td>\n",
       "      <td>12.0</td>\n",
       "      <td>...</td>\n",
       "      <td>918.0</td>\n",
       "      <td>258.0</td>\n",
       "      <td>25686.0</td>\n",
       "      <td>NaN</td>\n",
       "      <td>1.0</td>\n",
       "      <td>NaN</td>\n",
       "      <td>2.0</td>\n",
       "      <td>37.0</td>\n",
       "      <td>25.0</td>\n",
       "      <td>2006-2007</td>\n",
       "    </tr>\n",
       "    <tr>\n",
       "      <th>20</th>\n",
       "      <td>Manchester United</td>\n",
       "      <td>27.0</td>\n",
       "      <td>5.0</td>\n",
       "      <td>80.0</td>\n",
       "      <td>51.0</td>\n",
       "      <td>2.0</td>\n",
       "      <td>696.0</td>\n",
       "      <td>260.0</td>\n",
       "      <td>16.0</td>\n",
       "      <td>12.0</td>\n",
       "      <td>...</td>\n",
       "      <td>936.0</td>\n",
       "      <td>261.0</td>\n",
       "      <td>26620.0</td>\n",
       "      <td>NaN</td>\n",
       "      <td>10.0</td>\n",
       "      <td>627.0</td>\n",
       "      <td>0.0</td>\n",
       "      <td>47.0</td>\n",
       "      <td>23.0</td>\n",
       "      <td>2007-2008</td>\n",
       "    </tr>\n",
       "    <tr>\n",
       "      <th>40</th>\n",
       "      <td>Manchester United</td>\n",
       "      <td>28.0</td>\n",
       "      <td>4.0</td>\n",
       "      <td>68.0</td>\n",
       "      <td>61.0</td>\n",
       "      <td>5.0</td>\n",
       "      <td>715.0</td>\n",
       "      <td>230.0</td>\n",
       "      <td>9.0</td>\n",
       "      <td>7.0</td>\n",
       "      <td>...</td>\n",
       "      <td>1039.0</td>\n",
       "      <td>257.0</td>\n",
       "      <td>30077.0</td>\n",
       "      <td>NaN</td>\n",
       "      <td>3.0</td>\n",
       "      <td>579.0</td>\n",
       "      <td>0.0</td>\n",
       "      <td>56.0</td>\n",
       "      <td>22.0</td>\n",
       "      <td>2008-2009</td>\n",
       "    </tr>\n",
       "    <tr>\n",
       "      <th>61</th>\n",
       "      <td>Manchester United</td>\n",
       "      <td>27.0</td>\n",
       "      <td>7.0</td>\n",
       "      <td>86.0</td>\n",
       "      <td>49.0</td>\n",
       "      <td>4.0</td>\n",
       "      <td>695.0</td>\n",
       "      <td>221.0</td>\n",
       "      <td>12.0</td>\n",
       "      <td>14.0</td>\n",
       "      <td>...</td>\n",
       "      <td>1156.0</td>\n",
       "      <td>297.0</td>\n",
       "      <td>28968.0</td>\n",
       "      <td>NaN</td>\n",
       "      <td>2.0</td>\n",
       "      <td>622.0</td>\n",
       "      <td>0.0</td>\n",
       "      <td>65.0</td>\n",
       "      <td>18.0</td>\n",
       "      <td>2009-2010</td>\n",
       "    </tr>\n",
       "    <tr>\n",
       "      <th>80</th>\n",
       "      <td>Manchester United</td>\n",
       "      <td>23.0</td>\n",
       "      <td>4.0</td>\n",
       "      <td>78.0</td>\n",
       "      <td>56.0</td>\n",
       "      <td>3.0</td>\n",
       "      <td>618.0</td>\n",
       "      <td>212.0</td>\n",
       "      <td>15.0</td>\n",
       "      <td>18.0</td>\n",
       "      <td>...</td>\n",
       "      <td>1005.0</td>\n",
       "      <td>243.0</td>\n",
       "      <td>26671.0</td>\n",
       "      <td>50.0</td>\n",
       "      <td>2.0</td>\n",
       "      <td>471.0</td>\n",
       "      <td>0.0</td>\n",
       "      <td>45.0</td>\n",
       "      <td>16.0</td>\n",
       "      <td>2010-2011</td>\n",
       "    </tr>\n",
       "    <tr>\n",
       "      <th>101</th>\n",
       "      <td>Manchester United</td>\n",
       "      <td>28.0</td>\n",
       "      <td>5.0</td>\n",
       "      <td>89.0</td>\n",
       "      <td>51.0</td>\n",
       "      <td>1.0</td>\n",
       "      <td>646.0</td>\n",
       "      <td>243.0</td>\n",
       "      <td>17.0</td>\n",
       "      <td>16.0</td>\n",
       "      <td>...</td>\n",
       "      <td>1018.0</td>\n",
       "      <td>279.0</td>\n",
       "      <td>28113.0</td>\n",
       "      <td>64.0</td>\n",
       "      <td>3.0</td>\n",
       "      <td>521.0</td>\n",
       "      <td>1.0</td>\n",
       "      <td>37.0</td>\n",
       "      <td>26.0</td>\n",
       "      <td>2011-2012</td>\n",
       "    </tr>\n",
       "    <tr>\n",
       "      <th>120</th>\n",
       "      <td>Manchester United</td>\n",
       "      <td>28.0</td>\n",
       "      <td>5.0</td>\n",
       "      <td>86.0</td>\n",
       "      <td>57.0</td>\n",
       "      <td>1.0</td>\n",
       "      <td>561.0</td>\n",
       "      <td>213.0</td>\n",
       "      <td>24.0</td>\n",
       "      <td>14.0</td>\n",
       "      <td>...</td>\n",
       "      <td>962.0</td>\n",
       "      <td>218.0</td>\n",
       "      <td>27264.0</td>\n",
       "      <td>65.0</td>\n",
       "      <td>5.0</td>\n",
       "      <td>506.0</td>\n",
       "      <td>0.0</td>\n",
       "      <td>38.0</td>\n",
       "      <td>28.0</td>\n",
       "      <td>2012-2013</td>\n",
       "    </tr>\n",
       "    <tr>\n",
       "      <th>146</th>\n",
       "      <td>Manchester United</td>\n",
       "      <td>19.0</td>\n",
       "      <td>12.0</td>\n",
       "      <td>64.0</td>\n",
       "      <td>66.0</td>\n",
       "      <td>3.0</td>\n",
       "      <td>526.0</td>\n",
       "      <td>183.0</td>\n",
       "      <td>16.0</td>\n",
       "      <td>10.0</td>\n",
       "      <td>...</td>\n",
       "      <td>1000.0</td>\n",
       "      <td>216.0</td>\n",
       "      <td>27367.0</td>\n",
       "      <td>38.0</td>\n",
       "      <td>1.0</td>\n",
       "      <td>491.0</td>\n",
       "      <td>0.0</td>\n",
       "      <td>32.0</td>\n",
       "      <td>14.0</td>\n",
       "      <td>2013-2014</td>\n",
       "    </tr>\n",
       "    <tr>\n",
       "      <th>163</th>\n",
       "      <td>Manchester United</td>\n",
       "      <td>20.0</td>\n",
       "      <td>8.0</td>\n",
       "      <td>62.0</td>\n",
       "      <td>64.0</td>\n",
       "      <td>5.0</td>\n",
       "      <td>512.0</td>\n",
       "      <td>180.0</td>\n",
       "      <td>11.0</td>\n",
       "      <td>12.0</td>\n",
       "      <td>...</td>\n",
       "      <td>908.0</td>\n",
       "      <td>214.0</td>\n",
       "      <td>29044.0</td>\n",
       "      <td>43.0</td>\n",
       "      <td>5.0</td>\n",
       "      <td>393.0</td>\n",
       "      <td>1.0</td>\n",
       "      <td>33.0</td>\n",
       "      <td>7.0</td>\n",
       "      <td>2014-2015</td>\n",
       "    </tr>\n",
       "    <tr>\n",
       "      <th>183</th>\n",
       "      <td>Manchester United</td>\n",
       "      <td>19.0</td>\n",
       "      <td>10.0</td>\n",
       "      <td>49.0</td>\n",
       "      <td>65.0</td>\n",
       "      <td>1.0</td>\n",
       "      <td>430.0</td>\n",
       "      <td>144.0</td>\n",
       "      <td>9.0</td>\n",
       "      <td>5.0</td>\n",
       "      <td>...</td>\n",
       "      <td>786.0</td>\n",
       "      <td>228.0</td>\n",
       "      <td>27542.0</td>\n",
       "      <td>28.0</td>\n",
       "      <td>4.0</td>\n",
       "      <td>522.0</td>\n",
       "      <td>0.0</td>\n",
       "      <td>29.0</td>\n",
       "      <td>13.0</td>\n",
       "      <td>2015-2016</td>\n",
       "    </tr>\n",
       "    <tr>\n",
       "      <th>205</th>\n",
       "      <td>Manchester United</td>\n",
       "      <td>18.0</td>\n",
       "      <td>5.0</td>\n",
       "      <td>54.0</td>\n",
       "      <td>78.0</td>\n",
       "      <td>2.0</td>\n",
       "      <td>591.0</td>\n",
       "      <td>210.0</td>\n",
       "      <td>19.0</td>\n",
       "      <td>9.0</td>\n",
       "      <td>...</td>\n",
       "      <td>848.0</td>\n",
       "      <td>217.0</td>\n",
       "      <td>28119.0</td>\n",
       "      <td>50.0</td>\n",
       "      <td>1.0</td>\n",
       "      <td>389.0</td>\n",
       "      <td>1.0</td>\n",
       "      <td>32.0</td>\n",
       "      <td>4.0</td>\n",
       "      <td>2016-2017</td>\n",
       "    </tr>\n",
       "    <tr>\n",
       "      <th>221</th>\n",
       "      <td>Manchester United</td>\n",
       "      <td>25.0</td>\n",
       "      <td>7.0</td>\n",
       "      <td>68.0</td>\n",
       "      <td>64.0</td>\n",
       "      <td>1.0</td>\n",
       "      <td>512.0</td>\n",
       "      <td>178.0</td>\n",
       "      <td>16.0</td>\n",
       "      <td>12.0</td>\n",
       "      <td>...</td>\n",
       "      <td>753.0</td>\n",
       "      <td>220.0</td>\n",
       "      <td>27525.0</td>\n",
       "      <td>42.0</td>\n",
       "      <td>4.0</td>\n",
       "      <td>399.0</td>\n",
       "      <td>0.0</td>\n",
       "      <td>20.0</td>\n",
       "      <td>6.0</td>\n",
       "      <td>2017-2018</td>\n",
       "    </tr>\n",
       "  </tbody>\n",
       "</table>\n",
       "<p>12 rows × 42 columns</p>\n",
       "</div>"
      ],
      "text/plain": [
       "                  team  wins  losses  goals  total_yel_card  total_red_card  \\\n",
       "0    Manchester United  28.0     5.0   83.0            60.0             1.0   \n",
       "20   Manchester United  27.0     5.0   80.0            51.0             2.0   \n",
       "40   Manchester United  28.0     4.0   68.0            61.0             5.0   \n",
       "61   Manchester United  27.0     7.0   86.0            49.0             4.0   \n",
       "80   Manchester United  23.0     4.0   78.0            56.0             3.0   \n",
       "101  Manchester United  28.0     5.0   89.0            51.0             1.0   \n",
       "120  Manchester United  28.0     5.0   86.0            57.0             1.0   \n",
       "146  Manchester United  19.0    12.0   64.0            66.0             3.0   \n",
       "163  Manchester United  20.0     8.0   62.0            64.0             5.0   \n",
       "183  Manchester United  19.0    10.0   49.0            65.0             1.0   \n",
       "205  Manchester United  18.0     5.0   54.0            78.0             2.0   \n",
       "221  Manchester United  25.0     7.0   68.0            64.0             1.0   \n",
       "\n",
       "     total_scoring_att  ontarget_scoring_att  hit_woodwork  att_hd_goal  ...  \\\n",
       "0                698.0                 256.0          21.0         12.0  ...   \n",
       "20               696.0                 260.0          16.0         12.0  ...   \n",
       "40               715.0                 230.0           9.0          7.0  ...   \n",
       "61               695.0                 221.0          12.0         14.0  ...   \n",
       "80               618.0                 212.0          15.0         18.0  ...   \n",
       "101              646.0                 243.0          17.0         16.0  ...   \n",
       "120              561.0                 213.0          24.0         14.0  ...   \n",
       "146              526.0                 183.0          16.0         10.0  ...   \n",
       "163              512.0                 180.0          11.0         12.0  ...   \n",
       "183              430.0                 144.0           9.0          5.0  ...   \n",
       "205              591.0                 210.0          19.0          9.0  ...   \n",
       "221              512.0                 178.0          16.0         12.0  ...   \n",
       "\n",
       "     total_cross  corner_taken  touches  big_chance_missed  \\\n",
       "0          918.0         258.0  25686.0                NaN   \n",
       "20         936.0         261.0  26620.0                NaN   \n",
       "40        1039.0         257.0  30077.0                NaN   \n",
       "61        1156.0         297.0  28968.0                NaN   \n",
       "80        1005.0         243.0  26671.0               50.0   \n",
       "101       1018.0         279.0  28113.0               64.0   \n",
       "120        962.0         218.0  27264.0               65.0   \n",
       "146       1000.0         216.0  27367.0               38.0   \n",
       "163        908.0         214.0  29044.0               43.0   \n",
       "183        786.0         228.0  27542.0               28.0   \n",
       "205        848.0         217.0  28119.0               50.0   \n",
       "221        753.0         220.0  27525.0               42.0   \n",
       "\n",
       "     clearance_off_line  dispossessed  penalty_save  total_high_claim  \\\n",
       "0                   1.0           NaN           2.0              37.0   \n",
       "20                 10.0         627.0           0.0              47.0   \n",
       "40                  3.0         579.0           0.0              56.0   \n",
       "61                  2.0         622.0           0.0              65.0   \n",
       "80                  2.0         471.0           0.0              45.0   \n",
       "101                 3.0         521.0           1.0              37.0   \n",
       "120                 5.0         506.0           0.0              38.0   \n",
       "146                 1.0         491.0           0.0              32.0   \n",
       "163                 5.0         393.0           1.0              33.0   \n",
       "183                 4.0         522.0           0.0              29.0   \n",
       "205                 1.0         389.0           1.0              32.0   \n",
       "221                 4.0         399.0           0.0              20.0   \n",
       "\n",
       "     punches     season  \n",
       "0       25.0  2006-2007  \n",
       "20      23.0  2007-2008  \n",
       "40      22.0  2008-2009  \n",
       "61      18.0  2009-2010  \n",
       "80      16.0  2010-2011  \n",
       "101     26.0  2011-2012  \n",
       "120     28.0  2012-2013  \n",
       "146     14.0  2013-2014  \n",
       "163      7.0  2014-2015  \n",
       "183     13.0  2015-2016  \n",
       "205      4.0  2016-2017  \n",
       "221      6.0  2017-2018  \n",
       "\n",
       "[12 rows x 42 columns]"
      ]
     },
     "execution_count": 117,
     "metadata": {},
     "output_type": "execute_result"
    }
   ],
   "source": [
    "MU"
   ]
  },
  {
   "cell_type": "code",
   "execution_count": 158,
   "metadata": {},
   "outputs": [],
   "source": [
    "LV = PL.loc[PL[\"team\"] == \"Liverpool\"]"
   ]
  },
  {
   "cell_type": "code",
   "execution_count": 159,
   "metadata": {},
   "outputs": [
    {
     "data": {
      "text/html": [
       "<div>\n",
       "<style scoped>\n",
       "    .dataframe tbody tr th:only-of-type {\n",
       "        vertical-align: middle;\n",
       "    }\n",
       "\n",
       "    .dataframe tbody tr th {\n",
       "        vertical-align: top;\n",
       "    }\n",
       "\n",
       "    .dataframe thead th {\n",
       "        text-align: right;\n",
       "    }\n",
       "</style>\n",
       "<table border=\"1\" class=\"dataframe\">\n",
       "  <thead>\n",
       "    <tr style=\"text-align: right;\">\n",
       "      <th></th>\n",
       "      <th>team</th>\n",
       "      <th>wins</th>\n",
       "      <th>losses</th>\n",
       "      <th>goals</th>\n",
       "      <th>total_yel_card</th>\n",
       "      <th>total_red_card</th>\n",
       "      <th>total_scoring_att</th>\n",
       "      <th>ontarget_scoring_att</th>\n",
       "      <th>hit_woodwork</th>\n",
       "      <th>att_hd_goal</th>\n",
       "      <th>...</th>\n",
       "      <th>total_cross</th>\n",
       "      <th>corner_taken</th>\n",
       "      <th>touches</th>\n",
       "      <th>big_chance_missed</th>\n",
       "      <th>clearance_off_line</th>\n",
       "      <th>dispossessed</th>\n",
       "      <th>penalty_save</th>\n",
       "      <th>total_high_claim</th>\n",
       "      <th>punches</th>\n",
       "      <th>season</th>\n",
       "    </tr>\n",
       "  </thead>\n",
       "  <tbody>\n",
       "    <tr>\n",
       "      <th>2</th>\n",
       "      <td>Liverpool</td>\n",
       "      <td>20.0</td>\n",
       "      <td>10.0</td>\n",
       "      <td>57.0</td>\n",
       "      <td>44.0</td>\n",
       "      <td>0.0</td>\n",
       "      <td>668.0</td>\n",
       "      <td>214.0</td>\n",
       "      <td>15.0</td>\n",
       "      <td>8.0</td>\n",
       "      <td>...</td>\n",
       "      <td>1107.0</td>\n",
       "      <td>282.0</td>\n",
       "      <td>24150.0</td>\n",
       "      <td>NaN</td>\n",
       "      <td>1.0</td>\n",
       "      <td>NaN</td>\n",
       "      <td>0.0</td>\n",
       "      <td>51.0</td>\n",
       "      <td>27.0</td>\n",
       "      <td>2006-2007</td>\n",
       "    </tr>\n",
       "    <tr>\n",
       "      <th>23</th>\n",
       "      <td>Liverpool</td>\n",
       "      <td>21.0</td>\n",
       "      <td>4.0</td>\n",
       "      <td>67.0</td>\n",
       "      <td>45.0</td>\n",
       "      <td>1.0</td>\n",
       "      <td>686.0</td>\n",
       "      <td>214.0</td>\n",
       "      <td>13.0</td>\n",
       "      <td>7.0</td>\n",
       "      <td>...</td>\n",
       "      <td>932.0</td>\n",
       "      <td>237.0</td>\n",
       "      <td>25857.0</td>\n",
       "      <td>NaN</td>\n",
       "      <td>4.0</td>\n",
       "      <td>613.0</td>\n",
       "      <td>1.0</td>\n",
       "      <td>42.0</td>\n",
       "      <td>22.0</td>\n",
       "      <td>2007-2008</td>\n",
       "    </tr>\n",
       "    <tr>\n",
       "      <th>42</th>\n",
       "      <td>Liverpool</td>\n",
       "      <td>25.0</td>\n",
       "      <td>2.0</td>\n",
       "      <td>77.0</td>\n",
       "      <td>50.0</td>\n",
       "      <td>0.0</td>\n",
       "      <td>736.0</td>\n",
       "      <td>224.0</td>\n",
       "      <td>26.0</td>\n",
       "      <td>14.0</td>\n",
       "      <td>...</td>\n",
       "      <td>1021.0</td>\n",
       "      <td>269.0</td>\n",
       "      <td>29875.0</td>\n",
       "      <td>NaN</td>\n",
       "      <td>0.0</td>\n",
       "      <td>470.0</td>\n",
       "      <td>0.0</td>\n",
       "      <td>61.0</td>\n",
       "      <td>19.0</td>\n",
       "      <td>2008-2009</td>\n",
       "    </tr>\n",
       "    <tr>\n",
       "      <th>64</th>\n",
       "      <td>Liverpool</td>\n",
       "      <td>18.0</td>\n",
       "      <td>11.0</td>\n",
       "      <td>61.0</td>\n",
       "      <td>55.0</td>\n",
       "      <td>5.0</td>\n",
       "      <td>642.0</td>\n",
       "      <td>189.0</td>\n",
       "      <td>20.0</td>\n",
       "      <td>6.0</td>\n",
       "      <td>...</td>\n",
       "      <td>1017.0</td>\n",
       "      <td>268.0</td>\n",
       "      <td>28704.0</td>\n",
       "      <td>NaN</td>\n",
       "      <td>1.0</td>\n",
       "      <td>489.0</td>\n",
       "      <td>1.0</td>\n",
       "      <td>52.0</td>\n",
       "      <td>28.0</td>\n",
       "      <td>2009-2010</td>\n",
       "    </tr>\n",
       "    <tr>\n",
       "      <th>84</th>\n",
       "      <td>Liverpool</td>\n",
       "      <td>17.0</td>\n",
       "      <td>14.0</td>\n",
       "      <td>59.0</td>\n",
       "      <td>63.0</td>\n",
       "      <td>2.0</td>\n",
       "      <td>582.0</td>\n",
       "      <td>205.0</td>\n",
       "      <td>12.0</td>\n",
       "      <td>8.0</td>\n",
       "      <td>...</td>\n",
       "      <td>824.0</td>\n",
       "      <td>212.0</td>\n",
       "      <td>24941.0</td>\n",
       "      <td>43.0</td>\n",
       "      <td>6.0</td>\n",
       "      <td>493.0</td>\n",
       "      <td>0.0</td>\n",
       "      <td>74.0</td>\n",
       "      <td>26.0</td>\n",
       "      <td>2010-2011</td>\n",
       "    </tr>\n",
       "    <tr>\n",
       "      <th>108</th>\n",
       "      <td>Liverpool</td>\n",
       "      <td>14.0</td>\n",
       "      <td>14.0</td>\n",
       "      <td>47.0</td>\n",
       "      <td>53.0</td>\n",
       "      <td>5.0</td>\n",
       "      <td>667.0</td>\n",
       "      <td>207.0</td>\n",
       "      <td>33.0</td>\n",
       "      <td>8.0</td>\n",
       "      <td>...</td>\n",
       "      <td>1103.0</td>\n",
       "      <td>309.0</td>\n",
       "      <td>26450.0</td>\n",
       "      <td>66.0</td>\n",
       "      <td>2.0</td>\n",
       "      <td>440.0</td>\n",
       "      <td>1.0</td>\n",
       "      <td>22.0</td>\n",
       "      <td>19.0</td>\n",
       "      <td>2011-2012</td>\n",
       "    </tr>\n",
       "    <tr>\n",
       "      <th>126</th>\n",
       "      <td>Liverpool</td>\n",
       "      <td>16.0</td>\n",
       "      <td>9.0</td>\n",
       "      <td>71.0</td>\n",
       "      <td>54.0</td>\n",
       "      <td>2.0</td>\n",
       "      <td>739.0</td>\n",
       "      <td>232.0</td>\n",
       "      <td>19.0</td>\n",
       "      <td>9.0</td>\n",
       "      <td>...</td>\n",
       "      <td>794.0</td>\n",
       "      <td>284.0</td>\n",
       "      <td>27722.0</td>\n",
       "      <td>61.0</td>\n",
       "      <td>3.0</td>\n",
       "      <td>529.0</td>\n",
       "      <td>1.0</td>\n",
       "      <td>38.0</td>\n",
       "      <td>23.0</td>\n",
       "      <td>2012-2013</td>\n",
       "    </tr>\n",
       "    <tr>\n",
       "      <th>141</th>\n",
       "      <td>Liverpool</td>\n",
       "      <td>26.0</td>\n",
       "      <td>6.0</td>\n",
       "      <td>101.0</td>\n",
       "      <td>54.0</td>\n",
       "      <td>1.0</td>\n",
       "      <td>651.0</td>\n",
       "      <td>258.0</td>\n",
       "      <td>27.0</td>\n",
       "      <td>14.0</td>\n",
       "      <td>...</td>\n",
       "      <td>643.0</td>\n",
       "      <td>224.0</td>\n",
       "      <td>28172.0</td>\n",
       "      <td>64.0</td>\n",
       "      <td>5.0</td>\n",
       "      <td>427.0</td>\n",
       "      <td>1.0</td>\n",
       "      <td>36.0</td>\n",
       "      <td>29.0</td>\n",
       "      <td>2013-2014</td>\n",
       "    </tr>\n",
       "    <tr>\n",
       "      <th>165</th>\n",
       "      <td>Liverpool</td>\n",
       "      <td>18.0</td>\n",
       "      <td>12.0</td>\n",
       "      <td>52.0</td>\n",
       "      <td>66.0</td>\n",
       "      <td>3.0</td>\n",
       "      <td>590.0</td>\n",
       "      <td>192.0</td>\n",
       "      <td>12.0</td>\n",
       "      <td>5.0</td>\n",
       "      <td>...</td>\n",
       "      <td>638.0</td>\n",
       "      <td>198.0</td>\n",
       "      <td>27353.0</td>\n",
       "      <td>34.0</td>\n",
       "      <td>3.0</td>\n",
       "      <td>468.0</td>\n",
       "      <td>2.0</td>\n",
       "      <td>38.0</td>\n",
       "      <td>41.0</td>\n",
       "      <td>2014-2015</td>\n",
       "    </tr>\n",
       "    <tr>\n",
       "      <th>186</th>\n",
       "      <td>Liverpool</td>\n",
       "      <td>16.0</td>\n",
       "      <td>10.0</td>\n",
       "      <td>63.0</td>\n",
       "      <td>61.0</td>\n",
       "      <td>3.0</td>\n",
       "      <td>629.0</td>\n",
       "      <td>202.0</td>\n",
       "      <td>16.0</td>\n",
       "      <td>12.0</td>\n",
       "      <td>...</td>\n",
       "      <td>780.0</td>\n",
       "      <td>265.0</td>\n",
       "      <td>27890.0</td>\n",
       "      <td>36.0</td>\n",
       "      <td>2.0</td>\n",
       "      <td>560.0</td>\n",
       "      <td>1.0</td>\n",
       "      <td>41.0</td>\n",
       "      <td>18.0</td>\n",
       "      <td>2015-2016</td>\n",
       "    </tr>\n",
       "    <tr>\n",
       "      <th>204</th>\n",
       "      <td>Liverpool</td>\n",
       "      <td>22.0</td>\n",
       "      <td>6.0</td>\n",
       "      <td>78.0</td>\n",
       "      <td>54.0</td>\n",
       "      <td>0.0</td>\n",
       "      <td>640.0</td>\n",
       "      <td>236.0</td>\n",
       "      <td>18.0</td>\n",
       "      <td>12.0</td>\n",
       "      <td>...</td>\n",
       "      <td>812.0</td>\n",
       "      <td>249.0</td>\n",
       "      <td>30071.0</td>\n",
       "      <td>35.0</td>\n",
       "      <td>0.0</td>\n",
       "      <td>472.0</td>\n",
       "      <td>2.0</td>\n",
       "      <td>36.0</td>\n",
       "      <td>26.0</td>\n",
       "      <td>2016-2017</td>\n",
       "    </tr>\n",
       "    <tr>\n",
       "      <th>224</th>\n",
       "      <td>Liverpool</td>\n",
       "      <td>21.0</td>\n",
       "      <td>5.0</td>\n",
       "      <td>84.0</td>\n",
       "      <td>44.0</td>\n",
       "      <td>1.0</td>\n",
       "      <td>638.0</td>\n",
       "      <td>233.0</td>\n",
       "      <td>16.0</td>\n",
       "      <td>12.0</td>\n",
       "      <td>...</td>\n",
       "      <td>764.0</td>\n",
       "      <td>230.0</td>\n",
       "      <td>30324.0</td>\n",
       "      <td>61.0</td>\n",
       "      <td>2.0</td>\n",
       "      <td>447.0</td>\n",
       "      <td>2.0</td>\n",
       "      <td>25.0</td>\n",
       "      <td>20.0</td>\n",
       "      <td>2017-2018</td>\n",
       "    </tr>\n",
       "  </tbody>\n",
       "</table>\n",
       "<p>12 rows × 42 columns</p>\n",
       "</div>"
      ],
      "text/plain": [
       "          team  wins  losses  goals  total_yel_card  total_red_card  \\\n",
       "2    Liverpool  20.0    10.0   57.0            44.0             0.0   \n",
       "23   Liverpool  21.0     4.0   67.0            45.0             1.0   \n",
       "42   Liverpool  25.0     2.0   77.0            50.0             0.0   \n",
       "64   Liverpool  18.0    11.0   61.0            55.0             5.0   \n",
       "84   Liverpool  17.0    14.0   59.0            63.0             2.0   \n",
       "108  Liverpool  14.0    14.0   47.0            53.0             5.0   \n",
       "126  Liverpool  16.0     9.0   71.0            54.0             2.0   \n",
       "141  Liverpool  26.0     6.0  101.0            54.0             1.0   \n",
       "165  Liverpool  18.0    12.0   52.0            66.0             3.0   \n",
       "186  Liverpool  16.0    10.0   63.0            61.0             3.0   \n",
       "204  Liverpool  22.0     6.0   78.0            54.0             0.0   \n",
       "224  Liverpool  21.0     5.0   84.0            44.0             1.0   \n",
       "\n",
       "     total_scoring_att  ontarget_scoring_att  hit_woodwork  att_hd_goal  ...  \\\n",
       "2                668.0                 214.0          15.0          8.0  ...   \n",
       "23               686.0                 214.0          13.0          7.0  ...   \n",
       "42               736.0                 224.0          26.0         14.0  ...   \n",
       "64               642.0                 189.0          20.0          6.0  ...   \n",
       "84               582.0                 205.0          12.0          8.0  ...   \n",
       "108              667.0                 207.0          33.0          8.0  ...   \n",
       "126              739.0                 232.0          19.0          9.0  ...   \n",
       "141              651.0                 258.0          27.0         14.0  ...   \n",
       "165              590.0                 192.0          12.0          5.0  ...   \n",
       "186              629.0                 202.0          16.0         12.0  ...   \n",
       "204              640.0                 236.0          18.0         12.0  ...   \n",
       "224              638.0                 233.0          16.0         12.0  ...   \n",
       "\n",
       "     total_cross  corner_taken  touches  big_chance_missed  \\\n",
       "2         1107.0         282.0  24150.0                NaN   \n",
       "23         932.0         237.0  25857.0                NaN   \n",
       "42        1021.0         269.0  29875.0                NaN   \n",
       "64        1017.0         268.0  28704.0                NaN   \n",
       "84         824.0         212.0  24941.0               43.0   \n",
       "108       1103.0         309.0  26450.0               66.0   \n",
       "126        794.0         284.0  27722.0               61.0   \n",
       "141        643.0         224.0  28172.0               64.0   \n",
       "165        638.0         198.0  27353.0               34.0   \n",
       "186        780.0         265.0  27890.0               36.0   \n",
       "204        812.0         249.0  30071.0               35.0   \n",
       "224        764.0         230.0  30324.0               61.0   \n",
       "\n",
       "     clearance_off_line  dispossessed  penalty_save  total_high_claim  \\\n",
       "2                   1.0           NaN           0.0              51.0   \n",
       "23                  4.0         613.0           1.0              42.0   \n",
       "42                  0.0         470.0           0.0              61.0   \n",
       "64                  1.0         489.0           1.0              52.0   \n",
       "84                  6.0         493.0           0.0              74.0   \n",
       "108                 2.0         440.0           1.0              22.0   \n",
       "126                 3.0         529.0           1.0              38.0   \n",
       "141                 5.0         427.0           1.0              36.0   \n",
       "165                 3.0         468.0           2.0              38.0   \n",
       "186                 2.0         560.0           1.0              41.0   \n",
       "204                 0.0         472.0           2.0              36.0   \n",
       "224                 2.0         447.0           2.0              25.0   \n",
       "\n",
       "     punches     season  \n",
       "2       27.0  2006-2007  \n",
       "23      22.0  2007-2008  \n",
       "42      19.0  2008-2009  \n",
       "64      28.0  2009-2010  \n",
       "84      26.0  2010-2011  \n",
       "108     19.0  2011-2012  \n",
       "126     23.0  2012-2013  \n",
       "141     29.0  2013-2014  \n",
       "165     41.0  2014-2015  \n",
       "186     18.0  2015-2016  \n",
       "204     26.0  2016-2017  \n",
       "224     20.0  2017-2018  \n",
       "\n",
       "[12 rows x 42 columns]"
      ]
     },
     "execution_count": 159,
     "metadata": {},
     "output_type": "execute_result"
    }
   ],
   "source": [
    "LV"
   ]
  },
  {
   "cell_type": "code",
   "execution_count": 130,
   "metadata": {},
   "outputs": [
    {
     "data": {
      "text/plain": [
       "(240, 14.15, 6.0224822861532195)"
      ]
     },
     "execution_count": 130,
     "metadata": {},
     "output_type": "execute_result"
    }
   ],
   "source": [
    "n1 = len(PL)\n",
    "mu1 = PL[\"wins\"].mean()\n",
    "sd1 = PL[\"wins\"].std()\n",
    "\n",
    "(n1, mu1, sd1)"
   ]
  },
  {
   "cell_type": "code",
   "execution_count": 131,
   "metadata": {},
   "outputs": [
    {
     "data": {
      "text/plain": [
       "(240, 51.0625, 16.203473786861455)"
      ]
     },
     "execution_count": 131,
     "metadata": {},
     "output_type": "execute_result"
    }
   ],
   "source": [
    "n2 = len(PL)\n",
    "mu2 = PL[\"goals\"].mean()\n",
    "sd2 = PL[\"goals\"].std()\n",
    "\n",
    "(n2, mu2, sd2)"
   ]
  },
  {
   "cell_type": "code",
   "execution_count": 132,
   "metadata": {},
   "outputs": [
    {
     "data": {
      "text/plain": [
       "(-33.08050836703832, 5.667556576922968e-240)"
      ]
     },
     "execution_count": 132,
     "metadata": {},
     "output_type": "execute_result"
    }
   ],
   "source": [
    "sm.stats.ztest(PL[\"wins\"].dropna(), PL[\"goals\"].dropna(),alternative='two-sided')"
   ]
  },
  {
   "cell_type": "code",
   "execution_count": 133,
   "metadata": {},
   "outputs": [
    {
     "data": {
      "image/png": "[encoded data removed]",
      "text/plain": [
       "<Figure size 432x288 with 1 Axes>"
      ]
     },
     "metadata": {
      "needs_background": "light"
     },
     "output_type": "display_data"
    },
    {
     "data": {
      "image/png": "[encoded data removed]",
      "text/plain": [
       "<Figure size 504x288 with 1 Axes>"
      ]
     },
     "metadata": {
      "needs_background": "light"
     },
     "output_type": "display_data"
    }
   ],
   "source": [
    "plt.title(\"Wins in Premier League Histogram\",fontsize=16)\n",
    "plt.hist(PL[\"wins\"].dropna(),edgecolor='k',color='pink',bins=25)\n",
    "plt.show()\n",
    "\n",
    "plt.figure(figsize=(7,4))\n",
    "plt.title(\"Goals in Premier League histogram\",fontsize=16)\n",
    "plt.hist(PL[\"goals\"].dropna(),edgecolor='k',color='blue',bins=25)\n",
    "plt.show()"
   ]
  },
  {
   "cell_type": "code",
   "execution_count": 134,
   "metadata": {},
   "outputs": [],
   "source": [
    "import numpy as np\n",
    "import matplotlib.pyplot as plt\n",
    "from sklearn.linear_model import LinearRegression \n",
    "\n",
    "%matplotlib inline"
   ]
  },
  {
   "cell_type": "code",
   "execution_count": 151,
   "metadata": {},
   "outputs": [],
   "source": [
    "model = LinearRegression()"
   ]
  },
  {
   "cell_type": "code",
   "execution_count": 139,
   "metadata": {},
   "outputs": [],
   "source": [
    "MU_goals = MU.loc[0:, [\"goals\"]]"
   ]
  },
  {
   "cell_type": "code",
   "execution_count": 140,
   "metadata": {},
   "outputs": [
    {
     "data": {
      "text/html": [
       "<div>\n",
       "<style scoped>\n",
       "    .dataframe tbody tr th:only-of-type {\n",
       "        vertical-align: middle;\n",
       "    }\n",
       "\n",
       "    .dataframe tbody tr th {\n",
       "        vertical-align: top;\n",
       "    }\n",
       "\n",
       "    .dataframe thead th {\n",
       "        text-align: right;\n",
       "    }\n",
       "</style>\n",
       "<table border=\"1\" class=\"dataframe\">\n",
       "  <thead>\n",
       "    <tr style=\"text-align: right;\">\n",
       "      <th></th>\n",
       "      <th>goals</th>\n",
       "    </tr>\n",
       "  </thead>\n",
       "  <tbody>\n",
       "    <tr>\n",
       "      <th>0</th>\n",
       "      <td>83.0</td>\n",
       "    </tr>\n",
       "    <tr>\n",
       "      <th>20</th>\n",
       "      <td>80.0</td>\n",
       "    </tr>\n",
       "    <tr>\n",
       "      <th>40</th>\n",
       "      <td>68.0</td>\n",
       "    </tr>\n",
       "    <tr>\n",
       "      <th>61</th>\n",
       "      <td>86.0</td>\n",
       "    </tr>\n",
       "    <tr>\n",
       "      <th>80</th>\n",
       "      <td>78.0</td>\n",
       "    </tr>\n",
       "    <tr>\n",
       "      <th>101</th>\n",
       "      <td>89.0</td>\n",
       "    </tr>\n",
       "    <tr>\n",
       "      <th>120</th>\n",
       "      <td>86.0</td>\n",
       "    </tr>\n",
       "    <tr>\n",
       "      <th>146</th>\n",
       "      <td>64.0</td>\n",
       "    </tr>\n",
       "    <tr>\n",
       "      <th>163</th>\n",
       "      <td>62.0</td>\n",
       "    </tr>\n",
       "    <tr>\n",
       "      <th>183</th>\n",
       "      <td>49.0</td>\n",
       "    </tr>\n",
       "    <tr>\n",
       "      <th>205</th>\n",
       "      <td>54.0</td>\n",
       "    </tr>\n",
       "    <tr>\n",
       "      <th>221</th>\n",
       "      <td>68.0</td>\n",
       "    </tr>\n",
       "  </tbody>\n",
       "</table>\n",
       "</div>"
      ],
      "text/plain": [
       "     goals\n",
       "0     83.0\n",
       "20    80.0\n",
       "40    68.0\n",
       "61    86.0\n",
       "80    78.0\n",
       "101   89.0\n",
       "120   86.0\n",
       "146   64.0\n",
       "163   62.0\n",
       "183   49.0\n",
       "205   54.0\n",
       "221   68.0"
      ]
     },
     "execution_count": 140,
     "metadata": {},
     "output_type": "execute_result"
    }
   ],
   "source": [
    "MU_goals"
   ]
  },
  {
   "cell_type": "code",
   "execution_count": 153,
   "metadata": {},
   "outputs": [
    {
     "data": {
      "text/plain": [
       "array([[83.],\n",
       "       [80.],\n",
       "       [68.],\n",
       "       [86.],\n",
       "       [78.],\n",
       "       [89.],\n",
       "       [86.],\n",
       "       [64.],\n",
       "       [62.],\n",
       "       [49.],\n",
       "       [54.],\n",
       "       [68.]])"
      ]
     },
     "execution_count": 153,
     "metadata": {},
     "output_type": "execute_result"
    }
   ],
   "source": [
    "MU_goal = np.array(MU_goals).reshape((-1, 1))\n",
    "\n",
    "MU_goal"
   ]
  },
  {
   "cell_type": "code",
   "execution_count": 160,
   "metadata": {},
   "outputs": [],
   "source": [
    "LV_goals = LV.loc[0:, [\"goals\"]]"
   ]
  },
  {
   "cell_type": "code",
   "execution_count": 161,
   "metadata": {},
   "outputs": [
    {
     "data": {
      "text/html": [
       "<div>\n",
       "<style scoped>\n",
       "    .dataframe tbody tr th:only-of-type {\n",
       "        vertical-align: middle;\n",
       "    }\n",
       "\n",
       "    .dataframe tbody tr th {\n",
       "        vertical-align: top;\n",
       "    }\n",
       "\n",
       "    .dataframe thead th {\n",
       "        text-align: right;\n",
       "    }\n",
       "</style>\n",
       "<table border=\"1\" class=\"dataframe\">\n",
       "  <thead>\n",
       "    <tr style=\"text-align: right;\">\n",
       "      <th></th>\n",
       "      <th>goals</th>\n",
       "    </tr>\n",
       "  </thead>\n",
       "  <tbody>\n",
       "    <tr>\n",
       "      <th>2</th>\n",
       "      <td>57.0</td>\n",
       "    </tr>\n",
       "    <tr>\n",
       "      <th>23</th>\n",
       "      <td>67.0</td>\n",
       "    </tr>\n",
       "    <tr>\n",
       "      <th>42</th>\n",
       "      <td>77.0</td>\n",
       "    </tr>\n",
       "    <tr>\n",
       "      <th>64</th>\n",
       "      <td>61.0</td>\n",
       "    </tr>\n",
       "    <tr>\n",
       "      <th>84</th>\n",
       "      <td>59.0</td>\n",
       "    </tr>\n",
       "    <tr>\n",
       "      <th>108</th>\n",
       "      <td>47.0</td>\n",
       "    </tr>\n",
       "    <tr>\n",
       "      <th>126</th>\n",
       "      <td>71.0</td>\n",
       "    </tr>\n",
       "    <tr>\n",
       "      <th>141</th>\n",
       "      <td>101.0</td>\n",
       "    </tr>\n",
       "    <tr>\n",
       "      <th>165</th>\n",
       "      <td>52.0</td>\n",
       "    </tr>\n",
       "    <tr>\n",
       "      <th>186</th>\n",
       "      <td>63.0</td>\n",
       "    </tr>\n",
       "    <tr>\n",
       "      <th>204</th>\n",
       "      <td>78.0</td>\n",
       "    </tr>\n",
       "    <tr>\n",
       "      <th>224</th>\n",
       "      <td>84.0</td>\n",
       "    </tr>\n",
       "  </tbody>\n",
       "</table>\n",
       "</div>"
      ],
      "text/plain": [
       "     goals\n",
       "2     57.0\n",
       "23    67.0\n",
       "42    77.0\n",
       "64    61.0\n",
       "84    59.0\n",
       "108   47.0\n",
       "126   71.0\n",
       "141  101.0\n",
       "165   52.0\n",
       "186   63.0\n",
       "204   78.0\n",
       "224   84.0"
      ]
     },
     "execution_count": 161,
     "metadata": {},
     "output_type": "execute_result"
    }
   ],
   "source": [
    "LV_goals"
   ]
  },
  {
   "cell_type": "code",
   "execution_count": 163,
   "metadata": {},
   "outputs": [
    {
     "data": {
      "text/plain": [
       "array([[ 57.],\n",
       "       [ 67.],\n",
       "       [ 77.],\n",
       "       [ 61.],\n",
       "       [ 59.],\n",
       "       [ 47.],\n",
       "       [ 71.],\n",
       "       [101.],\n",
       "       [ 52.],\n",
       "       [ 63.],\n",
       "       [ 78.],\n",
       "       [ 84.]])"
      ]
     },
     "execution_count": 163,
     "metadata": {},
     "output_type": "execute_result"
    }
   ],
   "source": [
    "LV_goal = np.array(LV_goals)\n",
    "\n",
    "LV_goal"
   ]
  },
  {
   "cell_type": "code",
   "execution_count": 164,
   "metadata": {},
   "outputs": [
    {
     "data": {
      "text/plain": [
       "LinearRegression(copy_X=True, fit_intercept=True, n_jobs=None, normalize=False)"
      ]
     },
     "execution_count": 164,
     "metadata": {},
     "output_type": "execute_result"
    }
   ],
   "source": [
    "model.fit(MU_goal, LV_goal)"
   ]
  },
  {
   "cell_type": "code",
   "execution_count": 165,
   "metadata": {},
   "outputs": [
    {
     "name": "stdout",
     "output_type": "stream",
     "text": [
      "0.15300537683595017\n"
     ]
    }
   ],
   "source": [
    "r_sq = model.score(MU_goal, LV_goal)\n",
    "\n",
    "print(r_sq)"
   ]
  },
  {
   "cell_type": "code",
   "execution_count": 166,
   "metadata": {},
   "outputs": [
    {
     "name": "stdout",
     "output_type": "stream",
     "text": [
      "intercept (b0): [100.13784558]\n",
      "slope (b1): [[-0.44366107]]\n"
     ]
    }
   ],
   "source": [
    "print('intercept (b0):', model.intercept_)\n",
    "print('slope (b1):', model.coef_)"
   ]
  },
  {
   "cell_type": "code",
   "execution_count": 168,
   "metadata": {},
   "outputs": [
    {
     "name": "stdout",
     "output_type": "stream",
     "text": [
      "predicted_goal [[63.31397684]\n",
      " [64.64496005]\n",
      " [69.96889288]\n",
      " [61.98299363]\n",
      " [65.53228219]\n",
      " [60.65201043]\n",
      " [61.98299363]\n",
      " [71.74353715]\n",
      " [72.63085929]\n",
      " [78.39845319]\n",
      " [76.18014784]\n",
      " [69.96889288]]\n"
     ]
    }
   ],
   "source": [
    "LV_pred = model.predict(MU_goal) \n",
    "print('predicted_goal', LV_pred)"
   ]
  },
  {
   "cell_type": "code",
   "execution_count": 169,
   "metadata": {},
   "outputs": [
    {
     "data": {
      "text/plain": [
       "array([[46.89851728]])"
      ]
     },
     "execution_count": 169,
     "metadata": {},
     "output_type": "execute_result"
    }
   ],
   "source": [
    "model.intercept_ + model.coef_*120"
   ]
  },
  {
   "cell_type": "code",
   "execution_count": 171,
   "metadata": {},
   "outputs": [
    {
     "data": {
      "text/plain": [
       "array([[46.89851728]])"
      ]
     },
     "execution_count": 171,
     "metadata": {},
     "output_type": "execute_result"
    }
   ],
   "source": [
    "model.predict([[120]])"
   ]
  },
  {
   "cell_type": "code",
   "execution_count": 173,
   "metadata": {},
   "outputs": [
    {
     "data": {
      "image/png": "[encoded data removed]",
      "text/plain": [
       "<Figure size 432x288 with 1 Axes>"
      ]
     },
     "metadata": {
      "needs_background": "light"
     },
     "output_type": "display_data"
    }
   ],
   "source": [
    "plt.scatter(MU_goal, LV_goal, alpha=0.5)\n",
    "plt.plot(MU_goal, LV_pred)\n",
    "plt.title('Scatter plot MU and LV')\n",
    "plt.xlabel('MU_goal')\n",
    "plt.ylabel('LV_goal')\n",
    "\n",
    "plt.show()"
   ]
  },
  {
   "cell_type": "code",
   "execution_count": 174,
   "metadata": {},
   "outputs": [],
   "source": [
    "from sklearn.linear_model import LinearRegression\n",
    "from sklearn.preprocessing import PolynomialFeatures"
   ]
  },
  {
   "cell_type": "code",
   "execution_count": 175,
   "metadata": {},
   "outputs": [],
   "source": [
    "transformer = PolynomialFeatures(degree=2, include_bias=False)"
   ]
  },
  {
   "cell_type": "code",
   "execution_count": 177,
   "metadata": {},
   "outputs": [
    {
     "data": {
      "text/plain": [
       "PolynomialFeatures(degree=2, include_bias=False, interaction_only=False,\n",
       "                   order='C')"
      ]
     },
     "execution_count": 177,
     "metadata": {},
     "output_type": "execute_result"
    }
   ],
   "source": [
    "transformer.fit(MU_goal)"
   ]
  },
  {
   "cell_type": "code",
   "execution_count": 181,
   "metadata": {},
   "outputs": [
    {
     "data": {
      "text/plain": [
       "array([[  83., 6889.],\n",
       "       [  80., 6400.],\n",
       "       [  68., 4624.],\n",
       "       [  86., 7396.],\n",
       "       [  78., 6084.],\n",
       "       [  89., 7921.],\n",
       "       [  86., 7396.],\n",
       "       [  64., 4096.],\n",
       "       [  62., 3844.],\n",
       "       [  49., 2401.],\n",
       "       [  54., 2916.],\n",
       "       [  68., 4624.]])"
      ]
     },
     "execution_count": 181,
     "metadata": {},
     "output_type": "execute_result"
    }
   ],
   "source": [
    "MU_ = transformer.transform(MU_goal)\n",
    "\n",
    "MU_"
   ]
  },
  {
   "cell_type": "code",
   "execution_count": 182,
   "metadata": {},
   "outputs": [
    {
     "data": {
      "text/plain": [
       "LinearRegression(copy_X=True, fit_intercept=True, n_jobs=None, normalize=False)"
      ]
     },
     "execution_count": 182,
     "metadata": {},
     "output_type": "execute_result"
    }
   ],
   "source": [
    "model.fit(MU_, LV_goal)"
   ]
  },
  {
   "cell_type": "code",
   "execution_count": 183,
   "metadata": {},
   "outputs": [],
   "source": [
    "MU__ = PolynomialFeatures(degree=2, include_bias=True).fit_transform(MU_goal)"
   ]
  },
  {
   "cell_type": "code",
   "execution_count": 184,
   "metadata": {},
   "outputs": [
    {
     "data": {
      "text/plain": [
       "array([[1.000e+00, 8.300e+01, 6.889e+03],\n",
       "       [1.000e+00, 8.000e+01, 6.400e+03],\n",
       "       [1.000e+00, 6.800e+01, 4.624e+03],\n",
       "       [1.000e+00, 8.600e+01, 7.396e+03],\n",
       "       [1.000e+00, 7.800e+01, 6.084e+03],\n",
       "       [1.000e+00, 8.900e+01, 7.921e+03],\n",
       "       [1.000e+00, 8.600e+01, 7.396e+03],\n",
       "       [1.000e+00, 6.400e+01, 4.096e+03],\n",
       "       [1.000e+00, 6.200e+01, 3.844e+03],\n",
       "       [1.000e+00, 4.900e+01, 2.401e+03],\n",
       "       [1.000e+00, 5.400e+01, 2.916e+03],\n",
       "       [1.000e+00, 6.800e+01, 4.624e+03]])"
      ]
     },
     "execution_count": 184,
     "metadata": {},
     "output_type": "execute_result"
    }
   ],
   "source": [
    "MU__"
   ]
  },
  {
   "cell_type": "code",
   "execution_count": 185,
   "metadata": {},
   "outputs": [],
   "source": [
    "model = LinearRegression(fit_intercept=True).fit(MU__, LV_goal)"
   ]
  },
  {
   "cell_type": "code",
   "execution_count": 186,
   "metadata": {},
   "outputs": [
    {
     "name": "stdout",
     "output_type": "stream",
     "text": [
      "R2: 0.3467056872184795\n",
      "B0: [-116.46412726]\n",
      "B1: [[ 0.          5.96053733 -0.04572179]]\n"
     ]
    }
   ],
   "source": [
    "r_sq = model.score(MU__, LV_goal)\n",
    "print('R2:', r_sq)\n",
    "print('B0:', model.intercept_)\n",
    "print('B1:', model.coef_)"
   ]
  },
  {
   "cell_type": "code",
   "execution_count": 187,
   "metadata": {},
   "outputs": [
    {
     "name": "stdout",
     "output_type": "stream",
     "text": [
      "predicted: [[63.31397684]\n",
      " [64.64496005]\n",
      " [69.96889288]\n",
      " [61.98299363]\n",
      " [65.53228219]\n",
      " [60.65201043]\n",
      " [61.98299363]\n",
      " [71.74353715]\n",
      " [72.63085929]\n",
      " [78.39845319]\n",
      " [76.18014784]\n",
      " [69.96889288]]\n"
     ]
    }
   ],
   "source": [
    "LV_pred2 = model.predict(MU__)\n",
    "print('predicted:', LV_pred)"
   ]
  },
  {
   "cell_type": "code",
   "execution_count": 188,
   "metadata": {},
   "outputs": [
    {
     "data": {
      "image/png": "[encoded data removed]",
      "text/plain": [
       "<Figure size 432x288 with 1 Axes>"
      ]
     },
     "metadata": {
      "needs_background": "light"
     },
     "output_type": "display_data"
    }
   ],
   "source": [
    "plt.scatter(MU_goal, LV_goal, alpha=0.5)\n",
    "plt.plot(MU_goal, LV_pred2)\n",
    "plt.title('Scatter plot x and y')\n",
    "plt.xlabel('x')\n",
    "plt.ylabel('y')\n",
    "\n",
    "plt.show()"
   ]
  },
  {
   "cell_type": "code",
   "execution_count": 189,
   "metadata": {},
   "outputs": [],
   "source": [
    "import statsmodels.api as sm"
   ]
  },
  {
   "cell_type": "code",
   "execution_count": 190,
   "metadata": {},
   "outputs": [],
   "source": [
    "MU_wins = MU.loc[0:, [\"wins\"]]"
   ]
  },
  {
   "cell_type": "code",
   "execution_count": 195,
   "metadata": {},
   "outputs": [
    {
     "data": {
      "text/plain": [
       "array([[28.],\n",
       "       [27.],\n",
       "       [28.],\n",
       "       [27.],\n",
       "       [23.],\n",
       "       [28.],\n",
       "       [28.],\n",
       "       [19.],\n",
       "       [20.],\n",
       "       [19.],\n",
       "       [18.],\n",
       "       [25.]])"
      ]
     },
     "execution_count": 195,
     "metadata": {},
     "output_type": "execute_result"
    }
   ],
   "source": [
    "MU_win= np.array(MU_wins)\n",
    "\n",
    "MU_win"
   ]
  },
  {
   "cell_type": "code",
   "execution_count": 203,
   "metadata": {},
   "outputs": [
    {
     "data": {
      "text/plain": [
       "array([[83., 28.],\n",
       "       [80., 27.],\n",
       "       [68., 28.],\n",
       "       [86., 27.],\n",
       "       [78., 23.],\n",
       "       [89., 28.],\n",
       "       [86., 28.],\n",
       "       [64., 19.],\n",
       "       [62., 20.],\n",
       "       [49., 19.],\n",
       "       [54., 18.],\n",
       "       [68., 25.]])"
      ]
     },
     "execution_count": 203,
     "metadata": {},
     "output_type": "execute_result"
    }
   ],
   "source": [
    "MU_mix= np.hstack([MU_goal, MU_win])\n",
    "\n",
    "MU_mix"
   ]
  },
  {
   "cell_type": "code",
   "execution_count": 205,
   "metadata": {},
   "outputs": [
    {
     "data": {
      "text/plain": [
       "array([[ 1., 83., 28.],\n",
       "       [ 1., 80., 27.],\n",
       "       [ 1., 68., 28.],\n",
       "       [ 1., 86., 27.],\n",
       "       [ 1., 78., 23.],\n",
       "       [ 1., 89., 28.],\n",
       "       [ 1., 86., 28.],\n",
       "       [ 1., 64., 19.],\n",
       "       [ 1., 62., 20.],\n",
       "       [ 1., 49., 19.],\n",
       "       [ 1., 54., 18.],\n",
       "       [ 1., 68., 25.]])"
      ]
     },
     "execution_count": 205,
     "metadata": {},
     "output_type": "execute_result"
    }
   ],
   "source": [
    "MU_mix = sm.add_constant(MU_mix)\n",
    "\n",
    "MU_mix"
   ]
  },
  {
   "cell_type": "code",
   "execution_count": 207,
   "metadata": {},
   "outputs": [],
   "source": [
    "model = sm.OLS(LV_goal, MU_mix)"
   ]
  },
  {
   "cell_type": "code",
   "execution_count": 208,
   "metadata": {},
   "outputs": [],
   "source": [
    "result = model.fit()"
   ]
  },
  {
   "cell_type": "code",
   "execution_count": 209,
   "metadata": {},
   "outputs": [
    {
     "name": "stdout",
     "output_type": "stream",
     "text": [
      "                            OLS Regression Results                            \n",
      "==============================================================================\n",
      "Dep. Variable:                      y   R-squared:                       0.154\n",
      "Model:                            OLS   Adj. R-squared:                 -0.034\n",
      "Method:                 Least Squares   F-statistic:                    0.8191\n",
      "Date:                Fri, 26 Jun 2020   Prob (F-statistic):              0.471\n",
      "Time:                        22:32:48   Log-Likelihood:                -48.080\n",
      "No. Observations:                  12   AIC:                             102.2\n",
      "Df Residuals:                       9   BIC:                             103.6\n",
      "Df Model:                           2                                         \n",
      "Covariance Type:            nonrobust                                         \n",
      "==============================================================================\n",
      "                 coef    std err          t      P>|t|      [0.025      0.975]\n",
      "------------------------------------------------------------------------------\n",
      "const         98.9946     27.857      3.554      0.006      35.977     162.013\n",
      "x1            -0.5006      0.657     -0.762      0.465      -1.987       0.985\n",
      "x2             0.2176      2.129      0.102      0.921      -4.598       5.033\n",
      "==============================================================================\n",
      "Omnibus:                        1.518   Durbin-Watson:                   1.957\n",
      "Prob(Omnibus):                  0.468   Jarque-Bera (JB):                0.573\n",
      "Skew:                           0.535   Prob(JB):                        0.751\n",
      "Kurtosis:                       2.952   Cond. No.                         486.\n",
      "==============================================================================\n",
      "\n",
      "Warnings:\n",
      "[1] Standard Errors assume that the covariance matrix of the errors is correctly specified.\n"
     ]
    },
    {
     "name": "stderr",
     "output_type": "stream",
     "text": [
      "C:\\Users\\ASUS\\anaconda3\\lib\\site-packages\\scipy\\stats\\stats.py:1535: UserWarning: kurtosistest only valid for n>=20 ... continuing anyway, n=12\n",
      "  \"anyway, n=%i\" % int(n))\n"
     ]
    }
   ],
   "source": [
    "print(result.summary())"
   ]
  },
  {
   "cell_type": "code",
   "execution_count": 210,
   "metadata": {},
   "outputs": [
    {
     "name": "stdout",
     "output_type": "stream",
     "text": [
      "R2: 0.15398727673596746\n",
      "-0.034015550656039784\n",
      "[98.99459204 -0.50061503  0.21757974]\n"
     ]
    }
   ],
   "source": [
    "print('R2:', result.rsquared)\n",
    "print(result.rsquared_adj)\n",
    "print(result.params)"
   ]
  },
  {
   "cell_type": "code",
   "execution_count": 211,
   "metadata": {},
   "outputs": [
    {
     "data": {
      "text/plain": [
       "array([63.53577745, 64.8200428 , 71.04500285, 61.81635264, 64.95095391,\n",
       "       60.5320873 , 62.03393238, 71.08924533, 72.30805512, 78.59847073,\n",
       "       75.87781586, 70.39226364])"
      ]
     },
     "execution_count": 211,
     "metadata": {},
     "output_type": "execute_result"
    }
   ],
   "source": [
    "result.fittedvalues"
   ]
  },
  {
   "cell_type": "code",
   "execution_count": 212,
   "metadata": {},
   "outputs": [
    {
     "data": {
      "text/plain": [
       "array([63.53577745, 64.8200428 , 71.04500285, 61.81635264, 64.95095391,\n",
       "       60.5320873 , 62.03393238, 71.08924533, 72.30805512, 78.59847073,\n",
       "       75.87781586, 70.39226364])"
      ]
     },
     "execution_count": 212,
     "metadata": {},
     "output_type": "execute_result"
    }
   ],
   "source": [
    "result.predict(MU_mix)"
   ]
  },
  {
   "cell_type": "code",
   "execution_count": 213,
   "metadata": {},
   "outputs": [],
   "source": [
    "from sklearn import datasets"
   ]
  },
  {
   "cell_type": "code",
   "execution_count": 215,
   "metadata": {},
   "outputs": [
    {
     "name": "stdout",
     "output_type": "stream",
     "text": [
      "                                 OLS Regression Results                                \n",
      "=======================================================================================\n",
      "Dep. Variable:                      y   R-squared (uncentered):                   0.901\n",
      "Model:                            OLS   Adj. R-squared (uncentered):              0.892\n",
      "Method:                 Least Squares   F-statistic:                              100.1\n",
      "Date:                Fri, 26 Jun 2020   Prob (F-statistic):                    7.37e-07\n",
      "Time:                        22:37:59   Log-Likelihood:                         -54.068\n",
      "No. Observations:                  12   AIC:                                      110.1\n",
      "Df Residuals:                      11   BIC:                                      110.6\n",
      "Df Model:                           1                                                  \n",
      "Covariance Type:            nonrobust                                                  \n",
      "==============================================================================\n",
      "                 coef    std err          t      P>|t|      [0.025      0.975]\n",
      "------------------------------------------------------------------------------\n",
      "x1             0.9005      0.090     10.003      0.000       0.702       1.099\n",
      "==============================================================================\n",
      "Omnibus:                        0.525   Durbin-Watson:                   1.429\n",
      "Prob(Omnibus):                  0.769   Jarque-Bera (JB):                0.560\n",
      "Skew:                           0.241   Prob(JB):                        0.756\n",
      "Kurtosis:                       2.057   Cond. No.                         1.00\n",
      "==============================================================================\n",
      "\n",
      "Warnings:\n",
      "[1] Standard Errors assume that the covariance matrix of the errors is correctly specified.\n"
     ]
    }
   ],
   "source": [
    "model = sm.OLS(LV_goal, MU_goal).fit()\n",
    "predictions = model.predict(MU_goal)\n",
    "\n",
    "print(model.summary())"
   ]
  },
  {
   "cell_type": "code",
   "execution_count": 217,
   "metadata": {},
   "outputs": [
    {
     "data": {
      "image/png": "[encoded data removed]",
      "text/plain": [
       "<Figure size 432x288 with 1 Axes>"
      ]
     },
     "metadata": {
      "needs_background": "light"
     },
     "output_type": "display_data"
    }
   ],
   "source": [
    "plt.scatter(MU_goal, LV_goal, alpha=0.5)\n",
    "plt.plot(MU_goal, predictions)\n",
    "plt.title('Scatter plot MU and LV')\n",
    "plt.xlabel('MU')\n",
    "plt.ylabel('LV')\n",
    "plt.show()"
   ]
  },
  {
   "cell_type": "code",
   "execution_count": 221,
   "metadata": {},
   "outputs": [],
   "source": [
    "import matplotlib.pyplot as plt\n",
    "from sklearn.linear_model import LogisticRegression\n",
    "from sklearn.metrics import classification_report, confusion_matrix"
   ]
  },
  {
   "cell_type": "code",
   "execution_count": 227,
   "metadata": {},
   "outputs": [],
   "source": [
    "tes = np.arange(10). reshape(-1, 1)"
   ]
  },
  {
   "cell_type": "code",
   "execution_count": 236,
   "metadata": {},
   "outputs": [],
   "source": [
    "LV_goalt =LV_goal.T"
   ]
  },
  {
   "cell_type": "code",
   "execution_count": 222,
   "metadata": {},
   "outputs": [
    {
     "data": {
      "text/plain": [
       "array([[83.],\n",
       "       [80.],\n",
       "       [68.],\n",
       "       [86.],\n",
       "       [78.],\n",
       "       [89.],\n",
       "       [86.],\n",
       "       [64.],\n",
       "       [62.],\n",
       "       [49.],\n",
       "       [54.],\n",
       "       [68.]])"
      ]
     },
     "execution_count": 222,
     "metadata": {},
     "output_type": "execute_result"
    }
   ],
   "source": [
    "MU_goal"
   ]
  },
  {
   "cell_type": "code",
   "execution_count": 237,
   "metadata": {},
   "outputs": [
    {
     "name": "stdout",
     "output_type": "stream",
     "text": [
      "[[83.]\n",
      " [80.]\n",
      " [68.]\n",
      " [86.]\n",
      " [78.]\n",
      " [89.]\n",
      " [86.]\n",
      " [64.]\n",
      " [62.]\n",
      " [49.]\n",
      " [54.]\n",
      " [68.]] [[ 57.]\n",
      " [ 67.]\n",
      " [ 77.]\n",
      " [ 61.]\n",
      " [ 59.]\n",
      " [ 47.]\n",
      " [ 71.]\n",
      " [101.]\n",
      " [ 52.]\n",
      " [ 63.]\n",
      " [ 78.]\n",
      " [ 84.]]\n"
     ]
    }
   ],
   "source": [
    "print(MU_goal, LV_goalt)"
   ]
  },
  {
   "cell_type": "code",
   "execution_count": 224,
   "metadata": {},
   "outputs": [],
   "source": [
    "model = LogisticRegression()"
   ]
  },
  {
   "cell_type": "code",
   "execution_count": 235,
   "metadata": {},
   "outputs": [
    {
     "name": "stderr",
     "output_type": "stream",
     "text": [
      "C:\\Users\\ASUS\\anaconda3\\lib\\site-packages\\sklearn\\utils\\validation.py:760: DataConversionWarning: A column-vector y was passed when a 1d array was expected. Please change the shape of y to (n_samples, ), for example using ravel().\n",
      "  y = column_or_1d(y, warn=True)\n",
      "C:\\Users\\ASUS\\anaconda3\\lib\\site-packages\\sklearn\\linear_model\\_logistic.py:940: ConvergenceWarning: lbfgs failed to converge (status=1):\n",
      "STOP: TOTAL NO. of ITERATIONS REACHED LIMIT.\n",
      "\n",
      "Increase the number of iterations (max_iter) or scale the data as shown in:\n",
      "    https://scikit-learn.org/stable/modules/preprocessing.html\n",
      "Please also refer to the documentation for alternative solver options:\n",
      "    https://scikit-learn.org/stable/modules/linear_model.html#logistic-regression\n",
      "  extra_warning_msg=_LOGISTIC_SOLVER_CONVERGENCE_MSG)\n"
     ]
    },
    {
     "data": {
      "text/plain": [
       "LogisticRegression(C=1.0, class_weight=None, dual=False, fit_intercept=True,\n",
       "                   intercept_scaling=1, l1_ratio=None, max_iter=100,\n",
       "                   multi_class='auto', n_jobs=None, penalty='l2',\n",
       "                   random_state=None, solver='lbfgs', tol=0.0001, verbose=0,\n",
       "                   warm_start=False)"
      ]
     },
     "execution_count": 235,
     "metadata": {},
     "output_type": "execute_result"
    }
   ],
   "source": [
    "model.fit(MU_goal, LV_goal)"
   ]
  },
  {
   "cell_type": "code",
   "execution_count": 238,
   "metadata": {},
   "outputs": [
    {
     "data": {
      "text/plain": [
       "array([ 47.,  52.,  57.,  59.,  61.,  63.,  67.,  71.,  77.,  78.,  84.,\n",
       "       101.])"
      ]
     },
     "execution_count": 238,
     "metadata": {},
     "output_type": "execute_result"
    }
   ],
   "source": [
    "model.classes_"
   ]
  },
  {
   "cell_type": "code",
   "execution_count": 239,
   "metadata": {},
   "outputs": [
    {
     "name": "stdout",
     "output_type": "stream",
     "text": [
      "[-78.65739334  38.77819507 -31.36457668  -9.60862828 -52.8775542\n",
      "  85.05935429 -14.30253251 -52.87755647  10.54512895  62.22523793\n",
      "  10.54512895  32.53519629] [[ 1.016048  ]\n",
      " [-0.51364477]\n",
      " [ 0.46227839]\n",
      " [ 0.19349859]\n",
      " [ 0.71751651]\n",
      " [-1.35358638]\n",
      " [ 0.25297238]\n",
      " [ 0.71753228]\n",
      " [-0.08238982]\n",
      " [-0.91234369]\n",
      " [-0.08238982]\n",
      " [-0.41549044]]\n"
     ]
    }
   ],
   "source": [
    "print(model.intercept_, model.coef_)"
   ]
  },
  {
   "cell_type": "code",
   "execution_count": 240,
   "metadata": {},
   "outputs": [
    {
     "data": {
      "text/plain": [
       "array([ 57.,  67.,  84.,  71.,  59.,  47.,  71., 101.,  52.,  63.,  78.,\n",
       "        84.])"
      ]
     },
     "execution_count": 240,
     "metadata": {},
     "output_type": "execute_result"
    }
   ],
   "source": [
    "model.predict(MU_goal)"
   ]
  },
  {
   "cell_type": "code",
   "execution_count": 241,
   "metadata": {},
   "outputs": [
    {
     "data": {
      "text/plain": [
       "array([[6.46924953e-02, 4.70435590e-06, 2.44590147e-01, 1.40725232e-01,\n",
       "        1.76156107e-01, 3.12784742e-16, 1.79330281e-01, 1.76386400e-01,\n",
       "        9.04152994e-03, 3.04609832e-10, 9.04152994e-03, 3.15729123e-05],\n",
       "       [1.05429075e-02, 7.54428441e-05, 2.09914633e-01, 2.70498260e-01,\n",
       "        7.03000986e-02, 6.23317710e-14, 2.88375739e-01, 7.03886739e-02,\n",
       "        3.97635243e-02, 1.61554859e-08, 3.97635243e-02, 3.77180188e-04],\n",
       "       [1.54008166e-07, 1.03334885e-01, 2.35838724e-03, 7.64701366e-02,\n",
       "        3.69271882e-05, 2.03574077e-06, 3.99334165e-02, 3.69667197e-05,\n",
       "        3.08044907e-01, 2.64717004e-03, 3.08044907e-01, 1.59090106e-01],\n",
       "       [2.26289996e-01, 1.67224626e-07, 1.62462506e-01, 4.17347116e-02,\n",
       "        2.51627102e-01, 8.94745655e-19, 6.35720889e-02, 2.51967979e-01,\n",
       "        1.17197116e-03, 3.27405337e-12, 1.17197116e-03, 1.50660137e-06],\n",
       "       [2.42171649e-03, 3.69364552e-04, 1.45949896e-01, 3.21947249e-01,\n",
       "        2.93372901e-02, 1.63723358e-12, 3.04733843e-01, 2.93733276e-02,\n",
       "        8.21748160e-02, 1.75574998e-07, 8.21748160e-02, 1.51750547e-03],\n",
       "       [4.78552553e-01, 3.59379357e-09, 6.52409338e-02, 7.48299908e-03,\n",
       "        2.17305121e-01, 1.54741381e-21, 1.36248637e-02, 2.17609796e-01,\n",
       "        9.18427237e-05, 2.12755317e-14, 9.18427237e-05, 4.34645218e-08],\n",
       "       [2.26289996e-01, 1.67224626e-07, 1.62462506e-01, 4.17347116e-02,\n",
       "        2.51627102e-01, 8.94745655e-19, 6.35720889e-02, 2.51967979e-01,\n",
       "        1.17197116e-03, 3.27405337e-12, 1.17197116e-03, 1.50660137e-06],\n",
       "       [9.96859630e-10, 3.03868540e-01, 1.39862641e-04, 1.32891377e-02,\n",
       "        7.88930625e-07, 1.72301589e-04, 5.47047272e-03, 7.89725383e-07,\n",
       "        1.61393570e-01, 3.83558475e-02, 1.61393570e-01, 3.15915119e-01],\n",
       "       [5.91850316e-11, 3.84536770e-01, 2.51349355e-05, 4.08819890e-03,\n",
       "        8.50977052e-08, 1.16978335e-03, 1.49417614e-03, 8.51807453e-08,\n",
       "        8.62094891e-02, 1.07743034e-01, 8.62094891e-02, 3.28523754e-01],\n",
       "       [1.62208675e-21, 4.56228856e-03, 9.21781745e-13, 4.93590638e-09,\n",
       "        1.13041411e-16, 7.66507514e-01, 8.32641236e-10, 1.13128528e-16,\n",
       "        3.75844809e-06, 2.27834624e-01, 3.75844809e-06, 1.08805076e-03],\n",
       "       [6.95209811e-17, 9.32264011e-02, 2.47841759e-09, 3.46150834e-06,\n",
       "        1.08899652e-12, 2.34943019e-01, 7.86143934e-07, 1.08992169e-12,\n",
       "        6.63472539e-04, 6.34179476e-01, 6.63472539e-04, 3.63199087e-02],\n",
       "       [1.54008166e-07, 1.03334885e-01, 2.35838724e-03, 7.64701366e-02,\n",
       "        3.69271882e-05, 2.03574077e-06, 3.99334165e-02, 3.69667197e-05,\n",
       "        3.08044907e-01, 2.64717004e-03, 3.08044907e-01, 1.59090106e-01]])"
      ]
     },
     "execution_count": 241,
     "metadata": {},
     "output_type": "execute_result"
    }
   ],
   "source": [
    "model.predict_proba(MU_goal)"
   ]
  },
  {
   "cell_type": "code",
   "execution_count": 242,
   "metadata": {},
   "outputs": [
    {
     "data": {
      "text/plain": [
       "0.8333333333333334"
      ]
     },
     "execution_count": 242,
     "metadata": {},
     "output_type": "execute_result"
    }
   ],
   "source": [
    "model.score(MU_goal, LV_goal)"
   ]
  },
  {
   "cell_type": "code",
   "execution_count": 243,
   "metadata": {},
   "outputs": [],
   "source": [
    "LV_pred = model.predict(MU_goal)"
   ]
  },
  {
   "cell_type": "code",
   "execution_count": 245,
   "metadata": {},
   "outputs": [
    {
     "name": "stdout",
     "output_type": "stream",
     "text": [
      "[[1 0 0 0 0 0 0 0 0 0 0 0]\n",
      " [0 1 0 0 0 0 0 0 0 0 0 0]\n",
      " [0 0 1 0 0 0 0 0 0 0 0 0]\n",
      " [0 0 0 1 0 0 0 0 0 0 0 0]\n",
      " [0 0 0 0 0 0 0 1 0 0 0 0]\n",
      " [0 0 0 0 0 1 0 0 0 0 0 0]\n",
      " [0 0 0 0 0 0 1 0 0 0 0 0]\n",
      " [0 0 0 0 0 0 0 1 0 0 0 0]\n",
      " [0 0 0 0 0 0 0 0 0 0 1 0]\n",
      " [0 0 0 0 0 0 0 0 0 1 0 0]\n",
      " [0 0 0 0 0 0 0 0 0 0 1 0]\n",
      " [0 0 0 0 0 0 0 0 0 0 0 1]]\n"
     ]
    }
   ],
   "source": [
    "print(confusion_matrix(LV_goal, LV_pred))"
   ]
  },
  {
   "cell_type": "code",
   "execution_count": 252,
   "metadata": {},
   "outputs": [
    {
     "data": {
      "image/png": "[encoded data removed]",
      "text/plain": [
       "<Figure size 576x576 with 1 Axes>"
      ]
     },
     "metadata": {
      "needs_background": "light"
     },
     "output_type": "display_data"
    }
   ],
   "source": [
    "cm = confusion_matrix(LV_goal, model.predict(MU_goal))\n",
    "\n",
    "fig, ax = plt.subplots(figsize=(8, 8))\n",
    "ax.imshow(cm)\n",
    "ax.grid(False)\n",
    "ax.xaxis.set(ticks=(0, 1), ticklabels=('Predicted 0s', 'Predicted 1s'))\n",
    "ax.yaxis.set(ticks=(0, 1), ticklabels=('Actual 0s', 'Actual 1s'))\n",
    "for i in range(12):\n",
    "    for j in range(12):\n",
    "        ax.text(j, i, cm[i, j], ha='center', va='center', color='red')\n",
    "        \n",
    "plt.show()"
   ]
  },
  {
   "cell_type": "code",
   "execution_count": 253,
   "metadata": {},
   "outputs": [
    {
     "name": "stdout",
     "output_type": "stream",
     "text": [
      "              precision    recall  f1-score   support\n",
      "\n",
      "        47.0       1.00      1.00      1.00         1\n",
      "        52.0       1.00      1.00      1.00         1\n",
      "        57.0       1.00      1.00      1.00         1\n",
      "        59.0       1.00      1.00      1.00         1\n",
      "        61.0       0.00      0.00      0.00         1\n",
      "        63.0       1.00      1.00      1.00         1\n",
      "        67.0       1.00      1.00      1.00         1\n",
      "        71.0       0.50      1.00      0.67         1\n",
      "        77.0       0.00      0.00      0.00         1\n",
      "        78.0       1.00      1.00      1.00         1\n",
      "        84.0       0.50      1.00      0.67         1\n",
      "       101.0       1.00      1.00      1.00         1\n",
      "\n",
      "    accuracy                           0.83        12\n",
      "   macro avg       0.75      0.83      0.78        12\n",
      "weighted avg       0.75      0.83      0.78        12\n",
      "\n"
     ]
    },
    {
     "name": "stderr",
     "output_type": "stream",
     "text": [
      "C:\\Users\\ASUS\\anaconda3\\lib\\site-packages\\sklearn\\metrics\\_classification.py:1272: UndefinedMetricWarning: Precision and F-score are ill-defined and being set to 0.0 in labels with no predicted samples. Use `zero_division` parameter to control this behavior.\n",
      "  _warn_prf(average, modifier, msg_start, len(result))\n"
     ]
    }
   ],
   "source": [
    "print(classification_report(LV_goal, LV_pred))"
   ]
  },
  {
   "cell_type": "code",
   "execution_count": 254,
   "metadata": {},
   "outputs": [],
   "source": [
    "import matplotlib.pyplot as plt\n",
    "# import numpy as np\n",
    "from sklearn.datasets import load_digits\n",
    "from sklearn.linear_model import LogisticRegression\n",
    "from sklearn.metrics import classification_report, confusion_matrix\n",
    "from sklearn.model_selection import train_test_split\n",
    "from sklearn.preprocessing import StandardScaler"
   ]
  },
  {
   "cell_type": "code",
   "execution_count": 257,
   "metadata": {},
   "outputs": [],
   "source": [
    "from sklearn import preprocessing "
   ]
  },
  {
   "cell_type": "code",
   "execution_count": 258,
   "metadata": {},
   "outputs": [
    {
     "data": {
      "text/html": [
       "<div>\n",
       "<style scoped>\n",
       "    .dataframe tbody tr th:only-of-type {\n",
       "        vertical-align: middle;\n",
       "    }\n",
       "\n",
       "    .dataframe tbody tr th {\n",
       "        vertical-align: top;\n",
       "    }\n",
       "\n",
       "    .dataframe thead th {\n",
       "        text-align: right;\n",
       "    }\n",
       "</style>\n",
       "<table border=\"1\" class=\"dataframe\">\n",
       "  <thead>\n",
       "    <tr style=\"text-align: right;\">\n",
       "      <th></th>\n",
       "      <th>team</th>\n",
       "      <th>wins</th>\n",
       "      <th>losses</th>\n",
       "      <th>goals</th>\n",
       "      <th>total_yel_card</th>\n",
       "      <th>total_red_card</th>\n",
       "      <th>total_scoring_att</th>\n",
       "      <th>ontarget_scoring_att</th>\n",
       "      <th>hit_woodwork</th>\n",
       "      <th>att_hd_goal</th>\n",
       "      <th>...</th>\n",
       "      <th>total_cross</th>\n",
       "      <th>corner_taken</th>\n",
       "      <th>touches</th>\n",
       "      <th>big_chance_missed</th>\n",
       "      <th>clearance_off_line</th>\n",
       "      <th>dispossessed</th>\n",
       "      <th>penalty_save</th>\n",
       "      <th>total_high_claim</th>\n",
       "      <th>punches</th>\n",
       "      <th>season</th>\n",
       "    </tr>\n",
       "  </thead>\n",
       "  <tbody>\n",
       "    <tr>\n",
       "      <th>0</th>\n",
       "      <td>Manchester United</td>\n",
       "      <td>28.0</td>\n",
       "      <td>5.0</td>\n",
       "      <td>83.0</td>\n",
       "      <td>60.0</td>\n",
       "      <td>1.0</td>\n",
       "      <td>698.0</td>\n",
       "      <td>256.0</td>\n",
       "      <td>21.0</td>\n",
       "      <td>12.0</td>\n",
       "      <td>...</td>\n",
       "      <td>918.0</td>\n",
       "      <td>258.0</td>\n",
       "      <td>25686.0</td>\n",
       "      <td>NaN</td>\n",
       "      <td>1.0</td>\n",
       "      <td>NaN</td>\n",
       "      <td>2.0</td>\n",
       "      <td>37.0</td>\n",
       "      <td>25.0</td>\n",
       "      <td>2006-2007</td>\n",
       "    </tr>\n",
       "    <tr>\n",
       "      <th>20</th>\n",
       "      <td>Manchester United</td>\n",
       "      <td>27.0</td>\n",
       "      <td>5.0</td>\n",
       "      <td>80.0</td>\n",
       "      <td>51.0</td>\n",
       "      <td>2.0</td>\n",
       "      <td>696.0</td>\n",
       "      <td>260.0</td>\n",
       "      <td>16.0</td>\n",
       "      <td>12.0</td>\n",
       "      <td>...</td>\n",
       "      <td>936.0</td>\n",
       "      <td>261.0</td>\n",
       "      <td>26620.0</td>\n",
       "      <td>NaN</td>\n",
       "      <td>10.0</td>\n",
       "      <td>627.0</td>\n",
       "      <td>0.0</td>\n",
       "      <td>47.0</td>\n",
       "      <td>23.0</td>\n",
       "      <td>2007-2008</td>\n",
       "    </tr>\n",
       "    <tr>\n",
       "      <th>40</th>\n",
       "      <td>Manchester United</td>\n",
       "      <td>28.0</td>\n",
       "      <td>4.0</td>\n",
       "      <td>68.0</td>\n",
       "      <td>61.0</td>\n",
       "      <td>5.0</td>\n",
       "      <td>715.0</td>\n",
       "      <td>230.0</td>\n",
       "      <td>9.0</td>\n",
       "      <td>7.0</td>\n",
       "      <td>...</td>\n",
       "      <td>1039.0</td>\n",
       "      <td>257.0</td>\n",
       "      <td>30077.0</td>\n",
       "      <td>NaN</td>\n",
       "      <td>3.0</td>\n",
       "      <td>579.0</td>\n",
       "      <td>0.0</td>\n",
       "      <td>56.0</td>\n",
       "      <td>22.0</td>\n",
       "      <td>2008-2009</td>\n",
       "    </tr>\n",
       "    <tr>\n",
       "      <th>61</th>\n",
       "      <td>Manchester United</td>\n",
       "      <td>27.0</td>\n",
       "      <td>7.0</td>\n",
       "      <td>86.0</td>\n",
       "      <td>49.0</td>\n",
       "      <td>4.0</td>\n",
       "      <td>695.0</td>\n",
       "      <td>221.0</td>\n",
       "      <td>12.0</td>\n",
       "      <td>14.0</td>\n",
       "      <td>...</td>\n",
       "      <td>1156.0</td>\n",
       "      <td>297.0</td>\n",
       "      <td>28968.0</td>\n",
       "      <td>NaN</td>\n",
       "      <td>2.0</td>\n",
       "      <td>622.0</td>\n",
       "      <td>0.0</td>\n",
       "      <td>65.0</td>\n",
       "      <td>18.0</td>\n",
       "      <td>2009-2010</td>\n",
       "    </tr>\n",
       "    <tr>\n",
       "      <th>80</th>\n",
       "      <td>Manchester United</td>\n",
       "      <td>23.0</td>\n",
       "      <td>4.0</td>\n",
       "      <td>78.0</td>\n",
       "      <td>56.0</td>\n",
       "      <td>3.0</td>\n",
       "      <td>618.0</td>\n",
       "      <td>212.0</td>\n",
       "      <td>15.0</td>\n",
       "      <td>18.0</td>\n",
       "      <td>...</td>\n",
       "      <td>1005.0</td>\n",
       "      <td>243.0</td>\n",
       "      <td>26671.0</td>\n",
       "      <td>50.0</td>\n",
       "      <td>2.0</td>\n",
       "      <td>471.0</td>\n",
       "      <td>0.0</td>\n",
       "      <td>45.0</td>\n",
       "      <td>16.0</td>\n",
       "      <td>2010-2011</td>\n",
       "    </tr>\n",
       "    <tr>\n",
       "      <th>101</th>\n",
       "      <td>Manchester United</td>\n",
       "      <td>28.0</td>\n",
       "      <td>5.0</td>\n",
       "      <td>89.0</td>\n",
       "      <td>51.0</td>\n",
       "      <td>1.0</td>\n",
       "      <td>646.0</td>\n",
       "      <td>243.0</td>\n",
       "      <td>17.0</td>\n",
       "      <td>16.0</td>\n",
       "      <td>...</td>\n",
       "      <td>1018.0</td>\n",
       "      <td>279.0</td>\n",
       "      <td>28113.0</td>\n",
       "      <td>64.0</td>\n",
       "      <td>3.0</td>\n",
       "      <td>521.0</td>\n",
       "      <td>1.0</td>\n",
       "      <td>37.0</td>\n",
       "      <td>26.0</td>\n",
       "      <td>2011-2012</td>\n",
       "    </tr>\n",
       "    <tr>\n",
       "      <th>120</th>\n",
       "      <td>Manchester United</td>\n",
       "      <td>28.0</td>\n",
       "      <td>5.0</td>\n",
       "      <td>86.0</td>\n",
       "      <td>57.0</td>\n",
       "      <td>1.0</td>\n",
       "      <td>561.0</td>\n",
       "      <td>213.0</td>\n",
       "      <td>24.0</td>\n",
       "      <td>14.0</td>\n",
       "      <td>...</td>\n",
       "      <td>962.0</td>\n",
       "      <td>218.0</td>\n",
       "      <td>27264.0</td>\n",
       "      <td>65.0</td>\n",
       "      <td>5.0</td>\n",
       "      <td>506.0</td>\n",
       "      <td>0.0</td>\n",
       "      <td>38.0</td>\n",
       "      <td>28.0</td>\n",
       "      <td>2012-2013</td>\n",
       "    </tr>\n",
       "    <tr>\n",
       "      <th>146</th>\n",
       "      <td>Manchester United</td>\n",
       "      <td>19.0</td>\n",
       "      <td>12.0</td>\n",
       "      <td>64.0</td>\n",
       "      <td>66.0</td>\n",
       "      <td>3.0</td>\n",
       "      <td>526.0</td>\n",
       "      <td>183.0</td>\n",
       "      <td>16.0</td>\n",
       "      <td>10.0</td>\n",
       "      <td>...</td>\n",
       "      <td>1000.0</td>\n",
       "      <td>216.0</td>\n",
       "      <td>27367.0</td>\n",
       "      <td>38.0</td>\n",
       "      <td>1.0</td>\n",
       "      <td>491.0</td>\n",
       "      <td>0.0</td>\n",
       "      <td>32.0</td>\n",
       "      <td>14.0</td>\n",
       "      <td>2013-2014</td>\n",
       "    </tr>\n",
       "    <tr>\n",
       "      <th>163</th>\n",
       "      <td>Manchester United</td>\n",
       "      <td>20.0</td>\n",
       "      <td>8.0</td>\n",
       "      <td>62.0</td>\n",
       "      <td>64.0</td>\n",
       "      <td>5.0</td>\n",
       "      <td>512.0</td>\n",
       "      <td>180.0</td>\n",
       "      <td>11.0</td>\n",
       "      <td>12.0</td>\n",
       "      <td>...</td>\n",
       "      <td>908.0</td>\n",
       "      <td>214.0</td>\n",
       "      <td>29044.0</td>\n",
       "      <td>43.0</td>\n",
       "      <td>5.0</td>\n",
       "      <td>393.0</td>\n",
       "      <td>1.0</td>\n",
       "      <td>33.0</td>\n",
       "      <td>7.0</td>\n",
       "      <td>2014-2015</td>\n",
       "    </tr>\n",
       "    <tr>\n",
       "      <th>183</th>\n",
       "      <td>Manchester United</td>\n",
       "      <td>19.0</td>\n",
       "      <td>10.0</td>\n",
       "      <td>49.0</td>\n",
       "      <td>65.0</td>\n",
       "      <td>1.0</td>\n",
       "      <td>430.0</td>\n",
       "      <td>144.0</td>\n",
       "      <td>9.0</td>\n",
       "      <td>5.0</td>\n",
       "      <td>...</td>\n",
       "      <td>786.0</td>\n",
       "      <td>228.0</td>\n",
       "      <td>27542.0</td>\n",
       "      <td>28.0</td>\n",
       "      <td>4.0</td>\n",
       "      <td>522.0</td>\n",
       "      <td>0.0</td>\n",
       "      <td>29.0</td>\n",
       "      <td>13.0</td>\n",
       "      <td>2015-2016</td>\n",
       "    </tr>\n",
       "    <tr>\n",
       "      <th>205</th>\n",
       "      <td>Manchester United</td>\n",
       "      <td>18.0</td>\n",
       "      <td>5.0</td>\n",
       "      <td>54.0</td>\n",
       "      <td>78.0</td>\n",
       "      <td>2.0</td>\n",
       "      <td>591.0</td>\n",
       "      <td>210.0</td>\n",
       "      <td>19.0</td>\n",
       "      <td>9.0</td>\n",
       "      <td>...</td>\n",
       "      <td>848.0</td>\n",
       "      <td>217.0</td>\n",
       "      <td>28119.0</td>\n",
       "      <td>50.0</td>\n",
       "      <td>1.0</td>\n",
       "      <td>389.0</td>\n",
       "      <td>1.0</td>\n",
       "      <td>32.0</td>\n",
       "      <td>4.0</td>\n",
       "      <td>2016-2017</td>\n",
       "    </tr>\n",
       "    <tr>\n",
       "      <th>221</th>\n",
       "      <td>Manchester United</td>\n",
       "      <td>25.0</td>\n",
       "      <td>7.0</td>\n",
       "      <td>68.0</td>\n",
       "      <td>64.0</td>\n",
       "      <td>1.0</td>\n",
       "      <td>512.0</td>\n",
       "      <td>178.0</td>\n",
       "      <td>16.0</td>\n",
       "      <td>12.0</td>\n",
       "      <td>...</td>\n",
       "      <td>753.0</td>\n",
       "      <td>220.0</td>\n",
       "      <td>27525.0</td>\n",
       "      <td>42.0</td>\n",
       "      <td>4.0</td>\n",
       "      <td>399.0</td>\n",
       "      <td>0.0</td>\n",
       "      <td>20.0</td>\n",
       "      <td>6.0</td>\n",
       "      <td>2017-2018</td>\n",
       "    </tr>\n",
       "  </tbody>\n",
       "</table>\n",
       "<p>12 rows × 42 columns</p>\n",
       "</div>"
      ],
      "text/plain": [
       "                  team  wins  losses  goals  total_yel_card  total_red_card  \\\n",
       "0    Manchester United  28.0     5.0   83.0            60.0             1.0   \n",
       "20   Manchester United  27.0     5.0   80.0            51.0             2.0   \n",
       "40   Manchester United  28.0     4.0   68.0            61.0             5.0   \n",
       "61   Manchester United  27.0     7.0   86.0            49.0             4.0   \n",
       "80   Manchester United  23.0     4.0   78.0            56.0             3.0   \n",
       "101  Manchester United  28.0     5.0   89.0            51.0             1.0   \n",
       "120  Manchester United  28.0     5.0   86.0            57.0             1.0   \n",
       "146  Manchester United  19.0    12.0   64.0            66.0             3.0   \n",
       "163  Manchester United  20.0     8.0   62.0            64.0             5.0   \n",
       "183  Manchester United  19.0    10.0   49.0            65.0             1.0   \n",
       "205  Manchester United  18.0     5.0   54.0            78.0             2.0   \n",
       "221  Manchester United  25.0     7.0   68.0            64.0             1.0   \n",
       "\n",
       "     total_scoring_att  ontarget_scoring_att  hit_woodwork  att_hd_goal  ...  \\\n",
       "0                698.0                 256.0          21.0         12.0  ...   \n",
       "20               696.0                 260.0          16.0         12.0  ...   \n",
       "40               715.0                 230.0           9.0          7.0  ...   \n",
       "61               695.0                 221.0          12.0         14.0  ...   \n",
       "80               618.0                 212.0          15.0         18.0  ...   \n",
       "101              646.0                 243.0          17.0         16.0  ...   \n",
       "120              561.0                 213.0          24.0         14.0  ...   \n",
       "146              526.0                 183.0          16.0         10.0  ...   \n",
       "163              512.0                 180.0          11.0         12.0  ...   \n",
       "183              430.0                 144.0           9.0          5.0  ...   \n",
       "205              591.0                 210.0          19.0          9.0  ...   \n",
       "221              512.0                 178.0          16.0         12.0  ...   \n",
       "\n",
       "     total_cross  corner_taken  touches  big_chance_missed  \\\n",
       "0          918.0         258.0  25686.0                NaN   \n",
       "20         936.0         261.0  26620.0                NaN   \n",
       "40        1039.0         257.0  30077.0                NaN   \n",
       "61        1156.0         297.0  28968.0                NaN   \n",
       "80        1005.0         243.0  26671.0               50.0   \n",
       "101       1018.0         279.0  28113.0               64.0   \n",
       "120        962.0         218.0  27264.0               65.0   \n",
       "146       1000.0         216.0  27367.0               38.0   \n",
       "163        908.0         214.0  29044.0               43.0   \n",
       "183        786.0         228.0  27542.0               28.0   \n",
       "205        848.0         217.0  28119.0               50.0   \n",
       "221        753.0         220.0  27525.0               42.0   \n",
       "\n",
       "     clearance_off_line  dispossessed  penalty_save  total_high_claim  \\\n",
       "0                   1.0           NaN           2.0              37.0   \n",
       "20                 10.0         627.0           0.0              47.0   \n",
       "40                  3.0         579.0           0.0              56.0   \n",
       "61                  2.0         622.0           0.0              65.0   \n",
       "80                  2.0         471.0           0.0              45.0   \n",
       "101                 3.0         521.0           1.0              37.0   \n",
       "120                 5.0         506.0           0.0              38.0   \n",
       "146                 1.0         491.0           0.0              32.0   \n",
       "163                 5.0         393.0           1.0              33.0   \n",
       "183                 4.0         522.0           0.0              29.0   \n",
       "205                 1.0         389.0           1.0              32.0   \n",
       "221                 4.0         399.0           0.0              20.0   \n",
       "\n",
       "     punches     season  \n",
       "0       25.0  2006-2007  \n",
       "20      23.0  2007-2008  \n",
       "40      22.0  2008-2009  \n",
       "61      18.0  2009-2010  \n",
       "80      16.0  2010-2011  \n",
       "101     26.0  2011-2012  \n",
       "120     28.0  2012-2013  \n",
       "146     14.0  2013-2014  \n",
       "163      7.0  2014-2015  \n",
       "183     13.0  2015-2016  \n",
       "205      4.0  2016-2017  \n",
       "221      6.0  2017-2018  \n",
       "\n",
       "[12 rows x 42 columns]"
      ]
     },
     "execution_count": 258,
     "metadata": {},
     "output_type": "execute_result"
    }
   ],
   "source": [
    "MU"
   ]
  },
  {
   "cell_type": "code",
   "execution_count": 259,
   "metadata": {},
   "outputs": [],
   "source": [
    "le = preprocessing.LabelEncoder()"
   ]
  },
  {
   "cell_type": "code",
   "execution_count": 260,
   "metadata": {},
   "outputs": [],
   "source": [
    "MU_red = MU.loc[0:, [\"total_red_card\"]]"
   ]
  },
  {
   "cell_type": "code",
   "execution_count": 276,
   "metadata": {},
   "outputs": [],
   "source": [
    "MU_red2= np.array(MU_red)"
   ]
  },
  {
   "cell_type": "code",
   "execution_count": 277,
   "metadata": {},
   "outputs": [
    {
     "name": "stdout",
     "output_type": "stream",
     "text": [
      "[0 1 4 3 2 0 0 2 4 0 1 0]\n"
     ]
    }
   ],
   "source": [
    "red_encoded = le.fit_transform(MU_red2)\n",
    "print(red_encoded)"
   ]
  },
  {
   "cell_type": "code",
   "execution_count": 267,
   "metadata": {},
   "outputs": [],
   "source": [
    "MU_pen = MU.loc[0:, [\"penalty_save\"]]"
   ]
  },
  {
   "cell_type": "code",
   "execution_count": 268,
   "metadata": {},
   "outputs": [],
   "source": [
    "MU_pen2= np.array(MU_pen)"
   ]
  },
  {
   "cell_type": "code",
   "execution_count": 278,
   "metadata": {},
   "outputs": [
    {
     "name": "stdout",
     "output_type": "stream",
     "text": [
      "[2 0 0 0 0 1 0 0 1 0 1 0]\n"
     ]
    }
   ],
   "source": [
    "pen_encoded = le.fit_transform(MU_pen2)\n",
    "print(pen_encoded)"
   ]
  },
  {
   "cell_type": "code",
   "execution_count": 264,
   "metadata": {},
   "outputs": [],
   "source": [
    "MU_los = MU.loc[0:, [\"losses\"]]"
   ]
  },
  {
   "cell_type": "code",
   "execution_count": 265,
   "metadata": {},
   "outputs": [],
   "source": [
    "MU_los2= np.array(MU_los)"
   ]
  },
  {
   "cell_type": "code",
   "execution_count": 282,
   "metadata": {},
   "outputs": [
    {
     "name": "stdout",
     "output_type": "stream",
     "text": [
      "[1 1 0 2 0 1 1 5 3 4 1 2]\n"
     ]
    },
    {
     "name": "stderr",
     "output_type": "stream",
     "text": [
      "C:\\Users\\ASUS\\anaconda3\\lib\\site-packages\\sklearn\\preprocessing\\_label.py:251: DataConversionWarning: A column-vector y was passed when a 1d array was expected. Please change the shape of y to (n_samples, ), for example using ravel().\n",
      "  y = column_or_1d(y, warn=True)\n"
     ]
    }
   ],
   "source": [
    "los_encoded = le.fit_transform(MU_los2)\n",
    "print(los_encoded)"
   ]
  },
  {
   "cell_type": "code",
   "execution_count": 279,
   "metadata": {},
   "outputs": [
    {
     "data": {
      "text/plain": [
       "[(0, 2),\n",
       " (1, 0),\n",
       " (4, 0),\n",
       " (3, 0),\n",
       " (2, 0),\n",
       " (0, 1),\n",
       " (0, 0),\n",
       " (2, 0),\n",
       " (4, 1),\n",
       " (0, 0),\n",
       " (1, 1),\n",
       " (0, 0)]"
      ]
     },
     "execution_count": 279,
     "metadata": {},
     "output_type": "execute_result"
    }
   ],
   "source": [
    "features = list(zip(red_encoded, pen_encoded)) #ngezip atau gabungin\n",
    "\n",
    "features"
   ]
  },
  {
   "cell_type": "code",
   "execution_count": 280,
   "metadata": {},
   "outputs": [],
   "source": [
    "from sklearn.neighbors import KNeighborsClassifier"
   ]
  },
  {
   "cell_type": "code",
   "execution_count": 283,
   "metadata": {},
   "outputs": [
    {
     "data": {
      "text/plain": [
       "KNeighborsClassifier(algorithm='auto', leaf_size=30, metric='minkowski',\n",
       "                     metric_params=None, n_jobs=None, n_neighbors=3, p=2,\n",
       "                     weights='uniform')"
      ]
     },
     "execution_count": 283,
     "metadata": {},
     "output_type": "execute_result"
    }
   ],
   "source": [
    "model = KNeighborsClassifier(n_neighbors=3)\n",
    "\n",
    "model.fit(features,los_encoded)"
   ]
  },
  {
   "cell_type": "code",
   "execution_count": 284,
   "metadata": {},
   "outputs": [
    {
     "name": "stdout",
     "output_type": "stream",
     "text": [
      "[1]\n"
     ]
    }
   ],
   "source": [
    "print(model.predict([[1,1]])) "
   ]
  },
  {
   "cell_type": "code",
   "execution_count": 294,
   "metadata": {},
   "outputs": [],
   "source": [
    "from sklearn.naive_bayes import GaussianNB"
   ]
  },
  {
   "cell_type": "code",
   "execution_count": 295,
   "metadata": {},
   "outputs": [
    {
     "data": {
      "text/plain": [
       "GaussianNB(priors=None, var_smoothing=1e-09)"
      ]
     },
     "execution_count": 295,
     "metadata": {},
     "output_type": "execute_result"
    }
   ],
   "source": [
    "model = GaussianNB()\n",
    "model.fit(features,los_encoded)"
   ]
  },
  {
   "cell_type": "code",
   "execution_count": 296,
   "metadata": {},
   "outputs": [
    {
     "name": "stdout",
     "output_type": "stream",
     "text": [
      "[1]\n"
     ]
    }
   ],
   "source": [
    "print(model.predict([[0,1]]))"
   ]
  },
  {
   "cell_type": "code",
   "execution_count": 297,
   "metadata": {},
   "outputs": [],
   "source": [
    "import pandas as pd\n",
    "from sklearn.tree import DecisionTreeClassifier\n",
    "from sklearn.model_selection import train_test_split\n",
    "from sklearn import metrics"
   ]
  },
  {
   "cell_type": "code",
   "execution_count": 299,
   "metadata": {},
   "outputs": [
    {
     "name": "stdout",
     "output_type": "stream",
     "text": [
      "<class 'pandas.core.frame.DataFrame'>\n",
      "Int64Index: 12 entries, 0 to 221\n",
      "Data columns (total 42 columns):\n",
      " #   Column                Non-Null Count  Dtype  \n",
      "---  ------                --------------  -----  \n",
      " 0   team                  12 non-null     object \n",
      " 1   wins                  12 non-null     float64\n",
      " 2   losses                12 non-null     float64\n",
      " 3   goals                 12 non-null     float64\n",
      " 4   total_yel_card        12 non-null     float64\n",
      " 5   total_red_card        12 non-null     float64\n",
      " 6   total_scoring_att     12 non-null     float64\n",
      " 7   ontarget_scoring_att  12 non-null     float64\n",
      " 8   hit_woodwork          12 non-null     float64\n",
      " 9   att_hd_goal           12 non-null     float64\n",
      " 10  att_pen_goal          12 non-null     float64\n",
      " 11  att_freekick_goal     12 non-null     float64\n",
      " 12  att_ibox_goal         12 non-null     float64\n",
      " 13  att_obox_goal         12 non-null     float64\n",
      " 14  goal_fastbreak        12 non-null     float64\n",
      " 15  total_offside         12 non-null     float64\n",
      " 16  clean_sheet           12 non-null     float64\n",
      " 17  goals_conceded        12 non-null     float64\n",
      " 18  saves                 11 non-null     float64\n",
      " 19  outfielder_block      12 non-null     float64\n",
      " 20  interception          12 non-null     float64\n",
      " 21  total_tackle          12 non-null     float64\n",
      " 22  last_man_tackle       12 non-null     float64\n",
      " 23  total_clearance       12 non-null     float64\n",
      " 24  head_clearance        11 non-null     float64\n",
      " 25  own_goals             12 non-null     float64\n",
      " 26  penalty_conceded      12 non-null     float64\n",
      " 27  pen_goals_conceded    12 non-null     float64\n",
      " 28  total_pass            12 non-null     float64\n",
      " 29  total_through_ball    11 non-null     float64\n",
      " 30  total_long_balls      12 non-null     float64\n",
      " 31  backward_pass         8 non-null      float64\n",
      " 32  total_cross           12 non-null     float64\n",
      " 33  corner_taken          12 non-null     float64\n",
      " 34  touches               12 non-null     float64\n",
      " 35  big_chance_missed     8 non-null      float64\n",
      " 36  clearance_off_line    12 non-null     float64\n",
      " 37  dispossessed          11 non-null     float64\n",
      " 38  penalty_save          12 non-null     float64\n",
      " 39  total_high_claim      12 non-null     float64\n",
      " 40  punches               12 non-null     float64\n",
      " 41  season                12 non-null     object \n",
      "dtypes: float64(40), object(2)\n",
      "memory usage: 4.3+ KB\n"
     ]
    }
   ],
   "source": [
    "MU.info()"
   ]
  },
  {
   "cell_type": "code",
   "execution_count": 320,
   "metadata": {},
   "outputs": [
    {
     "data": {
      "text/plain": [
       "team                    0\n",
       "wins                    0\n",
       "losses                  0\n",
       "goals                   0\n",
       "total_yel_card          0\n",
       "total_red_card          0\n",
       "total_scoring_att       0\n",
       "ontarget_scoring_att    0\n",
       "hit_woodwork            0\n",
       "att_hd_goal             0\n",
       "att_pen_goal            0\n",
       "att_freekick_goal       0\n",
       "att_ibox_goal           0\n",
       "att_obox_goal           0\n",
       "goal_fastbreak          0\n",
       "total_offside           0\n",
       "clean_sheet             0\n",
       "goals_conceded          0\n",
       "saves                   1\n",
       "outfielder_block        0\n",
       "interception            0\n",
       "total_tackle            0\n",
       "last_man_tackle         0\n",
       "total_clearance         0\n",
       "head_clearance          1\n",
       "own_goals               0\n",
       "penalty_conceded        0\n",
       "pen_goals_conceded      0\n",
       "total_pass              0\n",
       "total_through_ball      1\n",
       "total_long_balls        0\n",
       "backward_pass           4\n",
       "total_cross             0\n",
       "corner_taken            0\n",
       "touches                 0\n",
       "big_chance_missed       4\n",
       "clearance_off_line      0\n",
       "dispossessed            1\n",
       "penalty_save            0\n",
       "total_high_claim        0\n",
       "punches                 0\n",
       "season                  0\n",
       "dtype: int64"
      ]
     },
     "execution_count": 320,
     "metadata": {},
     "output_type": "execute_result"
    }
   ],
   "source": [
    "MU.isnull().sum()"
   ]
  },
  {
   "cell_type": "code",
   "execution_count": 321,
   "metadata": {},
   "outputs": [
    {
     "name": "stderr",
     "output_type": "stream",
     "text": [
      "C:\\Users\\ASUS\\anaconda3\\lib\\site-packages\\pandas\\core\\generic.py:6245: SettingWithCopyWarning: \n",
      "A value is trying to be set on a copy of a slice from a DataFrame\n",
      "\n",
      "See the caveats in the documentation: https://pandas.pydata.org/pandas-docs/stable/user_guide/indexing.html#returning-a-view-versus-a-copy\n",
      "  self._update_inplace(new_data)\n"
     ]
    }
   ],
   "source": [
    "MU.fillna(MU.mean(), inplace=True)"
   ]
  },
  {
   "cell_type": "code",
   "execution_count": 322,
   "metadata": {},
   "outputs": [
    {
     "data": {
      "text/plain": [
       "team                    0\n",
       "wins                    0\n",
       "losses                  0\n",
       "goals                   0\n",
       "total_yel_card          0\n",
       "total_red_card          0\n",
       "total_scoring_att       0\n",
       "ontarget_scoring_att    0\n",
       "hit_woodwork            0\n",
       "att_hd_goal             0\n",
       "att_pen_goal            0\n",
       "att_freekick_goal       0\n",
       "att_ibox_goal           0\n",
       "att_obox_goal           0\n",
       "goal_fastbreak          0\n",
       "total_offside           0\n",
       "clean_sheet             0\n",
       "goals_conceded          0\n",
       "saves                   0\n",
       "outfielder_block        0\n",
       "interception            0\n",
       "total_tackle            0\n",
       "last_man_tackle         0\n",
       "total_clearance         0\n",
       "head_clearance          0\n",
       "own_goals               0\n",
       "penalty_conceded        0\n",
       "pen_goals_conceded      0\n",
       "total_pass              0\n",
       "total_through_ball      0\n",
       "total_long_balls        0\n",
       "backward_pass           0\n",
       "total_cross             0\n",
       "corner_taken            0\n",
       "touches                 0\n",
       "big_chance_missed       0\n",
       "clearance_off_line      0\n",
       "dispossessed            0\n",
       "penalty_save            0\n",
       "total_high_claim        0\n",
       "punches                 0\n",
       "season                  0\n",
       "dtype: int64"
      ]
     },
     "execution_count": 322,
     "metadata": {},
     "output_type": "execute_result"
    }
   ],
   "source": [
    "MU.isnull().sum()"
   ]
  },
  {
   "cell_type": "code",
   "execution_count": 323,
   "metadata": {},
   "outputs": [],
   "source": [
    "X=MU.drop('season',1)\n",
    "y=MU.season"
   ]
  },
  {
   "cell_type": "code",
   "execution_count": 324,
   "metadata": {},
   "outputs": [],
   "source": [
    "X = MU.drop(['team', 'season'], 1)"
   ]
  },
  {
   "cell_type": "code",
   "execution_count": 325,
   "metadata": {},
   "outputs": [],
   "source": [
    "X=pd.get_dummies(X)"
   ]
  },
  {
   "cell_type": "code",
   "execution_count": 326,
   "metadata": {},
   "outputs": [
    {
     "data": {
      "text/html": [
       "<div>\n",
       "<style scoped>\n",
       "    .dataframe tbody tr th:only-of-type {\n",
       "        vertical-align: middle;\n",
       "    }\n",
       "\n",
       "    .dataframe tbody tr th {\n",
       "        vertical-align: top;\n",
       "    }\n",
       "\n",
       "    .dataframe thead th {\n",
       "        text-align: right;\n",
       "    }\n",
       "</style>\n",
       "<table border=\"1\" class=\"dataframe\">\n",
       "  <thead>\n",
       "    <tr style=\"text-align: right;\">\n",
       "      <th></th>\n",
       "      <th>wins</th>\n",
       "      <th>losses</th>\n",
       "      <th>goals</th>\n",
       "      <th>total_yel_card</th>\n",
       "      <th>total_red_card</th>\n",
       "      <th>total_scoring_att</th>\n",
       "      <th>ontarget_scoring_att</th>\n",
       "      <th>hit_woodwork</th>\n",
       "      <th>att_hd_goal</th>\n",
       "      <th>att_pen_goal</th>\n",
       "      <th>...</th>\n",
       "      <th>backward_pass</th>\n",
       "      <th>total_cross</th>\n",
       "      <th>corner_taken</th>\n",
       "      <th>touches</th>\n",
       "      <th>big_chance_missed</th>\n",
       "      <th>clearance_off_line</th>\n",
       "      <th>dispossessed</th>\n",
       "      <th>penalty_save</th>\n",
       "      <th>total_high_claim</th>\n",
       "      <th>punches</th>\n",
       "    </tr>\n",
       "  </thead>\n",
       "  <tbody>\n",
       "    <tr>\n",
       "      <th>0</th>\n",
       "      <td>28.0</td>\n",
       "      <td>5.0</td>\n",
       "      <td>83.0</td>\n",
       "      <td>60.0</td>\n",
       "      <td>1.0</td>\n",
       "      <td>698.0</td>\n",
       "      <td>256.0</td>\n",
       "      <td>21.0</td>\n",
       "      <td>12.0</td>\n",
       "      <td>5.0</td>\n",
       "      <td>...</td>\n",
       "      <td>2941.75</td>\n",
       "      <td>918.0</td>\n",
       "      <td>258.0</td>\n",
       "      <td>25686.0</td>\n",
       "      <td>47.5</td>\n",
       "      <td>1.0</td>\n",
       "      <td>501.818182</td>\n",
       "      <td>2.0</td>\n",
       "      <td>37.0</td>\n",
       "      <td>25.0</td>\n",
       "    </tr>\n",
       "    <tr>\n",
       "      <th>20</th>\n",
       "      <td>27.0</td>\n",
       "      <td>5.0</td>\n",
       "      <td>80.0</td>\n",
       "      <td>51.0</td>\n",
       "      <td>2.0</td>\n",
       "      <td>696.0</td>\n",
       "      <td>260.0</td>\n",
       "      <td>16.0</td>\n",
       "      <td>12.0</td>\n",
       "      <td>6.0</td>\n",
       "      <td>...</td>\n",
       "      <td>2941.75</td>\n",
       "      <td>936.0</td>\n",
       "      <td>261.0</td>\n",
       "      <td>26620.0</td>\n",
       "      <td>47.5</td>\n",
       "      <td>10.0</td>\n",
       "      <td>627.000000</td>\n",
       "      <td>0.0</td>\n",
       "      <td>47.0</td>\n",
       "      <td>23.0</td>\n",
       "    </tr>\n",
       "    <tr>\n",
       "      <th>40</th>\n",
       "      <td>28.0</td>\n",
       "      <td>4.0</td>\n",
       "      <td>68.0</td>\n",
       "      <td>61.0</td>\n",
       "      <td>5.0</td>\n",
       "      <td>715.0</td>\n",
       "      <td>230.0</td>\n",
       "      <td>9.0</td>\n",
       "      <td>7.0</td>\n",
       "      <td>4.0</td>\n",
       "      <td>...</td>\n",
       "      <td>2941.75</td>\n",
       "      <td>1039.0</td>\n",
       "      <td>257.0</td>\n",
       "      <td>30077.0</td>\n",
       "      <td>47.5</td>\n",
       "      <td>3.0</td>\n",
       "      <td>579.000000</td>\n",
       "      <td>0.0</td>\n",
       "      <td>56.0</td>\n",
       "      <td>22.0</td>\n",
       "    </tr>\n",
       "    <tr>\n",
       "      <th>61</th>\n",
       "      <td>27.0</td>\n",
       "      <td>7.0</td>\n",
       "      <td>86.0</td>\n",
       "      <td>49.0</td>\n",
       "      <td>4.0</td>\n",
       "      <td>695.0</td>\n",
       "      <td>221.0</td>\n",
       "      <td>12.0</td>\n",
       "      <td>14.0</td>\n",
       "      <td>6.0</td>\n",
       "      <td>...</td>\n",
       "      <td>2941.75</td>\n",
       "      <td>1156.0</td>\n",
       "      <td>297.0</td>\n",
       "      <td>28968.0</td>\n",
       "      <td>47.5</td>\n",
       "      <td>2.0</td>\n",
       "      <td>622.000000</td>\n",
       "      <td>0.0</td>\n",
       "      <td>65.0</td>\n",
       "      <td>18.0</td>\n",
       "    </tr>\n",
       "    <tr>\n",
       "      <th>80</th>\n",
       "      <td>23.0</td>\n",
       "      <td>4.0</td>\n",
       "      <td>78.0</td>\n",
       "      <td>56.0</td>\n",
       "      <td>3.0</td>\n",
       "      <td>618.0</td>\n",
       "      <td>212.0</td>\n",
       "      <td>15.0</td>\n",
       "      <td>18.0</td>\n",
       "      <td>3.0</td>\n",
       "      <td>...</td>\n",
       "      <td>2411.00</td>\n",
       "      <td>1005.0</td>\n",
       "      <td>243.0</td>\n",
       "      <td>26671.0</td>\n",
       "      <td>50.0</td>\n",
       "      <td>2.0</td>\n",
       "      <td>471.000000</td>\n",
       "      <td>0.0</td>\n",
       "      <td>45.0</td>\n",
       "      <td>16.0</td>\n",
       "    </tr>\n",
       "  </tbody>\n",
       "</table>\n",
       "<p>5 rows × 40 columns</p>\n",
       "</div>"
      ],
      "text/plain": [
       "    wins  losses  goals  total_yel_card  total_red_card  total_scoring_att  \\\n",
       "0   28.0     5.0   83.0            60.0             1.0              698.0   \n",
       "20  27.0     5.0   80.0            51.0             2.0              696.0   \n",
       "40  28.0     4.0   68.0            61.0             5.0              715.0   \n",
       "61  27.0     7.0   86.0            49.0             4.0              695.0   \n",
       "80  23.0     4.0   78.0            56.0             3.0              618.0   \n",
       "\n",
       "    ontarget_scoring_att  hit_woodwork  att_hd_goal  att_pen_goal  ...  \\\n",
       "0                  256.0          21.0         12.0           5.0  ...   \n",
       "20                 260.0          16.0         12.0           6.0  ...   \n",
       "40                 230.0           9.0          7.0           4.0  ...   \n",
       "61                 221.0          12.0         14.0           6.0  ...   \n",
       "80                 212.0          15.0         18.0           3.0  ...   \n",
       "\n",
       "    backward_pass  total_cross  corner_taken  touches  big_chance_missed  \\\n",
       "0         2941.75        918.0         258.0  25686.0               47.5   \n",
       "20        2941.75        936.0         261.0  26620.0               47.5   \n",
       "40        2941.75       1039.0         257.0  30077.0               47.5   \n",
       "61        2941.75       1156.0         297.0  28968.0               47.5   \n",
       "80        2411.00       1005.0         243.0  26671.0               50.0   \n",
       "\n",
       "    clearance_off_line  dispossessed  penalty_save  total_high_claim  punches  \n",
       "0                  1.0    501.818182           2.0              37.0     25.0  \n",
       "20                10.0    627.000000           0.0              47.0     23.0  \n",
       "40                 3.0    579.000000           0.0              56.0     22.0  \n",
       "61                 2.0    622.000000           0.0              65.0     18.0  \n",
       "80                 2.0    471.000000           0.0              45.0     16.0  \n",
       "\n",
       "[5 rows x 40 columns]"
      ]
     },
     "execution_count": 326,
     "metadata": {},
     "output_type": "execute_result"
    }
   ],
   "source": [
    "X.head()"
   ]
  },
  {
   "cell_type": "code",
   "execution_count": 327,
   "metadata": {},
   "outputs": [],
   "source": [
    "from sklearn.model_selection import train_test_split"
   ]
  },
  {
   "cell_type": "code",
   "execution_count": 328,
   "metadata": {},
   "outputs": [],
   "source": [
    "X_train, X_test, y_train, y_test = train_test_split(X, y, test_size=0.2)"
   ]
  },
  {
   "cell_type": "code",
   "execution_count": 329,
   "metadata": {},
   "outputs": [],
   "source": [
    "from sklearn.metrics import accuracy_score\n",
    "from sklearn.metrics import confusion_matrix"
   ]
  },
  {
   "cell_type": "code",
   "execution_count": 330,
   "metadata": {},
   "outputs": [
    {
     "name": "stderr",
     "output_type": "stream",
     "text": [
      "C:\\Users\\ASUS\\anaconda3\\lib\\site-packages\\sklearn\\linear_model\\_logistic.py:940: ConvergenceWarning: lbfgs failed to converge (status=1):\n",
      "STOP: TOTAL NO. of ITERATIONS REACHED LIMIT.\n",
      "\n",
      "Increase the number of iterations (max_iter) or scale the data as shown in:\n",
      "    https://scikit-learn.org/stable/modules/preprocessing.html\n",
      "Please also refer to the documentation for alternative solver options:\n",
      "    https://scikit-learn.org/stable/modules/linear_model.html#logistic-regression\n",
      "  extra_warning_msg=_LOGISTIC_SOLVER_CONVERGENCE_MSG)\n"
     ]
    }
   ],
   "source": [
    "# Logistic Regression\n",
    "\n",
    "from sklearn.linear_model import LogisticRegression\n",
    "\n",
    "LogisticModel = LogisticRegression()\n",
    "\n",
    "LogisticModel.fit(X_train, y_train)\n",
    "\n",
    "pred_LR = LogisticModel.predict(X_test)"
   ]
  },
  {
   "cell_type": "code",
   "execution_count": 331,
   "metadata": {},
   "outputs": [
    {
     "name": "stdout",
     "output_type": "stream",
     "text": [
      "Accurary  0.0\n",
      "[[0 0 0 0 0 1]\n",
      " [0 0 1 0 0 0]\n",
      " [0 0 0 0 0 0]\n",
      " [0 0 0 0 0 0]\n",
      " [0 0 0 1 0 0]\n",
      " [0 0 0 0 0 0]]\n"
     ]
    }
   ],
   "source": [
    "print(\"Accurary \", accuracy_score(y_test, pred_LR))\n",
    "print(confusion_matrix(y_test, pred_LR))"
   ]
  },
  {
   "cell_type": "code",
   "execution_count": 332,
   "metadata": {},
   "outputs": [],
   "source": [
    "# KNN\n",
    "\n",
    "from sklearn.neighbors import KNeighborsClassifier\n",
    "\n",
    "KNClass = KNeighborsClassifier()\n",
    "\n",
    "KNClass.fit(X_train, y_train)\n",
    "\n",
    "pred_KNN = KNClass.predict(X_test)"
   ]
  },
  {
   "cell_type": "code",
   "execution_count": 333,
   "metadata": {},
   "outputs": [
    {
     "name": "stdout",
     "output_type": "stream",
     "text": [
      "Accurary  0.0\n",
      "[[0 1 0 0 0]\n",
      " [0 0 0 0 0]\n",
      " [0 1 0 0 0]\n",
      " [0 0 0 0 0]\n",
      " [0 0 0 1 0]]\n"
     ]
    }
   ],
   "source": [
    "# KNN Accuracy\n",
    "\n",
    "print(\"Accurary \", accuracy_score(y_test, pred_KNN))\n",
    "print(confusion_matrix(y_test, pred_KNN))"
   ]
  },
  {
   "cell_type": "code",
   "execution_count": 334,
   "metadata": {},
   "outputs": [],
   "source": [
    "# Naive Bayes\n",
    "\n",
    "from sklearn.naive_bayes import GaussianNB\n",
    "\n",
    "GaussNB = GaussianNB()\n",
    "\n",
    "GaussNB.fit(X_train, y_train)\n",
    "\n",
    "pred_NB = GaussNB.predict(X_test)"
   ]
  },
  {
   "cell_type": "code",
   "execution_count": 335,
   "metadata": {},
   "outputs": [
    {
     "name": "stdout",
     "output_type": "stream",
     "text": [
      "Accurary  0.0\n",
      "[[0 0 1 0 0]\n",
      " [0 0 1 0 0]\n",
      " [0 0 0 0 0]\n",
      " [0 0 0 0 1]\n",
      " [0 0 0 0 0]]\n"
     ]
    }
   ],
   "source": [
    "# Naive Accuracy\n",
    "\n",
    "print(\"Accurary \", accuracy_score(y_test, pred_NB))\n",
    "print(confusion_matrix(y_test, pred_NB))"
   ]
  },
  {
   "cell_type": "code",
   "execution_count": 336,
   "metadata": {},
   "outputs": [],
   "source": [
    "# Decision Tree\n",
    "\n",
    "from sklearn.tree import DecisionTreeClassifier\n",
    "\n",
    "DesTree = DecisionTreeClassifier()\n",
    "\n",
    "DesTree.fit(X_train, y_train)\n",
    "\n",
    "pred_DT = DesTree.predict(X_test)"
   ]
  },
  {
   "cell_type": "code",
   "execution_count": 337,
   "metadata": {},
   "outputs": [
    {
     "name": "stdout",
     "output_type": "stream",
     "text": [
      "Accurary  0.0\n",
      "[[0 1 0 0 0 0]\n",
      " [0 0 0 0 0 0]\n",
      " [0 0 0 1 0 0]\n",
      " [0 0 0 0 0 0]\n",
      " [0 0 0 0 0 1]\n",
      " [0 0 0 0 0 0]]\n"
     ]
    }
   ],
   "source": [
    "# Decission TreeAccuracy\n",
    "\n",
    "print(\"Accurary \", accuracy_score(y_test, pred_DT))\n",
    "print(confusion_matrix(y_test, pred_DT))"
   ]
  },
  {
   "cell_type": "code",
   "execution_count": 338,
   "metadata": {},
   "outputs": [
    {
     "name": "stdout",
     "output_type": "stream",
     "text": [
      "Accurary  0.0\n",
      "[[0 1 0 0 0 0]\n",
      " [0 0 0 0 0 0]\n",
      " [0 0 0 0 0 0]\n",
      " [0 0 1 0 0 0]\n",
      " [0 0 0 0 0 1]\n",
      " [0 0 0 0 0 0]]\n"
     ]
    }
   ],
   "source": [
    "# Random Forest \n",
    "from sklearn.ensemble import RandomForestClassifier\n",
    "\n",
    "RandForest = RandomForestClassifier()\n",
    "\n",
    "RandForest.fit(X_train, y_train)\n",
    "\n",
    "pred_RF = RandForest.predict(X_test)\n",
    "\n",
    "#Random Forest Accuracy \n",
    "print(\"Accurary \", accuracy_score(y_test, pred_RF))\n",
    "print(confusion_matrix(y_test, pred_RF))"
   ]
  },
  {
   "cell_type": "code",
   "execution_count": 339,
   "metadata": {},
   "outputs": [
    {
     "name": "stdout",
     "output_type": "stream",
     "text": [
      "Accurary  0.0\n",
      "[[0 0 1 0 0]\n",
      " [0 0 1 0 0]\n",
      " [0 0 0 0 0]\n",
      " [0 0 0 0 1]\n",
      " [0 0 0 0 0]]\n"
     ]
    }
   ],
   "source": [
    "# SVM \n",
    "\n",
    "from sklearn.svm import SVC\n",
    "\n",
    "SVMModel = SVC()\n",
    "SVMModel.fit(X_train, y_train)\n",
    "pred_SVM = SVMModel.predict(X_test)\n",
    "\n",
    "# Accuracy\n",
    "print(\"Accurary \", accuracy_score(y_test, pred_SVM))\n",
    "print(confusion_matrix(y_test, pred_SVM))"
   ]
  },
  {
   "cell_type": "code",
   "execution_count": 340,
   "metadata": {},
   "outputs": [
    {
     "name": "stdout",
     "output_type": "stream",
     "text": [
      "Logistic Regression:  0.0\n",
      "KNN:  0.0\n",
      "Naive Bayes:  0.0\n",
      "Decision Tree:  0.0\n",
      "Random Forest:  0.0\n",
      "SVM:  0.0\n"
     ]
    }
   ],
   "source": [
    "print(\"Logistic Regression: \", accuracy_score(y_test, pred_LR))\n",
    "print(\"KNN: \", accuracy_score(y_test, pred_KNN))\n",
    "print(\"Naive Bayes: \", accuracy_score(y_test, pred_NB))\n",
    "print(\"Decision Tree: \", accuracy_score(y_test, pred_DT))\n",
    "print(\"Random Forest: \", accuracy_score(y_test, pred_RF))\n",
    "print(\"SVM: \", accuracy_score(y_test, pred_SVM))"
   ]
  },
  {
   "cell_type": "code",
   "execution_count": null,
   "metadata": {},
   "outputs": [],
   "source": []
  }
 ],
 "metadata": {
  "kernelspec": {
   "display_name": "Python 3",
   "language": "python",
   "name": "python3"
  },
  "language_info": {
   "codemirror_mode": {
    "name": "ipython",
    "version": 3
   },
   "file_extension": ".py",
   "mimetype": "text/x-python",
   "name": "python",
   "nbconvert_exporter": "python",
   "pygments_lexer": "ipython3",
   "version": "3.7.6"
  }
 },
 "nbformat": 4,
 "nbformat_minor": 4
}
